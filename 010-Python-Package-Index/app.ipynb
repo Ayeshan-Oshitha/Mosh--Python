{
 "cells": [
  {
   "cell_type": "markdown",
   "metadata": {},
   "source": [
    "# Pypi\n",
    "\n",
    "PyPI stands for Python Package Index. It is a repository of software packages for the Python programming language. PyPI allows developers to share and download reusable code in the form of packages and libraries.\n",
    "\n",
    "It is similar to npm in Node.js and NuGet in .NET."
   ]
  },
  {
   "cell_type": "markdown",
   "metadata": {},
   "source": [
    "# Pip\n",
    "\n",
    "pip is the package installer for Python. It is used to install, update, and uninstall Python packages from PyPI.\n",
    "\n",
    "`pip install package-name` -: Install a package\n",
    "\n",
    "`pip install package-name==1.2.3` -:  Install a specific version\n",
    "\n",
    "`pip install --upgrade package-name` -: Upgrade a package\n",
    "\n",
    "`pip uninstall package-name` -: Uninstall a package\n",
    "\n",
    "`pip list` -: Check installed packages"
   ]
  },
  {
   "cell_type": "markdown",
   "metadata": {},
   "source": [
    "# Virtual Environments\n",
    "\n",
    "A **virtual environment** is a self-contained folder where you can install Python packages separately from the global Python installation. It helps keep projects isolated and avoid version conflicts.\n",
    "\n",
    "##### Why Use a Virtual Environment?\n",
    "\n",
    "- Keeps project dependencies separate  \n",
    "- Avoids version conflicts between packages  \n",
    "- Makes your project easier to manage and share\n",
    "\n",
    "\n",
    "`python -m venv env` - Create a virtual environment\n",
    "\n",
    "`env\\Scripts\\activate` - Activate the virtual environment\n",
    "\n",
    "`deactivate` -  Deactivate the virtual environment"
   ]
  },
  {
   "cell_type": "markdown",
   "metadata": {},
   "source": [
    "# Pipenv\n",
    "\n",
    "**`pipenv`** is a tool that combines `pip` and `virtualenv` into one. It helps manage project dependencies and automatically creates a virtual environment.\n",
    "\n",
    "#### Why use pipenv?\n",
    "\n",
    "- Automatically creates and manages virtual environments\n",
    "- Keeps dependencies tracked in `Pipfile` and `Pipfile.lock`\n",
    "- Simplifies dependency management\n",
    "\n",
    "`pip install pipenv` - Install pipenv (only need to install pipenv once globally on your system )\n",
    "\n",
    "`pipenv install package-name` -  Create and activate a virtual environment (if needed), installs the specified package, and adds it to the *Pipfile*.\n",
    "\n",
    "`pipenv install` - creates a virtual environment (if needed) and installs all packages listed in the existing Pipfile, without adding new ones\n",
    "\n",
    "`pipenv shell` - Activate the environment shell\n",
    "\n",
    "`exit` - Deactivate the environment\n",
    "\n",
    "\n",
    "**Pipfile** keeps track of installed packages, and **Pipfile.lock** locks exact versions."
   ]
  },
  {
   "cell_type": "markdown",
   "metadata": {},
   "source": [
    "# Virtual Environments in VSCode\n",
    "\n",
    "When running Python code using **Code Runner** in VSCode, it’s important to use the **virtual environment's Python interpreter** instead of the global Python interpreter."
   ]
  },
  {
   "cell_type": "markdown",
   "metadata": {},
   "source": [
    "# Pipfile\n",
    "\n",
    "##### What is Pipfile?\n",
    "\n",
    "- `Pipfile` is used by **pipenv** to manage project dependencies.\n",
    "- It replaces the old `requirements.txt` file.\n",
    "- It shows which packages your project needs (like `requests`, `flask`, etc.).\n",
    "\n",
    "##### What is Pipfile.lock?\n",
    "\n",
    "- `Pipfile.lock` locks the **exact versions** of packages.\n",
    "- It ensures the same versions are installed every time, even on a different machine.\n",
    "- This helps avoid bugs caused by version changes.\n",
    "\n",
    "##### What does `*` (asterisk) mean?\n",
    "\n",
    "- In `Pipfile`, a `*` means \"install the **latest** compatible version\".\n",
    "  ```toml\n",
    "  [packages]\n",
    "  requests = \"*\"\n",
    "\n",
    "\n",
    "**`pipenv install --ignore-pipfile`** - This tells pipenv to install the exact versions listed in `Pipfile.lock` instead of updating to the latest ones from `Pipfile.`\n",
    "\n"
   ]
  },
  {
   "cell_type": "markdown",
   "metadata": {},
   "source": [
    "# Managing Dependecies\n",
    "\n",
    "Pipenv helps you manage and inspect your Python project dependencies easily.\n",
    "\n",
    "`pipenv graph` - View Installed Packages and Their Tree\n",
    "\n",
    "`pipenv update --outdated` - Check for Outdated Packages\n",
    "\n",
    "`pipenv update` - Update All Packages\n",
    "\n",
    "`pipenv update package-name` - Update a Specific Package"
   ]
  },
  {
   "cell_type": "markdown",
   "metadata": {},
   "source": [
    "# Publishing Packages\n",
    "\n",
    "`python setup.py sdist bdist_wheel` - Generate Packages"
   ]
  },
  {
   "cell_type": "markdown",
   "metadata": {},
   "source": [
    "# Docstring\n",
    "\n",
    "A **docstring** is a special string used to describe what a function, class, or module does.\n",
    "\n",
    "#### Syntax\n",
    "\n",
    "Use triple quotes (`\"\"\" \"\"\"` or `''' '''`) just after defining a function, class, or module."
   ]
  },
  {
   "cell_type": "markdown",
   "metadata": {},
   "source": [
    "# PyDoc\n",
    "\n",
    "**`pydoc`** is a built-in Python tool that generates documentation from your code's docstrings.\n",
    "\n",
    "#### 🛠️ What Can It Do?\n",
    "\n",
    "- Show documentation for **modules, functions, classes, etc.**\n",
    "- Open docs in the **terminal or web browser**\n",
    "- Generate HTML pages for documentation\n",
    "\n",
    "####  Examples\n",
    "\n",
    "```bash\n",
    "# Show help for a module or function in terminal\n",
    "pydoc math\n",
    "pydoc str\n",
    "\n",
    "# View a file's documentation\n",
    "pydoc my_script.py\n",
    "\n",
    "# Generate HTML documentation\n",
    "pydoc -w my_script"
   ]
  }
 ],
 "metadata": {
  "language_info": {
   "name": "python"
  }
 },
 "nbformat": 4,
 "nbformat_minor": 2
}

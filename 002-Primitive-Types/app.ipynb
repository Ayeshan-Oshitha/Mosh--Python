{
 "cells": [
  {
   "cell_type": "markdown",
   "metadata": {},
   "source": [
    "# Variables\n",
    "\n",
    "Pythin is a **Case-Sensitive** language"
   ]
  },
  {
   "cell_type": "code",
   "execution_count": null,
   "metadata": {},
   "outputs": [],
   "source": [
    "students_count = 1000  # integer\n",
    "rating = 4.99  # float\n",
    "is_published = False # boolean\n",
    "course_name = \"Python Programming\" # string"
   ]
  },
  {
   "cell_type": "markdown",
   "metadata": {},
   "source": [
    "- Variables should be descriptive and meaningfull.\n",
    "- It is good to use lower case letters for variable names.\n",
    "- Use underscore to seperate multiple words.\n",
    "- Keep space arould equal(=) sign in variables"
   ]
  },
  {
   "cell_type": "markdown",
   "metadata": {},
   "source": [
    "# Strings\n",
    "\n",
    "You should wrap strings using either single quotes (') or double quotes (\").\n",
    "\n",
    "In some cases, triple quotes (' ' ' or \" \" \") are also used, usually for multi-line strings.\n",
    "\n"
   ]
  },
  {
   "cell_type": "code",
   "execution_count": null,
   "metadata": {},
   "outputs": [],
   "source": [
    "message = \"\"\"\n",
    "\n",
    "Hello,\n",
    "\n",
    "This is a python course\n",
    "\n",
    "Blah Blah Blah\n",
    "\n",
    "\"\"\""
   ]
  },
  {
   "cell_type": "markdown",
   "metadata": {},
   "source": [
    "### Useful Functions of Strings"
   ]
  },
  {
   "cell_type": "code",
   "execution_count": 1,
   "metadata": {},
   "outputs": [
    {
     "name": "stdout",
     "output_type": "stream",
     "text": [
      "18\n"
     ]
    }
   ],
   "source": [
    "# To get the length of string\n",
    "\n",
    "course = \"Python Programming\"\n",
    "print(len(course))"
   ]
  },
  {
   "cell_type": "code",
   "execution_count": 2,
   "metadata": {},
   "outputs": [
    {
     "name": "stdout",
     "output_type": "stream",
     "text": [
      "P\n",
      "h\n",
      "g\n",
      "m\n"
     ]
    }
   ],
   "source": [
    "# Access a specific character in string\n",
    "\n",
    "course = \"Python Programming\"\n",
    "print(course[0])\n",
    "print(course[3])\n",
    "print(course[-1])\n",
    "print(course[-4])"
   ]
  },
  {
   "cell_type": "code",
   "execution_count": 7,
   "metadata": {},
   "outputs": [
    {
     "name": "stdout",
     "output_type": "stream",
     "text": [
      "Pyt\n",
      "thon Programming\n",
      "Python P\n",
      "Python Programming\n"
     ]
    }
   ],
   "source": [
    "# Slice a string\n",
    "\n",
    "course = \"Python Programming\"\n",
    "print(course[0:3])\n",
    "print(course[2:])\n",
    "print(course[:8])\n",
    "print(course[:])"
   ]
  },
  {
   "cell_type": "markdown",
   "metadata": {},
   "source": [
    "# Escape Sequences"
   ]
  },
  {
   "cell_type": "code",
   "execution_count": null,
   "metadata": {},
   "outputs": [
    {
     "name": "stdout",
     "output_type": "stream",
     "text": [
      "Python \"Programming\n",
      "Python \"Programming\n",
      "Python 'Programming\n",
      "Python \\Programming\n"
     ]
    }
   ],
   "source": [
    "# Escape Characters\n",
    "\n",
    "print('Python \"Programming')\n",
    "\n",
    "print(\"Python \\\"Programming\")\n",
    "\n",
    "print('Python \\'Programming')\n",
    "\n",
    "print('Python \\\\Programming')"
   ]
  },
  {
   "cell_type": "code",
   "execution_count": 11,
   "metadata": {},
   "outputs": [
    {
     "name": "stdout",
     "output_type": "stream",
     "text": [
      "Python \n",
      "Programming\n"
     ]
    }
   ],
   "source": [
    "# New Line\n",
    "\n",
    "print('Python \\nProgramming')"
   ]
  },
  {
   "cell_type": "markdown",
   "metadata": {},
   "source": [
    "# Formatted Strings"
   ]
  },
  {
   "cell_type": "code",
   "execution_count": null,
   "metadata": {},
   "outputs": [
    {
     "name": "stdout",
     "output_type": "stream",
     "text": [
      "Mosh Hamedani\n"
     ]
    }
   ],
   "source": [
    "# Concatenate String\n",
    "\n",
    "first = \"Mosh\"\n",
    "last = \"Hamedani\"\n",
    "\n",
    "full = first + \" \" + last\n",
    "print(full)"
   ]
  },
  {
   "cell_type": "code",
   "execution_count": 15,
   "metadata": {},
   "outputs": [
    {
     "name": "stdout",
     "output_type": "stream",
     "text": [
      "Mosh Hamedani\n",
      "4 7\n"
     ]
    }
   ],
   "source": [
    "# Formatted Strings\n",
    "\n",
    "first = \"Mosh\"\n",
    "last = \"Hamedani\"\n",
    "\n",
    "full = f\"{first} {last}\"\n",
    "\n",
    "print(full)\n",
    "\n",
    "full = f\"{len(first)} {3 + 4}\"\n",
    "\n",
    "print(full)"
   ]
  },
  {
   "cell_type": "markdown",
   "metadata": {},
   "source": [
    "# String Methods\n",
    "\n",
    "In Python, everything is an object, and each object has its own methods.\n",
    "\n",
    "When you call a method on a string, it does not change the original string — strings are immutable."
   ]
  },
  {
   "cell_type": "code",
   "execution_count": null,
   "metadata": {},
   "outputs": [
    {
     "name": "stdout",
     "output_type": "stream",
     "text": [
      "Upper : PYTHON PROGRAMMING\n",
      "Lower : python programming\n",
      "Original : Python Programming\n",
      "Title : Python Programming\n",
      "Strip : Python Programming\n"
     ]
    }
   ],
   "source": [
    "# Methods\n",
    "\n",
    "course = \"Python Programming\"\n",
    "\n",
    "print( \"Upper : \" + course.upper())\n",
    "print( \"Lower : \" + course.lower())\n",
    "print( \"Original : \" +course)\n",
    "print( \"Title : \" + course.title())\n",
    "print( \"Strip : \" +  course.strip())   # similar to trim"
   ]
  },
  {
   "cell_type": "code",
   "execution_count": 40,
   "metadata": {},
   "outputs": [
    {
     "name": "stdout",
     "output_type": "stream",
     "text": [
      "Index or Pro : 7\n",
      "Index or pro : -1\n",
      "Replace : Jython Jrogramming\n",
      "True\n",
      "True\n"
     ]
    }
   ],
   "source": [
    "# Methods \n",
    "\n",
    "course = \"Python Programming\"\n",
    "\n",
    "print( \"Index or Pro : \" + str(course.find(\"Pro\")))\n",
    "print( \"Index or pro : \" + str(course.find(\"pro\")))\n",
    "print( \"Replace : \" + course.replace(\"P\", \"J\"))   # Case-Sensitive\n",
    "print(  \"Pro\" in course)   # return boolean # Case-Sensitive\n",
    "print(  \"Swift\" not in course)   # return boolean # Case-Sensitive\n"
   ]
  },
  {
   "cell_type": "markdown",
   "metadata": {},
   "source": [
    "# Numbers\n",
    "\n",
    "In Python, there are 3 types of numbers.\n",
    "1. Integer\n",
    "2. Float\n",
    "3. Complex Numbers"
   ]
  },
  {
   "cell_type": "code",
   "execution_count": 45,
   "metadata": {},
   "outputs": [
    {
     "name": "stdout",
     "output_type": "stream",
     "text": [
      "1\n",
      "2.4\n",
      "(1+2j)\n"
     ]
    },
    {
     "data": {
      "text/plain": [
       "complex"
      ]
     },
     "execution_count": 45,
     "metadata": {},
     "output_type": "execute_result"
    }
   ],
   "source": [
    "# Numbers Types\n",
    "\n",
    "x = 1\n",
    "y = 2.4\n",
    "z = 1 + 2j\n",
    "\n",
    "print(x)\n",
    "print(y)\n",
    "print(z)\n",
    "type(z)"
   ]
  },
  {
   "cell_type": "code",
   "execution_count": null,
   "metadata": {},
   "outputs": [
    {
     "name": "stdout",
     "output_type": "stream",
     "text": [
      "10 + 3 = 13\n",
      "10 + 1 = 9\n",
      "10 * 3 = 30\n",
      "10 / 3 = 3.3333333333333335\n",
      "10 // 3 = 3\n",
      "10 % 3 = 1\n",
      "2 ** 4 = 16\n"
     ]
    }
   ],
   "source": [
    "# Arithmetic Operations\n",
    "\n",
    "print( \"10 + 3 = \" + str(10 + 3))\n",
    "print( \"10 + 1 = \" + str(10 - 1))\n",
    "print( \"10 * 3 = \" + str(10 * 3))\n",
    "print( \"10 / 3 = \" + str(10 / 3)) # float division\n",
    "print( \"10 // 3 = \" + str(10 // 3)) # Integer division\n",
    "print( \"10 % 3 = \" + str(10 % 3)) # modular\n",
    "print( \"2 ** 4 = \" + str(2 ** 4))"
   ]
  },
  {
   "cell_type": "code",
   "execution_count": 50,
   "metadata": {},
   "outputs": [
    {
     "name": "stdout",
     "output_type": "stream",
     "text": [
      "13\n"
     ]
    }
   ],
   "source": [
    "# Augmented Assinments Operators\n",
    "\n",
    "x = 10\n",
    "x += 3\n",
    "print(x)"
   ]
  },
  {
   "cell_type": "markdown",
   "metadata": {},
   "source": [
    "# Working with Numbers"
   ]
  },
  {
   "cell_type": "code",
   "execution_count": 56,
   "metadata": {},
   "outputs": [
    {
     "name": "stdout",
     "output_type": "stream",
     "text": [
      "round : 3\n",
      "Absolue : 2.9\n"
     ]
    }
   ],
   "source": [
    "print( \"round : \" + str(round(2.9)))\n",
    "print( \"Absolue : \" + str(abs(-2.9)))"
   ]
  },
  {
   "cell_type": "code",
   "execution_count": 58,
   "metadata": {},
   "outputs": [
    {
     "name": "stdout",
     "output_type": "stream",
     "text": [
      "Ceil : 3\n",
      "Floor : 2\n"
     ]
    }
   ],
   "source": [
    "# If we need complex mathematical numbers, We should use \"Math\" module\n",
    "\n",
    "import math\n",
    "\n",
    "print( \"Ceil : \" + str(math.ceil(2.2)))\n",
    "print( \"Floor : \" + str(math.floor(2.2)))"
   ]
  },
  {
   "cell_type": "markdown",
   "metadata": {},
   "source": [
    "# Type-Conversion & Input Function\n",
    "\n",
    "Can use Input methods to get inputs from the user\n",
    "\n",
    "`x = input(\"x: \")`\n",
    "\n",
    "##### Converting Methods\n",
    "\n",
    "- int(x)\n",
    "- float(x)\n",
    "- bool(x)\n",
    "- str(x)"
   ]
  },
  {
   "cell_type": "code",
   "execution_count": null,
   "metadata": {},
   "outputs": [],
   "source": [
    "# By default, Every inputs returns as a string , so we should convert them into relevant type\n",
    "\n",
    "# First\n",
    "x = input(\"x: \")\n",
    "y = int(x) + 1\n",
    "print(y)\n",
    "\n",
    "# Second\n",
    "x = input(\"x:\")\n",
    "y = int(x) + 4\n",
    "print(f\"x: {x}, y: {y}\")"
   ]
  },
  {
   "cell_type": "markdown",
   "metadata": {},
   "source": [
    "### Truthy and Falsy Concept\n",
    "\n",
    "Empty string is falsy\n",
    "\n",
    "Number 0 is falsy\n",
    "\n",
    "None object is false\n",
    "\n",
    "Empty list is a false"
   ]
  },
  {
   "cell_type": "code",
   "execution_count": 2,
   "metadata": {},
   "outputs": [
    {
     "name": "stdout",
     "output_type": "stream",
     "text": [
      "False\n",
      "True\n",
      "False\n",
      "True\n",
      "False\n"
     ]
    }
   ],
   "source": [
    "print(bool(0))\n",
    "print(bool(4))\n",
    "\n",
    "print(bool(\"\"))\n",
    "print(bool(\"Hello\"))\n",
    "\n",
    "print(bool(None))"
   ]
  }
 ],
 "metadata": {
  "kernelspec": {
   "display_name": "Python 3",
   "language": "python",
   "name": "python3"
  },
  "language_info": {
   "codemirror_mode": {
    "name": "ipython",
    "version": 3
   },
   "file_extension": ".py",
   "mimetype": "text/x-python",
   "name": "python",
   "nbconvert_exporter": "python",
   "pygments_lexer": "ipython3",
   "version": "3.13.3"
  }
 },
 "nbformat": 4,
 "nbformat_minor": 2
}

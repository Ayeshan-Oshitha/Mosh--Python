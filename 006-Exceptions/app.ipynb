{
 "cells": [
  {
   "cell_type": "markdown",
   "metadata": {},
   "source": [
    "# Exceptions"
   ]
  },
  {
   "cell_type": "code",
   "execution_count": null,
   "metadata": {},
   "outputs": [
    {
     "ename": "IndexError",
     "evalue": "list index out of range",
     "output_type": "error",
     "traceback": [
      "\u001b[31m---------------------------------------------------------------------------\u001b[39m",
      "\u001b[31mIndexError\u001b[39m                                Traceback (most recent call last)",
      "\u001b[36mCell\u001b[39m\u001b[36m \u001b[39m\u001b[32mIn[1]\u001b[39m\u001b[32m, line 2\u001b[39m\n\u001b[32m      1\u001b[39m numbers = [\u001b[32m1\u001b[39m,\u001b[32m2\u001b[39m]\n\u001b[32m----> \u001b[39m\u001b[32m2\u001b[39m \u001b[38;5;28mprint\u001b[39m(\u001b[43mnumbers\u001b[49m\u001b[43m[\u001b[49m\u001b[32;43m3\u001b[39;49m\u001b[43m]\u001b[49m)\n",
      "\u001b[31mIndexError\u001b[39m: list index out of range"
     ]
    }
   ],
   "source": [
    "# Exception example 1\n",
    "\n",
    "numbers = [1,2]\n",
    "print(numbers[3])"
   ]
  },
  {
   "cell_type": "code",
   "execution_count": null,
   "metadata": {},
   "outputs": [],
   "source": [
    "# Exception example 2\n",
    "\n",
    "# Ask the user to input their age\n",
    "# The input() function returns a string, so we need to convert it to an integer\n",
    "age = int(input(\"Age : \"))\n",
    "\n",
    "# If the user types something that is not a valid integer (e.g., a letter like 'a'),\n",
    "# the int() function will raise a ValueError.\n",
    "# Example error:\n",
    "# ValueError: invalid literal for int() with base 10: 'a'"
   ]
  },
  {
   "cell_type": "markdown",
   "metadata": {},
   "source": []
  },
  {
   "cell_type": "markdown",
   "metadata": {},
   "source": [
    "# Handling Exceptions"
   ]
  },
  {
   "cell_type": "code",
   "execution_count": null,
   "metadata": {},
   "outputs": [
    {
     "name": "stdout",
     "output_type": "stream",
     "text": [
      "You didn't enter a valid error\n",
      "Executiuon continues\n"
     ]
    }
   ],
   "source": [
    "try:\n",
    "    age = int(input(\"Age : \"))\n",
    "except ValueError:   # If the input is not a valid integer, this block will be executed\n",
    "    print(\"You didn't enter a valid error\")\n",
    "print(\"Executiuon continues\")\n",
    "\n",
    "# Enter \"a\"\n",
    "# Now, even if the user enters invalid input like 'a', the program will not crash."
   ]
  },
  {
   "cell_type": "markdown",
   "metadata": {},
   "source": [
    "The `else` part will execute only if no exception occurs"
   ]
  },
  {
   "cell_type": "code",
   "execution_count": null,
   "metadata": {},
   "outputs": [
    {
     "name": "stdout",
     "output_type": "stream",
     "text": [
      "No exception found\n",
      "Executiuon continues\n"
     ]
    }
   ],
   "source": [
    "try:\n",
    "    age = int(input(\"Age : \"))\n",
    "except ValueError:\n",
    "    print(\"You didn't enter a valid error\")\n",
    "else:\n",
    "    print(\"No exception found\")\n",
    "print(\"Executiuon continues\")\n",
    "\n",
    "# Enter \"5\""
   ]
  },
  {
   "cell_type": "code",
   "execution_count": 9,
   "metadata": {},
   "outputs": [
    {
     "name": "stdout",
     "output_type": "stream",
     "text": [
      "You didn't enter a valid error\n",
      "invalid literal for int() with base 10: 'a'\n",
      "<class 'ValueError'>\n",
      "Executiuon continues\n"
     ]
    }
   ],
   "source": [
    "try:\n",
    "    age = int(input(\"Age : \"))\n",
    "except ValueError as ex:\n",
    "    print(\"You didn't enter a valid error\")\n",
    "    print(ex)\n",
    "    print(type(ex))\n",
    "else:\n",
    "    print(\"No exception found\")\n",
    "print(\"Executiuon continues\")"
   ]
  },
  {
   "cell_type": "markdown",
   "metadata": {},
   "source": [
    "# Handling Different Exceptions"
   ]
  },
  {
   "cell_type": "code",
   "execution_count": 10,
   "metadata": {},
   "outputs": [
    {
     "ename": "ZeroDivisionError",
     "evalue": "division by zero",
     "output_type": "error",
     "traceback": [
      "\u001b[31m---------------------------------------------------------------------------\u001b[39m",
      "\u001b[31mZeroDivisionError\u001b[39m                         Traceback (most recent call last)",
      "\u001b[36mCell\u001b[39m\u001b[36m \u001b[39m\u001b[32mIn[10]\u001b[39m\u001b[32m, line 3\u001b[39m\n\u001b[32m      1\u001b[39m \u001b[38;5;28;01mtry\u001b[39;00m:\n\u001b[32m      2\u001b[39m     age = \u001b[38;5;28mint\u001b[39m(\u001b[38;5;28minput\u001b[39m(\u001b[33m\"\u001b[39m\u001b[33mAge : \u001b[39m\u001b[33m\"\u001b[39m))\n\u001b[32m----> \u001b[39m\u001b[32m3\u001b[39m     xfactor = \u001b[32;43m100\u001b[39;49m\u001b[43m \u001b[49m\u001b[43m/\u001b[49m\u001b[43m \u001b[49m\u001b[43mage\u001b[49m\n\u001b[32m      4\u001b[39m \u001b[38;5;28;01mexcept\u001b[39;00m \u001b[38;5;167;01mValueError\u001b[39;00m \u001b[38;5;28;01mas\u001b[39;00m ex:\n\u001b[32m      5\u001b[39m     \u001b[38;5;28mprint\u001b[39m(\u001b[33m\"\u001b[39m\u001b[33mYou didn\u001b[39m\u001b[33m'\u001b[39m\u001b[33mt enter a valid error\u001b[39m\u001b[33m\"\u001b[39m)\n",
      "\u001b[31mZeroDivisionError\u001b[39m: division by zero"
     ]
    }
   ],
   "source": [
    "try:\n",
    "    age = int(input(\"Age : \"))\n",
    "    xfactor = 100 / age\n",
    "except ValueError as ex:\n",
    "    print(\"You didn't enter a valid error\")\n",
    "else:\n",
    "    print(\"No exception found\")\n",
    "\n",
    "# Enter '0'"
   ]
  },
  {
   "cell_type": "markdown",
   "metadata": {},
   "source": [
    "We can handle multiple types of exceptions in the code block."
   ]
  },
  {
   "cell_type": "code",
   "execution_count": null,
   "metadata": {},
   "outputs": [
    {
     "name": "stdout",
     "output_type": "stream",
     "text": [
      "Can't insert 0\n"
     ]
    }
   ],
   "source": [
    "try:\n",
    "    age = int(input(\"Age : \"))\n",
    "    xfactor = 100 / age\n",
    "except ValueError as ex:\n",
    "    print(\"You didn't enter a valid error\")\n",
    "except ZeroDivisionError:\n",
    "    print(\"Can't insert 0\")\n",
    "else:\n",
    "    print(\"No exception found\")\n",
    "\n",
    "# Enter '0'"
   ]
  },
  {
   "cell_type": "code",
   "execution_count": 12,
   "metadata": {},
   "outputs": [
    {
     "name": "stdout",
     "output_type": "stream",
     "text": [
      "You didn't enter a valid error\n"
     ]
    }
   ],
   "source": [
    "try:\n",
    "    age = int(input(\"Age : \"))\n",
    "    xfactor = 100 / age\n",
    "except ( ValueError, ZeroDivisionError ) :\n",
    "    print(\"You didn't enter a valid error\")\n",
    "else:\n",
    "    print(\"No exception found\")"
   ]
  },
  {
   "cell_type": "markdown",
   "metadata": {},
   "source": [
    "`My Note` - We can add a base `exception` class, If the error is unknown"
   ]
  },
  {
   "cell_type": "code",
   "execution_count": 13,
   "metadata": {},
   "outputs": [
    {
     "name": "stdout",
     "output_type": "stream",
     "text": [
      "An unexpected error occured.\n"
     ]
    }
   ],
   "source": [
    "try:\n",
    "    age = int(input(\"Age : \"))\n",
    "    xfactor = 100 / age\n",
    "except  ValueError:\n",
    "    print(\"You didn't enter a valid error\")\n",
    "except Exception:\n",
    "    print(\"An unexpected error occured.\")\n",
    "else:\n",
    "    print(\"No exception found\")\n",
    "\n",
    "# Enter '0'"
   ]
  },
  {
   "cell_type": "markdown",
   "metadata": {},
   "source": [
    "# Cleaning Up\n",
    "\n",
    "The `finally` block always executes, whether an exception occurs or not."
   ]
  },
  {
   "cell_type": "code",
   "execution_count": null,
   "metadata": {},
   "outputs": [],
   "source": [
    "try:\n",
    "    file = open(\"app.py\")\n",
    "except Exception:\n",
    "    print(\"An unexpected error occured.\")\n",
    "else:\n",
    "    print(\"No exception found\")\n",
    "finally:\n",
    "    file.close()"
   ]
  },
  {
   "cell_type": "markdown",
   "metadata": {},
   "source": [
    "# The With Statement\n",
    "\n",
    "The `with` statement is used to automatically release resources (like closing a file), regardless of whether a finally block is used or not."
   ]
  },
  {
   "cell_type": "code",
   "execution_count": null,
   "metadata": {},
   "outputs": [],
   "source": [
    "try:\n",
    "    with open(\"app.py\") as file:\n",
    "        print(\"file opened\")\n",
    "       # file.__exit__\n",
    "except Exception:\n",
    "    print(\"An Unexpected error occured\")"
   ]
  },
  {
   "cell_type": "markdown",
   "metadata": {},
   "source": [
    "When an object has the `__enter__` and `__exit__` magic methods, it supports the `context management protocol`. This means we can use the object with the `with` statement. \n",
    "\n",
    "Here, Python will automatically call the `__exit__` method to release resources, which is why we don't need a finally block."
   ]
  },
  {
   "cell_type": "code",
   "execution_count": null,
   "metadata": {},
   "outputs": [],
   "source": [
    "# Example -> Opening 2 files, So python will automatically release both these external resources\n",
    "\n",
    "try:\n",
    "    with open(\"app.py\") as file, open(\"another.txt\") as target:\n",
    "        print(\"file opened\")\n",
    "       # file.__exit__\n",
    "except Exception:\n",
    "    print(\"An Unexpected error occured\")"
   ]
  },
  {
   "cell_type": "markdown",
   "metadata": {},
   "source": [
    "# Raising Exceptions"
   ]
  },
  {
   "cell_type": "code",
   "execution_count": 15,
   "metadata": {},
   "outputs": [
    {
     "name": "stdout",
     "output_type": "stream",
     "text": [
      "Age cannot be 0 or less\n"
     ]
    }
   ],
   "source": [
    "def calculate_xfactor(age):\n",
    "    if age <= 0:\n",
    "        raise ValueError(\"Age cannot be 0 or less\")\n",
    "    return 10/age\n",
    "\n",
    "try:\n",
    "    calculate_xfactor(-1)\n",
    "except Exception as error:\n",
    "    print(error)"
   ]
  },
  {
   "cell_type": "markdown",
   "metadata": {},
   "source": [
    "# Cost of Raising Exceptions"
   ]
  },
  {
   "cell_type": "code",
   "execution_count": 19,
   "metadata": {},
   "outputs": [
    {
     "name": "stdout",
     "output_type": "stream",
     "text": [
      "first code =  0.0046357999090105295\n",
      "second code =  0.0012587998062372208\n"
     ]
    }
   ],
   "source": [
    "# Calculate the time of code\n",
    "\n",
    "from timeit import timeit\n",
    "\n",
    "code1 = \"\"\"\n",
    "def calculate_xfactor(age):\n",
    "    if age <= 0:\n",
    "        raise ValueError(\"Age cannot be 0 or less\")\n",
    "    return 10/age\n",
    "\n",
    "try:\n",
    "    calculate_xfactor(-1)\n",
    "except Exception as error:\n",
    "    pass # pass statement doesn't do anything (to avoid priniting error message 10000 times )\n",
    "\n",
    "\"\"\"\n",
    "\n",
    "\n",
    "code2 = \"\"\"\n",
    "def calculate_xfactor(age):\n",
    "    if age <= 0:\n",
    "        return None\n",
    "    return 10/age\n",
    "\n",
    "xfactor = calculate_xfactor(-1)\n",
    "if xfactor == None:\n",
    "    pass\n",
    "\n",
    "\"\"\"\n",
    "\n",
    "print(\"first code = \", timeit(code1, number=10000)) # number implies the number of times we want to execute this code.\n",
    "\n",
    "print(\"second code = \", timeit(code2, number=10000))"
   ]
  },
  {
   "cell_type": "markdown",
   "metadata": {},
   "source": [
    "In a simple application, raising exceptions may not be a big issue. However, in a large, scalable application, raising too many exceptions can negatively impact performance.\""
   ]
  }
 ],
 "metadata": {
  "kernelspec": {
   "display_name": "Python 3",
   "language": "python",
   "name": "python3"
  },
  "language_info": {
   "codemirror_mode": {
    "name": "ipython",
    "version": 3
   },
   "file_extension": ".py",
   "mimetype": "text/x-python",
   "name": "python",
   "nbconvert_exporter": "python",
   "pygments_lexer": "ipython3",
   "version": "3.13.3"
  }
 },
 "nbformat": 4,
 "nbformat_minor": 2
}

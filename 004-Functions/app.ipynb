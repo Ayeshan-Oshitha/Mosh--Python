{
 "cells": [
  {
   "cell_type": "markdown",
   "metadata": {},
   "source": [
    "# Defining Functions\n"
   ]
  },
  {
   "cell_type": "code",
   "execution_count": 1,
   "metadata": {},
   "outputs": [
    {
     "name": "stdout",
     "output_type": "stream",
     "text": [
      "Hi there\n",
      "Welcome to functions\n"
     ]
    }
   ],
   "source": [
    "def greet():\n",
    "    print(\"Hi there\")\n",
    "    print(\"Welcome to functions\")\n",
    "\n",
    "\n",
    "greet()"
   ]
  },
  {
   "cell_type": "markdown",
   "metadata": {},
   "source": [
    "# Arguments\n",
    "\n",
    "- Parameters are the variables we define in a function to accept input.\n",
    "- Arguments are the actual values we pass to the function when we call it."
   ]
  },
  {
   "cell_type": "code",
   "execution_count": 2,
   "metadata": {},
   "outputs": [
    {
     "name": "stdout",
     "output_type": "stream",
     "text": [
      "Hi John Smith\n"
     ]
    }
   ],
   "source": [
    "def greet(first_name, last_name):\n",
    "    print(f\"Hi {first_name} {last_name}\")\n",
    "\n",
    "\n",
    "greet(\"John\", \"Smith\")"
   ]
  },
  {
   "cell_type": "markdown",
   "metadata": {},
   "source": [
    "By default, all parameters defined in a function are required, and we must provide arguments for each one when calling the function."
   ]
  },
  {
   "cell_type": "markdown",
   "metadata": {},
   "source": [
    "# Types of Functions\n",
    "\n",
    "There are two types of functions\n",
    "1. Perform a Task\n",
    "2. Return a value"
   ]
  },
  {
   "cell_type": "code",
   "execution_count": null,
   "metadata": {},
   "outputs": [
    {
     "name": "stdout",
     "output_type": "stream",
     "text": [
      "Hi John\n"
     ]
    }
   ],
   "source": [
    "# Perform a Task\n",
    "\n",
    "def greet(name):\n",
    "    print (f\"Hi {name}\")\n",
    "\n",
    "greet(\"John\")"
   ]
  },
  {
   "cell_type": "code",
   "execution_count": null,
   "metadata": {},
   "outputs": [
    {
     "name": "stdout",
     "output_type": "stream",
     "text": [
      "Hi Mosh\n"
     ]
    }
   ],
   "source": [
    "# Return a Value\n",
    "\n",
    "def get_greeting(name):\n",
    "    return f\"Hi {name}\"\n",
    "\n",
    "message = get_greeting(\"Mosh\")\n",
    "print(message)"
   ]
  },
  {
   "cell_type": "markdown",
   "metadata": {},
   "source": [
    "In Python, by default, all functions return `None`. `None` is a special object that represents the absence of a value. However, if a function has a return statement with a value, it will return that value instead of `None`."
   ]
  },
  {
   "cell_type": "code",
   "execution_count": null,
   "metadata": {},
   "outputs": [
    {
     "name": "stdout",
     "output_type": "stream",
     "text": [
      "Hi John\n",
      "None\n"
     ]
    }
   ],
   "source": [
    "def greet(name):\n",
    "    print (f\"Hi {name}\")\n",
    "\n",
    "print(greet(\"John\"))"
   ]
  },
  {
   "cell_type": "markdown",
   "metadata": {},
   "source": [
    "# Keyword Argument\n",
    "\n",
    "We can make code more readable by using keyword arguments."
   ]
  },
  {
   "cell_type": "code",
   "execution_count": 8,
   "metadata": {},
   "outputs": [
    {
     "name": "stdout",
     "output_type": "stream",
     "text": [
      "3\n"
     ]
    }
   ],
   "source": [
    "def increment(number, by):\n",
    "    return number + by\n",
    "\n",
    "result = increment(number=2, by=1)\n",
    "print(result)"
   ]
  },
  {
   "cell_type": "markdown",
   "metadata": {},
   "source": [
    "# Default Arguments\n",
    "\n",
    "We can assign default values to parameters. If no argument is provided, the default value is used; otherwise, the provided value overrides the default."
   ]
  },
  {
   "cell_type": "code",
   "execution_count": 14,
   "metadata": {},
   "outputs": [
    {
     "name": "stdout",
     "output_type": "stream",
     "text": [
      "result_1 : 5\n",
      "result_2 : 8\n"
     ]
    }
   ],
   "source": [
    "def increment(number, by = 1):\n",
    "    return number + by\n",
    "\n",
    "result_1 = increment(4)\n",
    "print( \"result_1 : \" + str(result_1))\n",
    "\n",
    "result_2 = increment(3,5)\n",
    "print( \"result_2 : \" + str(result_2))"
   ]
  },
  {
   "cell_type": "markdown",
   "metadata": {},
   "source": [
    "**Note :** All optional parameters (default arguments) must come after the required parameters."
   ]
  },
  {
   "cell_type": "markdown",
   "metadata": {},
   "source": [
    "# xargs\n",
    "\n",
    "Using this method, we can pass a variable number of arguments to a method."
   ]
  },
  {
   "cell_type": "code",
   "execution_count": 15,
   "metadata": {},
   "outputs": [
    {
     "name": "stdout",
     "output_type": "stream",
     "text": [
      "(2, 3, 4, 5)\n"
     ]
    }
   ],
   "source": [
    "def multiply(*numbers):\n",
    "    print(numbers)\n",
    "\n",
    "\n",
    "multiply(2, 3, 4, 5)"
   ]
  },
  {
   "cell_type": "markdown",
   "metadata": {},
   "source": [
    "The variable `numbers` is a `tuple`, which means it is an iterable."
   ]
  },
  {
   "cell_type": "code",
   "execution_count": 16,
   "metadata": {},
   "outputs": [
    {
     "data": {
      "text/plain": [
       "120"
      ]
     },
     "execution_count": 16,
     "metadata": {},
     "output_type": "execute_result"
    }
   ],
   "source": [
    "def multiply(*numbers):\n",
    "    total = 1\n",
    "    for x in numbers:\n",
    "        total = x * total\n",
    "    return total\n",
    "\n",
    "\n",
    "multiply(2, 3, 4, 5)"
   ]
  },
  {
   "cell_type": "markdown",
   "metadata": {},
   "source": [
    "# xxargs\n",
    "\n",
    "Using this method, we can pass a variable number of keyword arguments to the function."
   ]
  },
  {
   "cell_type": "code",
   "execution_count": 17,
   "metadata": {},
   "outputs": [
    {
     "name": "stdout",
     "output_type": "stream",
     "text": [
      "{'id': 1, 'name': 'John', 'age': 22}\n"
     ]
    }
   ],
   "source": [
    "def save_user(**user):\n",
    "    print(user)\n",
    "\n",
    "save_user(id=1, name=\"John\", age=22)"
   ]
  },
  {
   "cell_type": "markdown",
   "metadata": {},
   "source": [
    "The variable `user` is a `dictionary (Key value pair)`."
   ]
  },
  {
   "cell_type": "code",
   "execution_count": null,
   "metadata": {},
   "outputs": [
    {
     "name": "stdout",
     "output_type": "stream",
     "text": [
      "John\n"
     ]
    }
   ],
   "source": [
    "def save_user(**user):\n",
    "    print(user[\"name\"])\n",
    "\n",
    "save_user(id=1, name=\"John\", age=22)"
   ]
  },
  {
   "cell_type": "markdown",
   "metadata": {},
   "source": [
    "# Scope\n",
    "\n",
    "- **Global variable**: A variable declared outside any function or block. It can be accessed from anywhere in the code.\n",
    "\n",
    "- **Local variable**: A variable declared inside a function or block. It can only be accessed within that function or block."
   ]
  },
  {
   "cell_type": "code",
   "execution_count": 21,
   "metadata": {},
   "outputs": [
    {
     "name": "stdout",
     "output_type": "stream",
     "text": [
      "greet_1 : a\n",
      "greet_2 : b\n"
     ]
    }
   ],
   "source": [
    "# Local Variable\n",
    "\n",
    "def greet_1():\n",
    "    message = \"a\"\n",
    "    return message\n",
    "\n",
    "def greet_2():\n",
    "    message = \"b\"\n",
    "    return message\n",
    "\n",
    "print(\"greet_1 : \" + greet_1())\n",
    "print(\"greet_2 : \" + greet_2())"
   ]
  },
  {
   "cell_type": "code",
   "execution_count": 23,
   "metadata": {},
   "outputs": [
    {
     "name": "stdout",
     "output_type": "stream",
     "text": [
      "c\n"
     ]
    }
   ],
   "source": [
    "# Global Variable\n",
    "\n",
    "message = \"c\"\n",
    "\n",
    "def greet_1():\n",
    "    message = \"d\"\n",
    "    return message\n",
    "\n",
    "\n",
    "print(message)"
   ]
  },
  {
   "cell_type": "markdown",
   "metadata": {},
   "source": [
    "It is possible to `override` a global variable inside a function, but it is `not considered good practice`."
   ]
  },
  {
   "cell_type": "code",
   "execution_count": 32,
   "metadata": {},
   "outputs": [
    {
     "name": "stdout",
     "output_type": "stream",
     "text": [
      "f\n"
     ]
    }
   ],
   "source": [
    "# Override a global variable\n",
    "\n",
    "message = \"e\"\n",
    "\n",
    "def greet_1():\n",
    "    global message\n",
    "    message = \"f\"\n",
    "\n",
    "# Should call the function first\n",
    "greet_1()\n",
    "print(message)"
   ]
  },
  {
   "cell_type": "markdown",
   "metadata": {},
   "source": [
    "# Excersise - Fizz Buzz"
   ]
  },
  {
   "cell_type": "code",
   "execution_count": 40,
   "metadata": {},
   "outputs": [
    {
     "name": "stdout",
     "output_type": "stream",
     "text": [
      "fizz buzz\n"
     ]
    }
   ],
   "source": [
    "def fizz_buzz(input):\n",
    "    if(input % 3 == 0 and input % 5 == 0):\n",
    "        print(\"fizz buzz\")\n",
    "    elif(input % 3 == 0):\n",
    "        print(\"fizz\")\n",
    "    elif(input % 5 == 0):\n",
    "        print(\"buzz\")\n",
    "    else:\n",
    "        print(input)\n",
    "\n",
    "fizz_buzz(15)"
   ]
  }
 ],
 "metadata": {
  "kernelspec": {
   "display_name": "Python 3",
   "language": "python",
   "name": "python3"
  },
  "language_info": {
   "codemirror_mode": {
    "name": "ipython",
    "version": 3
   },
   "file_extension": ".py",
   "mimetype": "text/x-python",
   "name": "python",
   "nbconvert_exporter": "python",
   "pygments_lexer": "ipython3",
   "version": "3.13.3"
  }
 },
 "nbformat": 4,
 "nbformat_minor": 2
}

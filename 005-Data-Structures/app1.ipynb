{
 "cells": [
  {
   "cell_type": "markdown",
   "metadata": {},
   "source": [
    "# Lists\n",
    "\n",
    "A list is a sequence of objects. You can use [] to define a list. "
   ]
  },
  {
   "cell_type": "code",
   "execution_count": 2,
   "metadata": {},
   "outputs": [],
   "source": [
    "# List of strings\n",
    "letters =  [ \"a\" , \"b\" , \"c\" ]\n",
    "\n",
    "# List of numbers\n",
    "numbers = [ 1, 2, 3, 4 ]\n",
    "\n",
    "# List of list\n",
    "matrix = [ [0,1], [2,3] ]\n",
    "\n",
    "# list of 10 0's\n",
    "zeros = [0] * 5"
   ]
  },
  {
   "cell_type": "markdown",
   "metadata": {},
   "source": [
    "A list can contain a combination of numbers, booleans, strings, and even other lists."
   ]
  },
  {
   "cell_type": "code",
   "execution_count": null,
   "metadata": {},
   "outputs": [
    {
     "name": "stdout",
     "output_type": "stream",
     "text": [
      "[0, 0, 0, 0, 0, 'a', 'b', 'c']\n"
     ]
    }
   ],
   "source": [
    "# Combining a two Lists\n",
    "\n",
    "combined = zeros + letters\n",
    "print(combined)"
   ]
  },
  {
   "cell_type": "code",
   "execution_count": 2,
   "metadata": {},
   "outputs": [
    {
     "name": "stdout",
     "output_type": "stream",
     "text": [
      "[0, 1, 2, 3, 4, 5, 6, 7, 8, 9, 10, 11, 12, 13, 14, 15, 16, 17, 18, 19]\n",
      "['H', 'e', 'l', 'l', 'o', ' ', 'W', 'o', 'r', 'l', 'd']\n"
     ]
    }
   ],
   "source": [
    "# ex-> Iterable list()\n",
    "\n",
    "iterable_1 = list(range(20))\n",
    "print(iterable_1)\n",
    "\n",
    "iterable_2 = list(\"Hello World\")\n",
    "print(iterable_2)"
   ]
  },
  {
   "cell_type": "code",
   "execution_count": 3,
   "metadata": {},
   "outputs": [
    {
     "name": "stdout",
     "output_type": "stream",
     "text": [
      "iterable_1 length : 20\n",
      "iterable_2 length : 11\n"
     ]
    }
   ],
   "source": [
    "# Get the length of Lists\n",
    "\n",
    "print(\"iterable_1 length : \" + str(len(iterable_1)))\n",
    "print(\"iterable_2 length : \" + str(len(iterable_2)))"
   ]
  },
  {
   "cell_type": "markdown",
   "metadata": {},
   "source": [
    "## Accessing Items"
   ]
  },
  {
   "cell_type": "code",
   "execution_count": 6,
   "metadata": {},
   "outputs": [
    {
     "name": "stdout",
     "output_type": "stream",
     "text": [
      "1 : b\n",
      "-1 : d\n"
     ]
    }
   ],
   "source": [
    "# Accessing elements\n",
    "\n",
    "letters =  [ \"a\" , \"b\" , \"c\" , \"d\" ]\n",
    "print(\"1 : \" + letters[1])\n",
    "print(\"-1 : \" + letters[-1])"
   ]
  },
  {
   "cell_type": "code",
   "execution_count": 7,
   "metadata": {},
   "outputs": [
    {
     "name": "stdout",
     "output_type": "stream",
     "text": [
      "['A', 'b', 'c', 'd']\n"
     ]
    }
   ],
   "source": [
    "# Modifying elements\n",
    "\n",
    "letters =  [ \"a\" , \"b\" , \"c\" , \"d\" ]\n",
    "letters[0] = \"A\"\n",
    "print(letters)"
   ]
  },
  {
   "cell_type": "code",
   "execution_count": null,
   "metadata": {},
   "outputs": [
    {
     "name": "stdout",
     "output_type": "stream",
     "text": [
      "0:2 - ['a', 'b']\n",
      "1: - ['b', 'c', 'd']\n",
      ":2 - ['a', 'b']\n",
      ": - ['a', 'b', 'c', 'd']\n",
      "letters - ['a', 'b', 'c', 'd']\n"
     ]
    }
   ],
   "source": [
    "# Slice a string\n",
    "\n",
    "letters =  [ \"a\" , \"b\" , \"c\" , \"d\" ]\n",
    "print( \"0:2 - \" + str(letters[0:2]))\n",
    "print( \"1: - \" + str(letters[1:]))\n",
    "print( \":2 - \" + str(letters[:2]))\n",
    "print( \": - \" + str(letters[:]))\n",
    "print( \"letters - \" + str(letters))\n",
    "\n"
   ]
  },
  {
   "cell_type": "code",
   "execution_count": 15,
   "metadata": {},
   "outputs": [
    {
     "name": "stdout",
     "output_type": "stream",
     "text": [
      "::2 - [0, 2, 4, 6, 8]\n",
      "::-1 - [9, 8, 7, 6, 5, 4, 3, 2, 1, 0]\n"
     ]
    }
   ],
   "source": [
    "numbers = list(range(10))\n",
    "print( \"::2 - \" + str(numbers[::2])) # returns every 2nd element\n",
    "print( \"::-1 - \" + str(numbers[::-1])) # returns items in reverse order"
   ]
  },
  {
   "cell_type": "markdown",
   "metadata": {},
   "source": [
    "## List Unpacking"
   ]
  },
  {
   "cell_type": "code",
   "execution_count": null,
   "metadata": {},
   "outputs": [
    {
     "name": "stdout",
     "output_type": "stream",
     "text": [
      "1\n",
      "3\n"
     ]
    }
   ],
   "source": [
    "# unpacking list\n",
    "\n",
    "numbers = [1,2,3,4,4,5]\n",
    "\n",
    "first, second, third, fourth, fifth, sixth = numbers\n",
    "\n",
    "print(first) # first equals to numbers[0]\n",
    "print(third) # third equals to numbers[2]"
   ]
  },
  {
   "cell_type": "code",
   "execution_count": 21,
   "metadata": {},
   "outputs": [
    {
     "name": "stdout",
     "output_type": "stream",
     "text": [
      "1 2\n",
      "[3, 4, 5, 6]\n"
     ]
    }
   ],
   "source": [
    "# packing items using *\n",
    "\n",
    "numbers = [1,2,3,4,5,6]\n",
    "\n",
    "first, second, *other = numbers\n",
    "\n",
    "print(first, second) \n",
    "print(other)"
   ]
  },
  {
   "cell_type": "markdown",
   "metadata": {},
   "source": [
    "## Looping over Lists"
   ]
  },
  {
   "cell_type": "code",
   "execution_count": 22,
   "metadata": {},
   "outputs": [
    {
     "name": "stdout",
     "output_type": "stream",
     "text": [
      "a\n",
      "b\n",
      "c\n"
     ]
    }
   ],
   "source": [
    "letters = [\"a\", \"b\", \"c\"]\n",
    "\n",
    "for letter in letters:\n",
    "    print(letter)"
   ]
  },
  {
   "cell_type": "markdown",
   "metadata": {},
   "source": [
    "`enumerate(letters)` gives an iterator that returns pairs of (index, value) for each item in the list; the return type is `enumerate`, and in your loop, each `letter` is a tuple like `(0, 'a'), (1, 'b'), (2, 'c')`."
   ]
  },
  {
   "cell_type": "code",
   "execution_count": 23,
   "metadata": {},
   "outputs": [
    {
     "name": "stdout",
     "output_type": "stream",
     "text": [
      "(0, 'a')\n",
      "(1, 'b')\n",
      "(2, 'c')\n"
     ]
    }
   ],
   "source": [
    "letters = [\"a\", \"b\", \"c\"]\n",
    "\n",
    "for letter in enumerate(letters):\n",
    "    print(letter)"
   ]
  },
  {
   "cell_type": "code",
   "execution_count": 24,
   "metadata": {},
   "outputs": [
    {
     "name": "stdout",
     "output_type": "stream",
     "text": [
      "0 a\n",
      "1 b\n",
      "2 c\n",
      "3 d\n"
     ]
    }
   ],
   "source": [
    "# using unpacking in enumeratable\n",
    "\n",
    "letters = [\"a\", \"b\", \"c\", \"d\"]\n",
    "\n",
    "for index, letter in enumerate(letters):\n",
    "    print(index, letter)"
   ]
  },
  {
   "cell_type": "markdown",
   "metadata": {},
   "source": [
    "## Adding or Removing Items"
   ]
  },
  {
   "cell_type": "code",
   "execution_count": 1,
   "metadata": {},
   "outputs": [
    {
     "name": "stdout",
     "output_type": "stream",
     "text": [
      "['a', 'b', 'c', 'd', 'e']\n"
     ]
    }
   ],
   "source": [
    "# Adding at the end\n",
    "\n",
    "letters = [\"a\", \"b\", \"c\", \"d\"]\n",
    "\n",
    "letters.append(\"e\")\n",
    "print(letters)"
   ]
  },
  {
   "cell_type": "code",
   "execution_count": 2,
   "metadata": {},
   "outputs": [
    {
     "name": "stdout",
     "output_type": "stream",
     "text": [
      "['a', 'b', 'z', 'c', 'd']\n"
     ]
    }
   ],
   "source": [
    "# Adding at specificm position\n",
    "\n",
    "letters = [\"a\", \"b\", \"c\", \"d\"]\n",
    "letters.insert(2, \"z\")\n",
    "print(letters)"
   ]
  },
  {
   "cell_type": "code",
   "execution_count": 3,
   "metadata": {},
   "outputs": [
    {
     "name": "stdout",
     "output_type": "stream",
     "text": [
      "['a', 'b', 'c']\n"
     ]
    }
   ],
   "source": [
    "# Removing at the end\n",
    "\n",
    "letters = [\"a\", \"b\", \"c\", \"d\"]\n",
    "\n",
    "letters.pop()\n",
    "print(letters)"
   ]
  },
  {
   "cell_type": "code",
   "execution_count": null,
   "metadata": {},
   "outputs": [
    {
     "name": "stdout",
     "output_type": "stream",
     "text": [
      "['a', 'c', 'd']\n"
     ]
    }
   ],
   "source": [
    "# Removing at specific point(index)\n",
    "\n",
    "letters = [\"a\", \"b\", \"c\", \"d\"]\n",
    "\n",
    "letters.pop(1)\n",
    "print(letters)"
   ]
  },
  {
   "cell_type": "code",
   "execution_count": null,
   "metadata": {},
   "outputs": [],
   "source": [
    "# remove the letter\n",
    "\n",
    "letters = [\"a\", \"b\", \"c\",  \"b\" , \"d\"]\n",
    "\n",
    "letters.remove(\"b\") # only remove the first occurence \n",
    "print(letters)"
   ]
  },
  {
   "cell_type": "code",
   "execution_count": 5,
   "metadata": {},
   "outputs": [
    {
     "name": "stdout",
     "output_type": "stream",
     "text": [
      "['a', 'c', 'b', 'd']\n"
     ]
    }
   ],
   "source": [
    "# remove the letter - del method\n",
    "\n",
    "letters = [\"a\", \"b\", \"c\",  \"b\" , \"d\"]\n",
    "\n",
    "del letters[1]\n",
    "print(letters)"
   ]
  },
  {
   "cell_type": "code",
   "execution_count": null,
   "metadata": {},
   "outputs": [
    {
     "name": "stdout",
     "output_type": "stream",
     "text": [
      "['a', 'b', 'd']\n"
     ]
    }
   ],
   "source": [
    "# remove the letter - del method\n",
    "\n",
    "letters = [\"a\", \"b\", \"c\",  \"f\" , \"d\"]\n",
    "\n",
    "del letters[1:3]\n",
    "print(letters)"
   ]
  },
  {
   "cell_type": "code",
   "execution_count": 7,
   "metadata": {},
   "outputs": [
    {
     "name": "stdout",
     "output_type": "stream",
     "text": [
      "[]\n"
     ]
    }
   ],
   "source": [
    "# remove all the elements from the lists\n",
    "\n",
    "letters = [\"a\", \"b\", \"c\",  \"f\" , \"d\"]\n",
    "letters.clear()\n",
    "print(letters)"
   ]
  },
  {
   "cell_type": "markdown",
   "metadata": {},
   "source": [
    "## Finding Items"
   ]
  },
  {
   "cell_type": "code",
   "execution_count": 10,
   "metadata": {},
   "outputs": [
    {
     "name": "stdout",
     "output_type": "stream",
     "text": [
      "2\n"
     ]
    }
   ],
   "source": [
    "letters = [\"a\", \"b\", \"c\",  \"d\" , \"e\"]\n",
    "\n",
    "print(letters.index(\"c\"))"
   ]
  },
  {
   "cell_type": "markdown",
   "metadata": {},
   "source": [
    "`print(letters.index(\"z\"))` — Unlike in many other languages, this will raise an error instead of returning a special value.\n",
    "\n",
    "However, there is a safer way to do this by using the `in` keyword to check if the item exists before calling `.index()`."
   ]
  },
  {
   "cell_type": "code",
   "execution_count": 13,
   "metadata": {},
   "outputs": [
    {
     "name": "stdout",
     "output_type": "stream",
     "text": [
      "3\n"
     ]
    }
   ],
   "source": [
    "letters = [\"a\", \"b\", \"c\",  \"d\" , \"e\"]\n",
    "\n",
    "if \"z\" in letters:\n",
    "    print(letters.index(\"z\"))\n",
    "\n",
    "if \"d\" in letters:\n",
    "    print(letters.index(\"d\"))"
   ]
  },
  {
   "cell_type": "markdown",
   "metadata": {},
   "source": [
    "We can use the `count()` method to check whether an item exists in the list."
   ]
  },
  {
   "cell_type": "code",
   "execution_count": 15,
   "metadata": {},
   "outputs": [
    {
     "name": "stdout",
     "output_type": "stream",
     "text": [
      "1\n",
      "0\n"
     ]
    }
   ],
   "source": [
    "letters = [\"a\", \"b\", \"c\",  \"d\" , \"e\"]\n",
    "\n",
    "print(letters.count(\"d\"))\n",
    "print(letters.count(\"z\"))"
   ]
  },
  {
   "cell_type": "markdown",
   "metadata": {},
   "source": [
    "## Sorting Lists"
   ]
  },
  {
   "cell_type": "code",
   "execution_count": 18,
   "metadata": {},
   "outputs": [
    {
     "name": "stdout",
     "output_type": "stream",
     "text": [
      "[2, 3, 6, 8, 51]\n",
      "[51, 8, 6, 3, 2]\n"
     ]
    }
   ],
   "source": [
    "# Assending\n",
    "numbers = [3, 51, 2, 8, 6]\n",
    "numbers.sort()\n",
    "print(numbers)\n",
    "\n",
    "# Desending\n",
    "numbers = [3, 51, 2, 8, 6]\n",
    "numbers.sort(reverse=True)\n",
    "print(numbers)"
   ]
  },
  {
   "cell_type": "code",
   "execution_count": 20,
   "metadata": {},
   "outputs": [
    {
     "name": "stdout",
     "output_type": "stream",
     "text": [
      "[2, 3, 6, 8, 51]\n",
      "[3, 51, 2, 8, 6]\n",
      "----\n",
      "[51, 8, 6, 3, 2]\n",
      "[3, 51, 2, 8, 6]\n"
     ]
    }
   ],
   "source": [
    "# Sorted Funcrion\n",
    "# This will not sort the original list\n",
    "\n",
    "# Ascending\n",
    "numbers = [3, 51, 2, 8, 6]\n",
    "print(sorted(numbers))\n",
    "print(numbers)\n",
    "\n",
    "print(\"----\")\n",
    "\n",
    "# Desending\n",
    "numbers = [3, 51, 2, 8, 6]\n",
    "print(sorted(numbers, reverse=True))\n",
    "print(numbers)\n"
   ]
  },
  {
   "cell_type": "code",
   "execution_count": 22,
   "metadata": {},
   "outputs": [
    {
     "name": "stdout",
     "output_type": "stream",
     "text": [
      "[('Product2', 9), ('Product1', 10), ('Product3', 12)]\n"
     ]
    }
   ],
   "source": [
    "# Using KEY parameter to sort the list\n",
    "\n",
    "items = [\n",
    "    (\"Product1\", 10),\n",
    "    (\"Product2\", 9),\n",
    "    (\"Product3\", 12),\n",
    "]\n",
    "\n",
    "# returns the price as a key\n",
    "def sort_item(item):\n",
    "    return item[1]\n",
    "\n",
    "# sort items based key(price)\n",
    "items.sort(key=sort_item)\n",
    "print(items)"
   ]
  },
  {
   "cell_type": "markdown",
   "metadata": {},
   "source": [
    "# Lambda Functions\n",
    "\n",
    "##### Lambda Syntax -:\n",
    "\n",
    "`lambda parameters:expression`\n",
    "\n",
    "Above function can written using lambda expression easily"
   ]
  },
  {
   "cell_type": "code",
   "execution_count": null,
   "metadata": {},
   "outputs": [
    {
     "name": "stdout",
     "output_type": "stream",
     "text": [
      "[('Product2', 9), ('Product1', 10), ('Product3', 12)]\n"
     ]
    }
   ],
   "source": [
    "# Example for lambda function\n",
    "\n",
    "items = [\n",
    "    (\"Product1\", 10),\n",
    "    (\"Product2\", 9),\n",
    "    (\"Product3\", 12),\n",
    "]\n",
    "\n",
    "\n",
    "items.sort(key=lambda item:item[1])\n",
    "print(items)"
   ]
  },
  {
   "cell_type": "markdown",
   "metadata": {},
   "source": [
    "# Map Functions"
   ]
  },
  {
   "cell_type": "code",
   "execution_count": null,
   "metadata": {},
   "outputs": [
    {
     "name": "stdout",
     "output_type": "stream",
     "text": [
      "[10, 9, 12]\n"
     ]
    }
   ],
   "source": [
    "# Getting only the prices from list of tuples\n",
    "\n",
    "items = [\n",
    "    (\"Product1\", 10),\n",
    "    (\"Product2\", 9),\n",
    "    (\"Product3\", 12),\n",
    "]\n",
    "\n",
    "prices = []\n",
    "for item in items:\n",
    "    prices.append(item[1])\n",
    "\n",
    "print(prices)"
   ]
  },
  {
   "cell_type": "markdown",
   "metadata": {},
   "source": [
    "The above functionality can be easily achieved using the `map` function"
   ]
  },
  {
   "cell_type": "code",
   "execution_count": null,
   "metadata": {},
   "outputs": [
    {
     "name": "stdout",
     "output_type": "stream",
     "text": [
      "<map object at 0x000001D2451BB8E0>\n",
      "---------\n",
      "10\n",
      "9\n",
      "12\n",
      "---------\n"
     ]
    }
   ],
   "source": [
    "items = [\n",
    "    (\"Product1\", 10),\n",
    "    (\"Product2\", 9),\n",
    "    (\"Product3\", 12),\n",
    "]\n",
    "\n",
    "x = map(lambda item: item[1], items)\n",
    "print(x)\n",
    "\n",
    "# This x will return a map object which is also iterable, So we can iterate through it.\n",
    "\n",
    "print(\"---------\")\n",
    "\n",
    "for item in x:\n",
    "    print(item)\n",
    "\n",
    "print(\"---------\")"
   ]
  },
  {
   "cell_type": "markdown",
   "metadata": {},
   "source": [
    "Alternatively, we can convert a `map` object to a list because the `list()` function accepts any iterable and creates a new list from it"
   ]
  },
  {
   "cell_type": "code",
   "execution_count": 6,
   "metadata": {},
   "outputs": [
    {
     "name": "stdout",
     "output_type": "stream",
     "text": [
      "[10, 9, 12]\n"
     ]
    }
   ],
   "source": [
    "items = [\n",
    "    (\"Product1\", 10),\n",
    "    (\"Product2\", 9),\n",
    "    (\"Product3\", 12),\n",
    "]\n",
    "\n",
    "prices = list(map(lambda item: item[1], items))\n",
    "print(prices)"
   ]
  },
  {
   "cell_type": "markdown",
   "metadata": {},
   "source": [
    "# Filter Function"
   ]
  },
  {
   "cell_type": "code",
   "execution_count": 8,
   "metadata": {},
   "outputs": [
    {
     "name": "stdout",
     "output_type": "stream",
     "text": [
      "<filter object at 0x000001D24524D630>\n",
      "-----\n",
      "[('Product1', 10), ('Product3', 12)]\n"
     ]
    }
   ],
   "source": [
    "# Filtering products with a price greater than or equal to 10\n",
    "\n",
    "items = [\n",
    "    (\"Product1\", 10),\n",
    "    (\"Product2\", 9),\n",
    "    (\"Product3\", 12),\n",
    "]\n",
    "\n",
    "x = filter(lambda item:item[1] >= 10, items)\n",
    "print(x)\n",
    "\n",
    "print(\"-----\")\n",
    "\n",
    "# This x will also return a filter object, which is also iterable\n",
    "\n",
    "prices = list(filter(lambda item:item[1] >= 10, items))\n",
    "print(prices)"
   ]
  },
  {
   "cell_type": "markdown",
   "metadata": {},
   "source": [
    "# List Comprehensions\n",
    "\n",
    "We can use `list comprehension` to achieve the same functionality provided by the `map` and `filter` functions"
   ]
  },
  {
   "cell_type": "code",
   "execution_count": null,
   "metadata": {},
   "outputs": [],
   "source": [
    "items = [\n",
    "    (\"Product1\", 10),\n",
    "    (\"Product2\", 9),\n",
    "    (\"Product3\", 12),\n",
    "]\n",
    "\n",
    "\n",
    "prices_1 = list(map(lambda item: item[1], items))\n",
    "# Above map function can be write using list comprehension\n",
    "prices_1 = [item[1] for item in items]\n",
    "\n",
    "\n",
    "prices_2 = list(filter(lambda item:item[1] >= 10, items))\n",
    "# Above filter function can be write using list comprehension\n",
    "prices_2  = [item for item in items if item[1] >= 10 ]"
   ]
  },
  {
   "cell_type": "markdown",
   "metadata": {},
   "source": [
    "# Zip Function"
   ]
  },
  {
   "cell_type": "code",
   "execution_count": 10,
   "metadata": {},
   "outputs": [
    {
     "name": "stdout",
     "output_type": "stream",
     "text": [
      "<zip object at 0x000001D2452FBF80>\n",
      "-----\n",
      "[(1, 10), (2, 20), (3, 30)]\n"
     ]
    }
   ],
   "source": [
    "list_1 = [1, 2, 3]\n",
    "list_2 = [10, 20, 30]\n",
    "\n",
    "x = zip(list_1, list_2)\n",
    "print(x)\n",
    "\n",
    "# This x will return a zip object which is also iterable, So we can iterate through it.\n",
    "\n",
    "print(\"-----\")\n",
    "\n",
    "combined = list(zip(list_1, list_2))\n",
    "print(combined)"
   ]
  },
  {
   "cell_type": "code",
   "execution_count": 11,
   "metadata": {},
   "outputs": [
    {
     "name": "stdout",
     "output_type": "stream",
     "text": [
      "[('a', 1, 10), ('b', 2, 20), ('c', 3, 30)]\n"
     ]
    }
   ],
   "source": [
    "# another example using Zip Function.( We don't need to pass the list as an argument to this. We can pass string too )\n",
    "\n",
    "list_1 = [1, 2, 3]\n",
    "list_2 = [10, 20, 30]\n",
    "\n",
    "print(list(zip(\"abc\", list_1, list_2)))"
   ]
  }
 ],
 "metadata": {
  "kernelspec": {
   "display_name": "Python 3",
   "language": "python",
   "name": "python3"
  },
  "language_info": {
   "codemirror_mode": {
    "name": "ipython",
    "version": 3
   },
   "file_extension": ".py",
   "mimetype": "text/x-python",
   "name": "python",
   "nbconvert_exporter": "python",
   "pygments_lexer": "ipython3",
   "version": "3.13.3"
  }
 },
 "nbformat": 4,
 "nbformat_minor": 2
}

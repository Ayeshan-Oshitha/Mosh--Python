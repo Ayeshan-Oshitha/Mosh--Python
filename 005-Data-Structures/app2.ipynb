{
 "cells": [
  {
   "cell_type": "markdown",
   "metadata": {},
   "source": [
    "# Stacks\n",
    "\n",
    "LIFO - Last In First Out\n",
    "\n",
    "Example: Browser Back button\n",
    "\n",
    "In Python, a `list` object can be used to implement a stack."
   ]
  },
  {
   "cell_type": "code",
   "execution_count": 1,
   "metadata": {},
   "outputs": [
    {
     "name": "stdout",
     "output_type": "stream",
     "text": [
      "[1, 2, 3]\n",
      "-----\n",
      "[1, 2]\n",
      "-----\n",
      "Current page: 2\n"
     ]
    }
   ],
   "source": [
    "# Initialize an empty stack to represent the browsing session\n",
    "browsing_session = []\n",
    "\n",
    "# ----- Adding Items to the Stack (Push operation) -----\n",
    "browsing_session.append(1)  # User visits page 1\n",
    "browsing_session.append(2)  # User visits page 2\n",
    "browsing_session.append(3)  # User visits page 3\n",
    "print(browsing_session)\n",
    "\n",
    "print(\"-----\")\n",
    "\n",
    "# ----- Removing the Top Item from the Stack (Pop operation) -----\n",
    "browsing_session.pop()  # User clicks 'Back', removes page 3\n",
    "print(browsing_session)\n",
    "\n",
    "print(\"-----\")\n",
    "\n",
    "# ----- Check if the Stack is Empty -----\n",
    "# In Python, an empty list is considered False in a boolean context\n",
    "if not browsing_session:\n",
    "    print(\"No pages left in the browsing session.\")\n",
    "else:\n",
    "    # Peek at the current top item (last visited page)\n",
    "    current_page = browsing_session[-1]\n",
    "    print(f\"Current page: {current_page}\")\n",
    "\n",
    "\n"
   ]
  },
  {
   "cell_type": "markdown",
   "metadata": {},
   "source": [
    "# Queues\n",
    "\n",
    "FIFO - First In First Out\n",
    "\n",
    "Example: Queue in the real world (e.g., line at a ticket counter)\n",
    "\n",
    "In Python, a `list` object can be used to implement a queue.In Python, a `list` object can be used to implement a queue, but it is not efficient for removing items from the front.  \n",
    "For better performance, use `collections.deque`, which provides fast and efficient queue operations."
   ]
  },
  {
   "cell_type": "code",
   "execution_count": 2,
   "metadata": {},
   "outputs": [
    {
     "name": "stdout",
     "output_type": "stream",
     "text": [
      "deque([1, 2, 3])\n",
      "-----\n",
      "deque([2, 3])\n",
      "-----\n"
     ]
    }
   ],
   "source": [
    "from collections import deque\n",
    "\n",
    "# Initialize an empty queue using deque (efficient for FIFO operations)\n",
    "queue = deque([])\n",
    "\n",
    "# ----- Adding Items to the Queue (Enqueue operation) -----\n",
    "queue.append(1)  # Person 1 joins the queue\n",
    "queue.append(2)  # Person 2 joins the queue\n",
    "queue.append(3)  # Person 3 joins the queue\n",
    "print(queue)\n",
    "\n",
    "print(\"-----\")\n",
    "\n",
    "# ----- Removing the First Item from the Queue (Dequeue operation) -----\n",
    "queue.popleft()  # Person 1 leaves the queue (first in, first out)\n",
    "print(queue) \n",
    "\n",
    "print(\"-----\")\n",
    "\n",
    "# ----- Check if the Queue is Empty -----\n",
    "if not queue:  # An empty deque is considered False in a boolean context\n",
    "    print(\"The queue is empty.\")"
   ]
  },
  {
   "cell_type": "markdown",
   "metadata": {},
   "source": [
    "# Tuples\n",
    "\n",
    "A **read-only** list that contains a sequence of objects but **cannot be modified** (i.e., you cannot add, remove, or update elements).\n"
   ]
  },
  {
   "cell_type": "code",
   "execution_count": 6,
   "metadata": {},
   "outputs": [
    {
     "name": "stdout",
     "output_type": "stream",
     "text": [
      "type of point_2 : <class 'tuple'>\n",
      "type of point_3 : <class 'tuple'>\n",
      "type of point_4 : <class 'tuple'>\n"
     ]
    }
   ],
   "source": [
    "# Declaring a tuple using parentheses\n",
    "point_1 = (1, 2)\n",
    "\n",
    "# Tuples can also be declared without parentheses\n",
    "point_2 = 3, 4\n",
    "print(\"type of point_2 : \" + str(type(point_2)))\n",
    "\n",
    "# For a single-item tuple, a trailing comma is required\n",
    "point_3 = 5,\n",
    "print(\"type of point_3 : \" + str(type(point_3)))\n",
    "\n",
    "# Empty tuple\n",
    "point_4 = ()\n",
    "print(\"type of point_4 : \" + str(type(point_4)))\n"
   ]
  },
  {
   "cell_type": "code",
   "execution_count": 17,
   "metadata": {},
   "outputs": [
    {
     "name": "stdout",
     "output_type": "stream",
     "text": [
      "point_1 : (1, 2, 3, 4)\n",
      "point_2 : (1, 2, 1, 2, 1, 2)\n",
      "<class 'tuple'>\n",
      "('H', 'e', 'l', 'l', 'o', ' ', 'W', 'o', 'r', 'l', 'd')\n"
     ]
    }
   ],
   "source": [
    "# Concatenate Tuple\n",
    "point_1 = (1, 2) + (3, 4)\n",
    "print( \"point_1 : \" + str(point_1))\n",
    "\n",
    "# Repeat a tuple\n",
    "point_2 = (1, 2) * 3\n",
    "print( \"point_2 : \" + str(point_2))\n",
    "\n",
    "# Convert a list to a tuple using the tuple() function\n",
    "point_3 = tuple([1, 2])\n",
    "print(type(point_3))  \n",
    "\n",
    "# We can pass any iterable to the tuple() function\n",
    "\n",
    "# Convert a string to a tuple (since a string is an iterable, each character becomes an element)\n",
    "point_4 = tuple(\"Hello World\")\n",
    "print(point_4)  "
   ]
  },
  {
   "cell_type": "code",
   "execution_count": 20,
   "metadata": {},
   "outputs": [
    {
     "name": "stdout",
     "output_type": "stream",
     "text": [
      "3\n",
      "(1, 2)\n",
      "-----\n",
      "1\n",
      "-----\n",
      "Not exist\n"
     ]
    }
   ],
   "source": [
    "# Accessing an item\n",
    "point = (1,2,3)\n",
    "print(point[2])\n",
    "print(point[0:2])\n",
    "\n",
    "print(\"-----\")\n",
    "\n",
    "# Unpacing a tuple\n",
    "x,y,z = point\n",
    "print(x)\n",
    "\n",
    "print(\"-----\")\n",
    "\n",
    "# Use In operator for check existance of a item\n",
    "if 10 in point:\n",
    "    print(\"exist\")\n",
    "else:\n",
    "    print(\"Not exist\")\n"
   ]
  },
  {
   "cell_type": "markdown",
   "metadata": {},
   "source": [
    "If we need a sequence of objects (typically a list), but want to ensure that we don't accidentally add, remove, or modify any items, we should use a tuple instead."
   ]
  },
  {
   "cell_type": "markdown",
   "metadata": {},
   "source": [
    "# Swapping Variable"
   ]
  },
  {
   "cell_type": "code",
   "execution_count": 23,
   "metadata": {},
   "outputs": [
    {
     "name": "stdout",
     "output_type": "stream",
     "text": [
      "x :  11\n",
      "y :  10\n",
      "-----\n",
      "a :  2\n",
      "b :  1\n"
     ]
    }
   ],
   "source": [
    "# Normally, we need an extra variable to swap values\n",
    "x = 10\n",
    "y = 11\n",
    "\n",
    "z = x\n",
    "x = y\n",
    "y = z\n",
    "\n",
    "print(\"x : \", x)\n",
    "print(\"y : \", y)\n",
    "\n",
    "print(\"-----\")\n",
    "\n",
    "\n",
    "# In Python, we can swap values without using an extra variable\n",
    "# This uses tuple packing and unpacking\n",
    "a = 1\n",
    "b = 2\n",
    "\n",
    "a, b = b, a # Swap values using tuple unpacking\n",
    "\n",
    "print(\"a : \", a)\n",
    "print(\"b : \", b)"
   ]
  },
  {
   "cell_type": "markdown",
   "metadata": {},
   "source": [
    "# Arrays\n",
    "\n",
    "Although we usually use lists, when working with a large set of items, it's better to use arrays to improve performance and memory efficiency.\n",
    "\n",
    "Syntax: `array(typecode, [elements])`"
   ]
  },
  {
   "cell_type": "code",
   "execution_count": 27,
   "metadata": {},
   "outputs": [
    {
     "name": "stdout",
     "output_type": "stream",
     "text": [
      "array('i', [1, 2, 3, 5])\n",
      "-----\n",
      "array('i', [1, 2, 3, 4, 5])\n",
      "-----\n",
      "array('i', [1, 2, 3, 4])\n",
      "-----\n",
      "array('i', [1, 2, 4])\n",
      "-----\n",
      "1\n",
      "array('i', [1, 2])\n"
     ]
    }
   ],
   "source": [
    "from array import array\n",
    "\n",
    "# Declaring an array of signed integers\n",
    "numbers = array(\"i\", [1, 2, 3])  # \"i\" stands for signed integer\n",
    "\n",
    "# Add a number at the end of the array\n",
    "numbers.append(5)\n",
    "print(numbers)\n",
    "\n",
    "print(\"-----\")\n",
    "\n",
    "# Insert a number at a specific position (index 4)\n",
    "numbers.insert(3, 4)\n",
    "print(numbers)\n",
    "\n",
    "print(\"-----\")\n",
    "\n",
    "# Remove the last item from the array\n",
    "numbers.pop()\n",
    "print(numbers)\n",
    "\n",
    "print(\"-----\")\n",
    "\n",
    "# Remove the first occurrence of the value 3\n",
    "numbers.remove(3)\n",
    "print(numbers)\n",
    "\n",
    "print(\"-----\")\n",
    "\n",
    "# Accessing a single item by index\n",
    "print(numbers[0])  # First element\n",
    "\n",
    "# Accessing a slice (first two elements)\n",
    "print(numbers[0:2])"
   ]
  },
  {
   "cell_type": "markdown",
   "metadata": {},
   "source": [
    "Unlike lists, `arrays are type-restricted` — they can store only one specific data type. If you try to add an element of a different type, Python will raise an error."
   ]
  },
  {
   "cell_type": "markdown",
   "metadata": {},
   "source": [
    "# Set\n",
    "\n",
    "A set in Python is a collection of unique elements, with no duplicate values and no specific order."
   ]
  },
  {
   "cell_type": "code",
   "execution_count": null,
   "metadata": {},
   "outputs": [
    {
     "name": "stdout",
     "output_type": "stream",
     "text": [
      "<class 'set'>\n",
      "-----\n",
      "{1, 2, 3, 4, 5}\n"
     ]
    }
   ],
   "source": [
    "# Define a set using curly braces\n",
    "first = {1,2,3,4}\n",
    "print(type(first))\n",
    "\n",
    "print(\"-----\")\n",
    "\n",
    "# Define a set using the set() function\n",
    "uniques = [1,2,3,4,5]\n",
    "second = set(uniques)\n",
    "print(second)\n"
   ]
  },
  {
   "cell_type": "code",
   "execution_count": 2,
   "metadata": {},
   "outputs": [
    {
     "name": "stdout",
     "output_type": "stream",
     "text": [
      "{1, 3, 4}\n",
      "-----\n",
      "{1, 3, 4, 5}\n",
      "-----\n",
      "{1, 3, 4}\n",
      "-----\n",
      "3\n"
     ]
    }
   ],
   "source": [
    "numbers = {1,4}\n",
    "\n",
    "# Add an item to the set\n",
    "numbers.add(3)\n",
    "print(numbers)\n",
    "\n",
    "print(\"-----\")\n",
    "\n",
    "# Update the set with multiple elements (must be passed as an iterable)\n",
    "numbers.update([3, 5])  # '3' is already in the set, '5' will be added\n",
    "print(numbers)\n",
    "\n",
    "print(\"-----\")\n",
    "\n",
    "# Remove an item from the set (raises KeyError if the item is not found)\n",
    "numbers.remove(5)  # '5' will be removed\n",
    "print(numbers)\n",
    "\n",
    "print(\"-----\")\n",
    "\n",
    "# Print the number of elements in the set\n",
    "print(len(numbers))\n",
    "\n"
   ]
  },
  {
   "cell_type": "markdown",
   "metadata": {},
   "source": [
    "Sets are powerful for performing **mathematical operations** such as union, intersection, and difference"
   ]
  },
  {
   "cell_type": "code",
   "execution_count": 9,
   "metadata": {},
   "outputs": [
    {
     "name": "stdout",
     "output_type": "stream",
     "text": [
      "Union is : {1, 2, 3, 4, 5}\n",
      "InterSection is : {1, 4}\n",
      "Difference (numbers_1 - numbers_2) is : {2, 3}\n",
      "Difference (numbers_2 - numbers_1) is : {5}\n",
      "Symmetric difference) is : {2, 3, 5}\n"
     ]
    }
   ],
   "source": [
    "numbers_1 = {1,1,2,3,4}\n",
    "numbers_2 = {1,4,5}\n",
    "\n",
    "# Union: combines all unique elements from both sets\n",
    "print(\"Union is : \" + str(numbers_1 | numbers_2 ))\n",
    "\n",
    "# Intersection: elements common to both sets\n",
    "print(\"InterSection is : \" + str(numbers_1 & numbers_2 ))\n",
    "\n",
    "# Difference: elements in numbers_1 but not in numbers_2\n",
    "print(\"Difference (numbers_1 - numbers_2) is : \" + str(numbers_1 - numbers_2 ))\n",
    "\n",
    "# Difference: elements in numbers_2 but not in numbers_1\n",
    "print(\"Difference (numbers_2 - numbers_1) is : \" + str(numbers_2 - numbers_1 ))\n",
    "\n",
    "# Symmetric Difference: elements in either set, but not in both\n",
    "print(\"Symmetric difference) is : \" + str(numbers_2 ^ numbers_1 ))"
   ]
  },
  {
   "cell_type": "markdown",
   "metadata": {},
   "source": [
    "Since a set is an unordered collection, we **cannot** access items using indexing.\n",
    "\n",
    "print(numbers_1[0])  - This will give an error.\n",
    "\n",
    "However, we can check whether an item exists in a set using the in keyword:"
   ]
  },
  {
   "cell_type": "code",
   "execution_count": 10,
   "metadata": {},
   "outputs": [
    {
     "name": "stdout",
     "output_type": "stream",
     "text": [
      "Yes\n",
      "True\n"
     ]
    }
   ],
   "source": [
    "# First Method\n",
    "if 1 in numbers_1:\n",
    "    print(\"Yes\")\n",
    "else:\n",
    "    print(\"No\")\n",
    "\n",
    "# Second Method\n",
    "print(3 in numbers_1) # Output: True if 3 is in the set"
   ]
  },
  {
   "cell_type": "markdown",
   "metadata": {},
   "source": [
    "# Dictionaries\n",
    "\n",
    "Dictionaries in Python are collections of key-value pairs.\n",
    "\n",
    "In Python, only immutable types can be used as dictionary keys. Most commonly, strings or numbers are used as keys.\n",
    "\n",
    "However, Values can be of any type — including lists, other dictionaries, or even functions."
   ]
  },
  {
   "cell_type": "code",
   "execution_count": null,
   "metadata": {},
   "outputs": [
    {
     "name": "stdout",
     "output_type": "stream",
     "text": [
      "<class 'dict'>\n",
      "{'x': 1, 'y': 2}\n",
      "-----\n",
      "1\n",
      "-----\n",
      "{'x': 12, 'y': 2}\n"
     ]
    }
   ],
   "source": [
    "# Define a set using curly braces\n",
    "point_1 = {\"x\" : 1, \"y\" : 2}\n",
    "print(type(point_1))\n",
    "\n",
    "# Define a set using dict() function\n",
    "point_2 = dict (x=1, y=2)\n",
    "print(point_2)\n",
    "\n",
    "print(\"-----\")\n",
    "\n",
    "# Accessing a value using a key\n",
    "print(point_1[\"x\"])\n",
    "\n",
    "print(\"-----\")\n",
    "\n",
    "# Modifying the value associated with a key\n",
    "point_2[\"x\"] = 12\n",
    "print(point_2)"
   ]
  },
  {
   "cell_type": "code",
   "execution_count": 19,
   "metadata": {},
   "outputs": [
    {
     "name": "stdout",
     "output_type": "stream",
     "text": [
      "No\n",
      "None\n",
      "0\n"
     ]
    }
   ],
   "source": [
    "#Checking for Key Existence in a Dictionary\n",
    "\n",
    "point = {\"x\" : 1, \"y\" : 2}\n",
    "\n",
    "# Using the 'in' keyword to check if a key exists\n",
    "if \"a\" in point:\n",
    "    print(\"Yes\")\n",
    "else:\n",
    "    print(\"No\")\n",
    "\n",
    "# Using the get() method to safely retrieve a value\n",
    "print(point.get(\"a\"))\n",
    "\n",
    "# Using get() with a default value if the key is missing\n",
    "print(point.get(\"a\", 0)) "
   ]
  },
  {
   "cell_type": "code",
   "execution_count": null,
   "metadata": {},
   "outputs": [
    {
     "name": "stdout",
     "output_type": "stream",
     "text": [
      "{'x': 1, 'z': 5}\n"
     ]
    }
   ],
   "source": [
    "point = {\"x\" : 1, \"y\" : 2, \"z\" : 5}\n",
    "\n",
    "# Deleting an item\n",
    "del point[\"y\"]\n",
    "print(point)"
   ]
  },
  {
   "cell_type": "code",
   "execution_count": null,
   "metadata": {},
   "outputs": [
    {
     "name": "stdout",
     "output_type": "stream",
     "text": [
      "x 1\n",
      "y 2\n",
      "z 5\n",
      "-----\n",
      "('x', 1)\n",
      "('y', 2)\n",
      "('z', 5)\n",
      "-----\n",
      "x 1\n",
      "y 2\n",
      "z 5\n"
     ]
    }
   ],
   "source": [
    "# Loop through the dictionary keys and print each key with its value\n",
    "\n",
    "point = {\"x\" : 1, \"y\" : 2, \"z\" : 5}\n",
    "\n",
    "# First Method\n",
    "for key in point:\n",
    "    print(key, point[key])\n",
    "\n",
    "print(\"-----\")\n",
    "\n",
    "# Second Method\n",
    "for x in point.items():\n",
    "    print(x)\n",
    "\n",
    "print(\"-----\")\n",
    "\n",
    "# Third Method (Unpacking tuple in Second Method)\n",
    "for key, value in point.items():\n",
    "    print(key, value)"
   ]
  },
  {
   "cell_type": "markdown",
   "metadata": {},
   "source": [
    "## Dictionary Comprehension"
   ]
  },
  {
   "cell_type": "code",
   "execution_count": null,
   "metadata": {},
   "outputs": [],
   "source": [
    "# Using a for loop to create a list of doubled values\n",
    "values = []\n",
    "for x in range(5):\n",
    "    values.append(x * 2)\n",
    "\n",
    "# The above pattern can be simplified using list comprehension\n",
    "# Syntax: [expression for item in iterable]\n",
    "values = [x * 2 for x in range(5)]"
   ]
  },
  {
   "cell_type": "markdown",
   "metadata": {},
   "source": [
    "Comprehensions are not limited to lists. we can also use them with `sets` and `dictionaries`.\n"
   ]
  },
  {
   "cell_type": "code",
   "execution_count": 2,
   "metadata": {},
   "outputs": [
    {
     "name": "stdout",
     "output_type": "stream",
     "text": [
      "{0, 2, 4, 6, 8}\n",
      "-----\n",
      "{0: 0, 1: 2, 2: 4, 3: 6, 4: 8}\n"
     ]
    }
   ],
   "source": [
    "# Set Comprehension\n",
    "values = {x * 2 for x in range(5)}\n",
    "print(values)\n",
    "\n",
    "print(\"-----\")\n",
    "\n",
    "# Dictionary Comprehension\n",
    "values = { x : x * 2 for x in range(5)}\n",
    "print(values)"
   ]
  },
  {
   "cell_type": "markdown",
   "metadata": {},
   "source": [
    "# Generator Expression\n",
    "\n",
    "Generators are a type of iterable in Python. Unlike lists, they do not store all values in memory. Instead, they generate values one at a time as you loop over them. This makes them very memory-efficient, especially for large data sets."
   ]
  },
  {
   "cell_type": "code",
   "execution_count": 5,
   "metadata": {},
   "outputs": [
    {
     "name": "stdout",
     "output_type": "stream",
     "text": [
      "<generator object <genexpr> at 0x00000183F2823B90>\n",
      "-----\n",
      "0\n",
      "2\n",
      "4\n",
      "6\n",
      "8\n"
     ]
    }
   ],
   "source": [
    "# Generator Expression\n",
    "\n",
    "values = ( x * 2 for x in range(5))\n",
    "print(values)\n",
    "\n",
    "print(\"-----\")\n",
    "\n",
    "for x in values:\n",
    "    print(x)"
   ]
  },
  {
   "cell_type": "code",
   "execution_count": 10,
   "metadata": {},
   "outputs": [
    {
     "name": "stdout",
     "output_type": "stream",
     "text": [
      "List Comprehension\n",
      "gen 1000 :  8856  bytes\n",
      "gen 1000000 :  8448728  bytes\n",
      "-----\n",
      "Generator Expression\n",
      "gen 1000 :  200  bytes\n",
      "gen 1000000 :  200  bytes\n"
     ]
    }
   ],
   "source": [
    "# Compare space of List ve Generators\n",
    "\n",
    "from sys import getsizeof\n",
    "\n",
    "print(\"List Comprehension\")\n",
    "\n",
    "values = [ x * 2 for x in range(1000)]\n",
    "print(\"gen 1000 : \" , getsizeof(values) , \" bytes\")\n",
    "\n",
    "values = [ x * 2 for x in range(1000000)]\n",
    "print(\"gen 1000000 : \" , getsizeof(values) , \" bytes\")\n",
    "\n",
    "print(\"-----\")\n",
    "\n",
    "print(\"Generator Expression\")\n",
    "\n",
    "values = ( x * 2 for x in range(1000))\n",
    "print(\"gen 1000 : \" , getsizeof(values) , \" bytes\")\n",
    "\n",
    "values = ( x * 2 for x in range(1000000))\n",
    "print(\"gen 1000000 : \" , getsizeof(values) , \" bytes\")"
   ]
  },
  {
   "cell_type": "markdown",
   "metadata": {},
   "source": [
    "As we can see, the memory usage of generators stays consistent, while lists use much more space as the number of items increases"
   ]
  },
  {
   "cell_type": "markdown",
   "metadata": {},
   "source": [
    "## Unpacking Operator\n",
    "\n",
    "The unpacking operator (*) in Python works like the spread operator (...) in other languages. It unpacks elements from a collection and passes them as individual arguments."
   ]
  },
  {
   "cell_type": "code",
   "execution_count": 11,
   "metadata": {},
   "outputs": [
    {
     "name": "stdout",
     "output_type": "stream",
     "text": [
      "1 2 3\n"
     ]
    }
   ],
   "source": [
    "numbers = [1, 2, 3]\n",
    "\n",
    "print(*numbers)"
   ]
  },
  {
   "cell_type": "markdown",
   "metadata": {},
   "source": [
    "Sometimes, the unpacking operator (*) is really useful with lists. It can unpack elements directly into a new list."
   ]
  },
  {
   "cell_type": "code",
   "execution_count": 25,
   "metadata": {},
   "outputs": [
    {
     "name": "stdout",
     "output_type": "stream",
     "text": [
      "[0, 1, 2, 3, 4]\n",
      "-----\n",
      "[0, 1, 2, 3, 4]\n",
      "-----\n",
      "['H', 'e', 'l', 'l', 'o']\n"
     ]
    }
   ],
   "source": [
    "# Using list() to create a list from a range\n",
    "values = list(range(5))\n",
    "print(values)\n",
    "\n",
    "print(\"-----\")\n",
    "\n",
    "# Using unpacking to create a list from a range\n",
    "values = [*range(5)]\n",
    "print(values)\n",
    "\n",
    "print(\"-----\")\n",
    "\n",
    "# Unpacking characters from a string into a list\n",
    "word = [*\"Hello\"]\n",
    "print(word)\n"
   ]
  },
  {
   "cell_type": "code",
   "execution_count": 23,
   "metadata": {},
   "outputs": [
    {
     "name": "stdout",
     "output_type": "stream",
     "text": [
      "[1, 2, 3]\n"
     ]
    }
   ],
   "source": [
    "# Unpack elements from two lists and a string into a single list\n",
    "\n",
    "first = [1, 2]\n",
    "second = [3]\n",
    "\n",
    "values = [*first,  *second]\n",
    "print(values)"
   ]
  },
  {
   "cell_type": "code",
   "execution_count": 22,
   "metadata": {},
   "outputs": [
    {
     "name": "stdout",
     "output_type": "stream",
     "text": [
      "{'x': 1, 'y': 10, 'z': 2}\n"
     ]
    }
   ],
   "source": [
    "# Unpack two dictionaries using the double asterisk (**) to combine them into one\n",
    "\n",
    "first = {\"x\" : 1}\n",
    "second = {\"y\" : 10, \"z\":2 }\n",
    "combined = {**first, **second}\n",
    "print(combined)"
   ]
  }
 ],
 "metadata": {
  "kernelspec": {
   "display_name": "Python 3",
   "language": "python",
   "name": "python3"
  },
  "language_info": {
   "codemirror_mode": {
    "name": "ipython",
    "version": 3
   },
   "file_extension": ".py",
   "mimetype": "text/x-python",
   "name": "python",
   "nbconvert_exporter": "python",
   "pygments_lexer": "ipython3",
   "version": "3.13.3"
  }
 },
 "nbformat": 4,
 "nbformat_minor": 2
}

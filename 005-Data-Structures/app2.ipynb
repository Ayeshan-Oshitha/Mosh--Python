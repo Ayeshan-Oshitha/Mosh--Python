{
 "cells": [
  {
   "cell_type": "markdown",
   "metadata": {},
   "source": [
    "# Stacks\n",
    "\n",
    "LIFO - Last In First Out\n",
    "\n",
    "Example: Browser Back button\n",
    "\n",
    "In Python, a `list` object can be used to implement a stack."
   ]
  },
  {
   "cell_type": "code",
   "execution_count": 1,
   "metadata": {},
   "outputs": [
    {
     "name": "stdout",
     "output_type": "stream",
     "text": [
      "[1, 2, 3]\n",
      "-----\n",
      "[1, 2]\n",
      "-----\n",
      "Current page: 2\n"
     ]
    }
   ],
   "source": [
    "# Initialize an empty stack to represent the browsing session\n",
    "browsing_session = []\n",
    "\n",
    "# ----- Adding Items to the Stack (Push operation) -----\n",
    "browsing_session.append(1)  # User visits page 1\n",
    "browsing_session.append(2)  # User visits page 2\n",
    "browsing_session.append(3)  # User visits page 3\n",
    "print(browsing_session)\n",
    "\n",
    "print(\"-----\")\n",
    "\n",
    "# ----- Removing the Top Item from the Stack (Pop operation) -----\n",
    "browsing_session.pop()  # User clicks 'Back', removes page 3\n",
    "print(browsing_session)\n",
    "\n",
    "print(\"-----\")\n",
    "\n",
    "# ----- Check if the Stack is Empty -----\n",
    "# In Python, an empty list is considered False in a boolean context\n",
    "if not browsing_session:\n",
    "    print(\"No pages left in the browsing session.\")\n",
    "else:\n",
    "    # Peek at the current top item (last visited page)\n",
    "    current_page = browsing_session[-1]\n",
    "    print(f\"Current page: {current_page}\")\n",
    "\n",
    "\n"
   ]
  },
  {
   "cell_type": "markdown",
   "metadata": {},
   "source": [
    "# Queues\n",
    "\n",
    "FIFO - First In First Out\n",
    "\n",
    "Example: Queue in the real world (e.g., line at a ticket counter)\n",
    "\n",
    "In Python, a `list` object can be used to implement a queue.In Python, a `list` object can be used to implement a queue, but it is not efficient for removing items from the front.  \n",
    "For better performance, use `collections.deque`, which provides fast and efficient queue operations."
   ]
  },
  {
   "cell_type": "code",
   "execution_count": 2,
   "metadata": {},
   "outputs": [
    {
     "name": "stdout",
     "output_type": "stream",
     "text": [
      "deque([1, 2, 3])\n",
      "-----\n",
      "deque([2, 3])\n",
      "-----\n"
     ]
    }
   ],
   "source": [
    "from collections import deque\n",
    "\n",
    "# Initialize an empty queue using deque (efficient for FIFO operations)\n",
    "queue = deque([])\n",
    "\n",
    "# ----- Adding Items to the Queue (Enqueue operation) -----\n",
    "queue.append(1)  # Person 1 joins the queue\n",
    "queue.append(2)  # Person 2 joins the queue\n",
    "queue.append(3)  # Person 3 joins the queue\n",
    "print(queue)\n",
    "\n",
    "print(\"-----\")\n",
    "\n",
    "# ----- Removing the First Item from the Queue (Dequeue operation) -----\n",
    "queue.popleft()  # Person 1 leaves the queue (first in, first out)\n",
    "print(queue) \n",
    "\n",
    "print(\"-----\")\n",
    "\n",
    "# ----- Check if the Queue is Empty -----\n",
    "if not queue:  # An empty deque is considered False in a boolean context\n",
    "    print(\"The queue is empty.\")"
   ]
  }
 ],
 "metadata": {
  "kernelspec": {
   "display_name": "Python 3",
   "language": "python",
   "name": "python3"
  },
  "language_info": {
   "codemirror_mode": {
    "name": "ipython",
    "version": 3
   },
   "file_extension": ".py",
   "mimetype": "text/x-python",
   "name": "python",
   "nbconvert_exporter": "python",
   "pygments_lexer": "ipython3",
   "version": "3.13.3"
  }
 },
 "nbformat": 4,
 "nbformat_minor": 2
}

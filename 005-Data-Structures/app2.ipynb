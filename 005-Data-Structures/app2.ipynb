{
 "cells": [
  {
   "cell_type": "markdown",
   "metadata": {},
   "source": [
    "# Stacks\n",
    "\n",
    "LIFO - Last In First Out\n",
    "\n",
    "Example: Browser Back button\n",
    "\n",
    "In Python, a `list` object can be used to implement a stack."
   ]
  },
  {
   "cell_type": "code",
   "execution_count": 1,
   "metadata": {},
   "outputs": [
    {
     "name": "stdout",
     "output_type": "stream",
     "text": [
      "[1, 2, 3]\n",
      "-----\n",
      "[1, 2]\n",
      "-----\n",
      "Current page: 2\n"
     ]
    }
   ],
   "source": [
    "# Initialize an empty stack to represent the browsing session\n",
    "browsing_session = []\n",
    "\n",
    "# ----- Adding Items to the Stack (Push operation) -----\n",
    "browsing_session.append(1)  # User visits page 1\n",
    "browsing_session.append(2)  # User visits page 2\n",
    "browsing_session.append(3)  # User visits page 3\n",
    "print(browsing_session)\n",
    "\n",
    "print(\"-----\")\n",
    "\n",
    "# ----- Removing the Top Item from the Stack (Pop operation) -----\n",
    "browsing_session.pop()  # User clicks 'Back', removes page 3\n",
    "print(browsing_session)\n",
    "\n",
    "print(\"-----\")\n",
    "\n",
    "# ----- Check if the Stack is Empty -----\n",
    "# In Python, an empty list is considered False in a boolean context\n",
    "if not browsing_session:\n",
    "    print(\"No pages left in the browsing session.\")\n",
    "else:\n",
    "    # Peek at the current top item (last visited page)\n",
    "    current_page = browsing_session[-1]\n",
    "    print(f\"Current page: {current_page}\")\n",
    "\n",
    "\n"
   ]
  },
  {
   "cell_type": "markdown",
   "metadata": {},
   "source": [
    "# Queues\n",
    "\n",
    "FIFO - First In First Out\n",
    "\n",
    "Example: Queue in the real world (e.g., line at a ticket counter)\n",
    "\n",
    "In Python, a `list` object can be used to implement a queue.In Python, a `list` object can be used to implement a queue, but it is not efficient for removing items from the front.  \n",
    "For better performance, use `collections.deque`, which provides fast and efficient queue operations."
   ]
  },
  {
   "cell_type": "code",
   "execution_count": 2,
   "metadata": {},
   "outputs": [
    {
     "name": "stdout",
     "output_type": "stream",
     "text": [
      "deque([1, 2, 3])\n",
      "-----\n",
      "deque([2, 3])\n",
      "-----\n"
     ]
    }
   ],
   "source": [
    "from collections import deque\n",
    "\n",
    "# Initialize an empty queue using deque (efficient for FIFO operations)\n",
    "queue = deque([])\n",
    "\n",
    "# ----- Adding Items to the Queue (Enqueue operation) -----\n",
    "queue.append(1)  # Person 1 joins the queue\n",
    "queue.append(2)  # Person 2 joins the queue\n",
    "queue.append(3)  # Person 3 joins the queue\n",
    "print(queue)\n",
    "\n",
    "print(\"-----\")\n",
    "\n",
    "# ----- Removing the First Item from the Queue (Dequeue operation) -----\n",
    "queue.popleft()  # Person 1 leaves the queue (first in, first out)\n",
    "print(queue) \n",
    "\n",
    "print(\"-----\")\n",
    "\n",
    "# ----- Check if the Queue is Empty -----\n",
    "if not queue:  # An empty deque is considered False in a boolean context\n",
    "    print(\"The queue is empty.\")"
   ]
  },
  {
   "cell_type": "markdown",
   "metadata": {},
   "source": [
    "# Tuples\n",
    "\n",
    "A **read-only** list that contains a sequence of objects but **cannot be modified** (i.e., you cannot add, remove, or update elements).\n"
   ]
  },
  {
   "cell_type": "code",
   "execution_count": 6,
   "metadata": {},
   "outputs": [
    {
     "name": "stdout",
     "output_type": "stream",
     "text": [
      "type of point_2 : <class 'tuple'>\n",
      "type of point_3 : <class 'tuple'>\n",
      "type of point_4 : <class 'tuple'>\n"
     ]
    }
   ],
   "source": [
    "# Declaring a tuple using parentheses\n",
    "point_1 = (1, 2)\n",
    "\n",
    "# Tuples can also be declared without parentheses\n",
    "point_2 = 3, 4\n",
    "print(\"type of point_2 : \" + str(type(point_2)))\n",
    "\n",
    "# For a single-item tuple, a trailing comma is required\n",
    "point_3 = 5,\n",
    "print(\"type of point_3 : \" + str(type(point_3)))\n",
    "\n",
    "# Empty tuple\n",
    "point_4 = ()\n",
    "print(\"type of point_4 : \" + str(type(point_4)))\n"
   ]
  },
  {
   "cell_type": "code",
   "execution_count": 17,
   "metadata": {},
   "outputs": [
    {
     "name": "stdout",
     "output_type": "stream",
     "text": [
      "point_1 : (1, 2, 3, 4)\n",
      "point_2 : (1, 2, 1, 2, 1, 2)\n",
      "<class 'tuple'>\n",
      "('H', 'e', 'l', 'l', 'o', ' ', 'W', 'o', 'r', 'l', 'd')\n"
     ]
    }
   ],
   "source": [
    "# Concatenate Tuple\n",
    "point_1 = (1, 2) + (3, 4)\n",
    "print( \"point_1 : \" + str(point_1))\n",
    "\n",
    "# Repeat a tuple\n",
    "point_2 = (1, 2) * 3\n",
    "print( \"point_2 : \" + str(point_2))\n",
    "\n",
    "# Convert a list to a tuple using the tuple() function\n",
    "point_3 = tuple([1, 2])\n",
    "print(type(point_3))  \n",
    "\n",
    "# We can pass any iterable to the tuple() function\n",
    "\n",
    "# Convert a string to a tuple (since a string is an iterable, each character becomes an element)\n",
    "point_4 = tuple(\"Hello World\")\n",
    "print(point_4)  "
   ]
  },
  {
   "cell_type": "code",
   "execution_count": 20,
   "metadata": {},
   "outputs": [
    {
     "name": "stdout",
     "output_type": "stream",
     "text": [
      "3\n",
      "(1, 2)\n",
      "-----\n",
      "1\n",
      "-----\n",
      "Not exist\n"
     ]
    }
   ],
   "source": [
    "# Accessing an item\n",
    "point = (1,2,3)\n",
    "print(point[2])\n",
    "print(point[0:2])\n",
    "\n",
    "print(\"-----\")\n",
    "\n",
    "# Unpacing a tuple\n",
    "x,y,z = point\n",
    "print(x)\n",
    "\n",
    "print(\"-----\")\n",
    "\n",
    "# Use In operator for check existance of a item\n",
    "if 10 in point:\n",
    "    print(\"exist\")\n",
    "else:\n",
    "    print(\"Not exist\")\n"
   ]
  },
  {
   "cell_type": "markdown",
   "metadata": {},
   "source": [
    "If we need a sequence of objects (typically a list), but want to ensure that we don't accidentally add, remove, or modify any items, we should use a tuple instead."
   ]
  },
  {
   "cell_type": "markdown",
   "metadata": {},
   "source": [
    "# Swapping Variable"
   ]
  },
  {
   "cell_type": "code",
   "execution_count": 23,
   "metadata": {},
   "outputs": [
    {
     "name": "stdout",
     "output_type": "stream",
     "text": [
      "x :  11\n",
      "y :  10\n",
      "-----\n",
      "a :  2\n",
      "b :  1\n"
     ]
    }
   ],
   "source": [
    "# Normally, we need an extra variable to swap values\n",
    "x = 10\n",
    "y = 11\n",
    "\n",
    "z = x\n",
    "x = y\n",
    "y = z\n",
    "\n",
    "print(\"x : \", x)\n",
    "print(\"y : \", y)\n",
    "\n",
    "print(\"-----\")\n",
    "\n",
    "\n",
    "# In Python, we can swap values without using an extra variable\n",
    "# This uses tuple packing and unpacking\n",
    "a = 1\n",
    "b = 2\n",
    "\n",
    "a, b = b, a # Swap values using tuple unpacking\n",
    "\n",
    "print(\"a : \", a)\n",
    "print(\"b : \", b)"
   ]
  },
  {
   "cell_type": "markdown",
   "metadata": {},
   "source": [
    "# Arrays\n",
    "\n",
    "Although we usually use lists, when working with a large set of items, it's better to use arrays to improve performance and memory efficiency.\n",
    "\n",
    "Syntax: `array(typecode, [elements])`"
   ]
  },
  {
   "cell_type": "code",
   "execution_count": 27,
   "metadata": {},
   "outputs": [
    {
     "name": "stdout",
     "output_type": "stream",
     "text": [
      "array('i', [1, 2, 3, 5])\n",
      "-----\n",
      "array('i', [1, 2, 3, 4, 5])\n",
      "-----\n",
      "array('i', [1, 2, 3, 4])\n",
      "-----\n",
      "array('i', [1, 2, 4])\n",
      "-----\n",
      "1\n",
      "array('i', [1, 2])\n"
     ]
    }
   ],
   "source": [
    "from array import array\n",
    "\n",
    "# Declaring an array of signed integers\n",
    "numbers = array(\"i\", [1, 2, 3])  # \"i\" stands for signed integer\n",
    "\n",
    "# Add a number at the end of the array\n",
    "numbers.append(5)\n",
    "print(numbers)\n",
    "\n",
    "print(\"-----\")\n",
    "\n",
    "# Insert a number at a specific position (index 4)\n",
    "numbers.insert(3, 4)\n",
    "print(numbers)\n",
    "\n",
    "print(\"-----\")\n",
    "\n",
    "# Remove the last item from the array\n",
    "numbers.pop()\n",
    "print(numbers)\n",
    "\n",
    "print(\"-----\")\n",
    "\n",
    "# Remove the first occurrence of the value 3\n",
    "numbers.remove(3)\n",
    "print(numbers)\n",
    "\n",
    "print(\"-----\")\n",
    "\n",
    "# Accessing a single item by index\n",
    "print(numbers[0])  # First element\n",
    "\n",
    "# Accessing a slice (first two elements)\n",
    "print(numbers[0:2])"
   ]
  },
  {
   "cell_type": "markdown",
   "metadata": {},
   "source": [
    "Unlike lists, `arrays are type-restricted` — they can store only one specific data type. If you try to add an element of a different type, Python will raise an error."
   ]
  },
  {
   "cell_type": "markdown",
   "metadata": {},
   "source": [
    "# Set\n",
    "\n",
    "A set in Python is a collection of unique elements, with no duplicate values and no specific order."
   ]
  },
  {
   "cell_type": "code",
   "execution_count": null,
   "metadata": {},
   "outputs": [
    {
     "name": "stdout",
     "output_type": "stream",
     "text": [
      "<class 'set'>\n",
      "-----\n",
      "{1, 2, 3, 4, 5}\n"
     ]
    }
   ],
   "source": [
    "# Define a set using curly braces\n",
    "first = {1,2,3,4}\n",
    "print(type(first))\n",
    "\n",
    "print(\"-----\")\n",
    "\n",
    "# Define a set using the set() function\n",
    "uniques = [1,2,3,4,5]\n",
    "second = set(uniques)\n",
    "print(second)\n"
   ]
  }
 ],
 "metadata": {
  "kernelspec": {
   "display_name": "Python 3",
   "language": "python",
   "name": "python3"
  },
  "language_info": {
   "codemirror_mode": {
    "name": "ipython",
    "version": 3
   },
   "file_extension": ".py",
   "mimetype": "text/x-python",
   "name": "python",
   "nbconvert_exporter": "python",
   "pygments_lexer": "ipython3",
   "version": "3.13.3"
  }
 },
 "nbformat": 4,
 "nbformat_minor": 2
}

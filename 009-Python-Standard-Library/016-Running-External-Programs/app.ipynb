{
 "cells": [
  {
   "cell_type": "markdown",
   "metadata": {},
   "source": [
    "# Running External Programs"
   ]
  },
  {
   "cell_type": "code",
   "execution_count": 8,
   "metadata": {},
   "outputs": [
    {
     "name": "stdout",
     "output_type": "stream",
     "text": [
      "args ['dir']\n",
      "returncode 0\n",
      "stderr \n",
      "stdout  Volume in drive F is IT\n",
      " Volume Serial Number is 4AF5-BCDF\n",
      "\n",
      " Directory of f:\\Projects - University\\Courses\\Python\\Mosh--Python\\009-Python-Standard-Library\\016-Running-External-Programs\n",
      "\n",
      "05/14/2025  07:09 PM    <DIR>          .\n",
      "05/14/2025  07:09 PM    <DIR>          ..\n",
      "05/14/2025  07:08 PM            10,045 app.ipynb\n",
      "05/14/2025  07:10 PM                72 app.py\n",
      "05/14/2025  07:07 PM                 0 TempFile.txt\n",
      "               3 File(s)         10,117 bytes\n",
      "               2 Dir(s)  76,124,585,984 bytes free\n",
      "\n"
     ]
    }
   ],
   "source": [
    "import subprocess\n",
    "\n",
    "# Run the Windows 'dir' command to list directory contents using subprocess\n",
    "# 'shell=True' is required for built-in shell commands like 'dir' on Windows\n",
    "# 'capture_output=True' captures the command's output so it can be printed later\n",
    "# 'text=True' ensures the output is returned as a string, not bytes\n",
    "\n",
    "completed = subprocess.run([\"dir\"], shell=True, capture_output=True, text=True)\n",
    "\n",
    "print(\"args\", completed.args)                    # The command that was run\n",
    "print(\"returncode\", completed.returncode)        # 0 means success; any other value indicates an error\n",
    "print(\"stderr\", completed.stderr)                # Error output (if any)\n",
    "print(\"stdout\", completed.stdout)                # Standard output (command result)"
   ]
  },
  {
   "cell_type": "code",
   "execution_count": null,
   "metadata": {},
   "outputs": [
    {
     "name": "stdout",
     "output_type": "stream",
     "text": [
      "args ['python', 'app.py']\n",
      "returncode 0\n",
      "stderr \n",
      "stdout Here is a complicated python script \n",
      "\n"
     ]
    }
   ],
   "source": [
    "import subprocess\n",
    "\n",
    "# Runs the Python script 'app.py' and captures its output\n",
    "completed = subprocess.run([\"python\", \"app.py\"], capture_output=True, text=True)\n",
    "\n",
    "print(\"args\", completed.args)\n",
    "print(\"returncode\", completed.returncode)\n",
    "print(\"stderr\", completed.stderr)\n",
    "print(\"stdout\", completed.stdout)"
   ]
  }
 ],
 "metadata": {
  "kernelspec": {
   "display_name": "Python 3",
   "language": "python",
   "name": "python3"
  },
  "language_info": {
   "codemirror_mode": {
    "name": "ipython",
    "version": 3
   },
   "file_extension": ".py",
   "mimetype": "text/x-python",
   "name": "python",
   "nbconvert_exporter": "python",
   "pygments_lexer": "ipython3",
   "version": "3.13.3"
  }
 },
 "nbformat": 4,
 "nbformat_minor": 2
}

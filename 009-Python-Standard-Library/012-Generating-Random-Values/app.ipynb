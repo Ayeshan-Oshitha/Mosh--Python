{
 "cells": [
  {
   "cell_type": "markdown",
   "metadata": {},
   "source": [
    "# Generating Random Values"
   ]
  },
  {
   "cell_type": "code",
   "execution_count": 5,
   "metadata": {},
   "outputs": [
    {
     "name": "stdout",
     "output_type": "stream",
     "text": [
      "1. Random float between 0 and 1: 0.9096877569145965\n",
      "2. Random integer between 1 and 10: 9\n",
      "3. Single random choice from list [1, 2, 3, 4]: 1\n",
      "4. Multiple random choices (k=2) from list [1, 2, 3, 4]: [2, 3]\n",
      "5. Random 4-character string from 'abcdefghijk': jeej\n"
     ]
    }
   ],
   "source": [
    "import random\n",
    "\n",
    "# Generate a random float between 0.0 and 1.0\n",
    "print(\"1. Random float between 0 and 1:\", random.random())\n",
    "\n",
    "\n",
    "# Generate a random integer between 1 and 10 (inclusive)\n",
    "print(\"2. Random integer between 1 and 10:\", random.randint(1, 10))\n",
    "\n",
    "# Choose one random element from a list\n",
    "print(\"3. Single random choice from list [1, 2, 3, 4]:\", random.choice([1, 2, 3, 4]))\n",
    "\n",
    "# Choose multiple random elements (with replacement) from a list\n",
    "print(\"4. Multiple random choices (k=2) from list [1, 2, 3, 4]:\", random.choices([1, 2, 3, 4], k=2))\n",
    "\n",
    "# Generate a random 4-character string from the given characters\n",
    "print(\"5. Random 4-character string from 'abcdefghijk':\", \"\".join(random.choices(\"abcdefghijk\", k=4)))"
   ]
  },
  {
   "cell_type": "code",
   "execution_count": 6,
   "metadata": {},
   "outputs": [
    {
     "name": "stdout",
     "output_type": "stream",
     "text": [
      "ANAucRbb\n"
     ]
    }
   ],
   "source": [
    "# Generate a random 8-character string using uppercase and lowercase letters\n",
    "\n",
    "import string\n",
    "\n",
    "\n",
    "print(\"\".join(random.choices(string.ascii_letters + string.ascii_lowercase + string.ascii_uppercase, k=8)))"
   ]
  },
  {
   "cell_type": "code",
   "execution_count": 7,
   "metadata": {},
   "outputs": [
    {
     "name": "stdout",
     "output_type": "stream",
     "text": [
      "[7, 4, 2, 5, 1, 3, 6]\n"
     ]
    }
   ],
   "source": [
    "# Shuffle the list in place\n",
    "\n",
    "numbers = [1, 2, 3, 4, 5, 6, 7]\n",
    "random.shuffle(numbers)\n",
    "print(numbers)"
   ]
  }
 ],
 "metadata": {
  "kernelspec": {
   "display_name": "Python 3",
   "language": "python",
   "name": "python3"
  },
  "language_info": {
   "codemirror_mode": {
    "name": "ipython",
    "version": 3
   },
   "file_extension": ".py",
   "mimetype": "text/x-python",
   "name": "python",
   "nbconvert_exporter": "python",
   "pygments_lexer": "ipython3",
   "version": "3.13.3"
  }
 },
 "nbformat": 4,
 "nbformat_minor": 2
}

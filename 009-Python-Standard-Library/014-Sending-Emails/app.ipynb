{
 "cells": [
  {
   "cell_type": "markdown",
   "metadata": {},
   "source": [
    "# Sending Emails"
   ]
  },
  {
   "cell_type": "code",
   "execution_count": null,
   "metadata": {},
   "outputs": [],
   "source": [
    "# Attach Text\n",
    "\n",
    "from email.mime.multipart import MIMEMultipart\n",
    "from email.mime.text import MIMEText \n",
    "import smtplib\n",
    "\n",
    "message = MIMEMultipart()\n",
    "\n",
    "message[\"from\"] = \"ayeshan.oshitha@gmail.com\"\n",
    "message[\"to\"] = \"oshitha.costa@gmail.com\"\n",
    "message[\"subject\"] = \"This is a test\"\n",
    "message.attach(MIMEText(\"Body\"))\n",
    "\n",
    "with smtplib.SMTP(host=\"smtp.gmail.com\", port=587) as smtp:\n",
    "    smtp.ehlo()\n",
    "    smtp.starttls()\n",
    "    smtp.login(\"ayeshan.oshitha@gmail.com\", \"NW3010958\")\n",
    "    smtp.send_message(message)\n",
    "    print(\"Sent...\")\n"
   ]
  },
  {
   "cell_type": "code",
   "execution_count": null,
   "metadata": {},
   "outputs": [],
   "source": [
    "# Attach Image\n",
    "\n",
    "from email.mime.multipart import MIMEMultipart\n",
    "from email.mime.text import MIMEText \n",
    "from email.mime.image import MIMEImage\n",
    "from pathlib import Path\n",
    "import smtplib\n",
    "\n",
    "message = MIMEMultipart()\n",
    "\n",
    "message[\"from\"] = \"ayeshan.oshitha@gmail.com\"\n",
    "message[\"to\"] = \"oshitha.costa@gmail.com\"\n",
    "message[\"subject\"] = \"This is a test\"\n",
    "message.attach(MIMEText(\"Body\"))\n",
    "message.attach(MIMEImage(Path(\"Files14/image1.png\").read_bytes()))\n",
    "\n",
    "with smtplib.SMTP(host=\"smtp.gmail.com\", port=587) as smtp:\n",
    "    smtp.ehlo()\n",
    "    smtp.starttls()\n",
    "    smtp.login(\"ayeshan.oshitha@gmail.com\", \"NW3010958\")\n",
    "    smtp.send_message(message)\n",
    "    print(\"Sent...\")"
   ]
  },
  {
   "cell_type": "markdown",
   "metadata": {},
   "source": [
    "# Working with Templates"
   ]
  },
  {
   "cell_type": "code",
   "execution_count": null,
   "metadata": {},
   "outputs": [],
   "source": [
    "# Attach Template\n",
    "\n",
    "from email.mime.multipart import MIMEMultipart\n",
    "from email.mime.text import MIMEText \n",
    "import smtplib\n",
    "from pathlib import Path\n",
    "from string import Template\n",
    "\n",
    "template = Template(Path(\"template.html\").read_text())\n",
    "\n",
    "message = MIMEMultipart()\n",
    "\n",
    "message[\"from\"] = \"ayeshan.oshitha@gmail.com\"\n",
    "message[\"to\"] = \"oshitha.costa@gmail.com\"\n",
    "message[\"subject\"] = \"This is a test\"\n",
    "body = template.substitute({\"name\" : \"John\"})\n",
    "message.attach(MIMEText(body, \"html\"))\n",
    "\n",
    "with smtplib.SMTP(host=\"smtp.gmail.com\", port=587) as smtp:\n",
    "    smtp.ehlo()\n",
    "    smtp.starttls()\n",
    "    smtp.login(\"ayeshan.oshitha@gmail.com\", \"NW3010958\")\n",
    "    smtp.send_message(message)\n",
    "    print(\"Sent...\")"
   ]
  }
 ],
 "metadata": {
  "kernelspec": {
   "display_name": "Python 3",
   "language": "python",
   "name": "python3"
  },
  "language_info": {
   "codemirror_mode": {
    "name": "ipython",
    "version": 3
   },
   "file_extension": ".py",
   "mimetype": "text/x-python",
   "name": "python",
   "nbconvert_exporter": "python",
   "pygments_lexer": "ipython3",
   "version": "3.13.3"
  }
 },
 "nbformat": 4,
 "nbformat_minor": 2
}

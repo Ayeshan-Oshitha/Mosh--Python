{
 "cells": [
  {
   "cell_type": "markdown",
   "metadata": {},
   "source": [
    "# Working with Time Deltas\n",
    "\n",
    "A time delta in Python represents the difference between two datetime objects, allowing you to easily calculate durations like days, hours, or minutes between dates."
   ]
  },
  {
   "cell_type": "code",
   "execution_count": null,
   "metadata": {},
   "outputs": [
    {
     "name": "stdout",
     "output_type": "stream",
     "text": [
      "1. Days between 2018-01-01 and now: 2690\n",
      "2. Remaining seconds (not including full days): 65110\n",
      "3. Total duration in seconds: 232481110.936263\n",
      "4. Datetime after adding 1 day and 1000 seconds to 2018-01-01: 2018-01-02 00:16:40\n"
     ]
    }
   ],
   "source": [
    "from datetime import datetime, timedelta\n",
    "\n",
    "dt_1 = datetime(2018, 1, 1)\n",
    "dt_2 = datetime.now()\n",
    "\n",
    "# Calculate the difference between the two datetimes\n",
    "duration = dt_2 - dt_1\n",
    "\n",
    "# Print the number of days in the duration\n",
    "print(\"1. Days between 2018-01-01 and now:\", duration.days)\n",
    "\n",
    "# Print the remaining seconds after the days are counted\n",
    "print(\"2. Remaining seconds (not including full days):\", duration.seconds)\n",
    "\n",
    "# Print the total duration in seconds (including days)\n",
    "print(\"3. Total duration in seconds:\", duration.total_seconds())\n",
    "\n",
    "# Create a new datetime by adding 1 day and 1000 seconds\n",
    "dt_3 = datetime(2018, 1, 1) + timedelta(days=1, seconds=1000)\n",
    "print(\"4. Datetime after adding 1 day and 1000 seconds to 2018-01-01:\", dt_3)\n"
   ]
  }
 ],
 "metadata": {
  "kernelspec": {
   "display_name": "Python 3",
   "language": "python",
   "name": "python3"
  },
  "language_info": {
   "codemirror_mode": {
    "name": "ipython",
    "version": 3
   },
   "file_extension": ".py",
   "mimetype": "text/x-python",
   "name": "python",
   "nbconvert_exporter": "python",
   "pygments_lexer": "ipython3",
   "version": "3.13.3"
  }
 },
 "nbformat": 4,
 "nbformat_minor": 2
}

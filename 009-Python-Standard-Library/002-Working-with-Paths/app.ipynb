{
 "cells": [
  {
   "cell_type": "markdown",
   "metadata": {},
   "source": [
    "# Working with Paths"
   ]
  },
  {
   "cell_type": "markdown",
   "metadata": {},
   "source": [
    "#### Ways to Create a Path in Python\n",
    "\n",
    "In Python, we can create both absolute and relative paths using the pathlib module. An absolute path specifies the full path from the root directory, while a relative path refers to a location relative to the current working directory."
   ]
  },
  {
   "cell_type": "code",
   "execution_count": null,
   "metadata": {},
   "outputs": [],
   "source": [
    "from pathlib import Path\n",
    "\n",
    "# Absolute path using double backslashes\n",
    "Path(\"C:\\\\Program Files\\\\My Files\")\n",
    "\n",
    "# Absolute path using raw string to avoid escape sequences\n",
    "Path(r\"C:\\Program Files\\My Files\")\n",
    "\n",
    "# Create an empty path object (represents current directory)\n",
    "Path()\n",
    "\n",
    "# Relative path (points to a file in the 'Files' directory)\n",
    "Path(\"Files/__init__.py\")\n",
    "\n",
    "# Concatenate paths using the '/' operator (creates a relative path)\n",
    "Path() / Path(\"Files\")\n",
    "\n",
    "# Concatenate paths using the '/' operator (relative path)\n",
    "Path() / \"Files\"\n",
    "\n",
    "# Concatenate paths using the '/' operator and a file name\n",
    "Path() / \"Files\" / \"__init__.py\"\n",
    "\n",
    "# Get the home directory of the current user\n",
    "Path.home()"
   ]
  },
  {
   "cell_type": "markdown",
   "metadata": {},
   "source": [
    "#### Common Path Operations in Python"
   ]
  },
  {
   "cell_type": "code",
   "execution_count": 6,
   "metadata": {},
   "outputs": [
    {
     "name": "stdout",
     "output_type": "stream",
     "text": [
      "Does the path exist? :  True\n",
      "Is the path a file? :  True\n",
      "Is the path a directory? :  False\n",
      "File name with extension :  File.py\n",
      "File name without extension :  File\n",
      "File extension :  .py\n",
      "Parent directory :  Files\n",
      "Path with new name :  Files\\file.txt\n",
      "Absolute path of the file :  f:\\Projects - University\\Courses\\Python\\Mosh--Python\\009-Python-Standard-Library\\002-Working-with-Paths\\Files\\file.txt\n",
      "Path with new suffix :  Files\\File.java\n"
     ]
    }
   ],
   "source": [
    "from pathlib import Path\n",
    "\n",
    "# Create a Path object for a file\n",
    "path = Path(\"Files/File.py\")\n",
    "\n",
    "# Check if the path exists\n",
    "print(\"Does the path exist? : \", path.exists())  # Returns True if the file or directory exists\n",
    "\n",
    "# Check if the path is a file\n",
    "print(\"Is the path a file? : \", path.is_file())  # Returns True if the path is a file\n",
    "\n",
    "# Check if the path is a directory\n",
    "print(\"Is the path a directory? : \", path.is_dir())  # Returns True if the path is a directory\n",
    "\n",
    "# Get the name of the file or directory (including the extension)\n",
    "print(\"File name with extension : \", path.name)  # Prints the name of the file (e.g., 'File1.py')\n",
    "\n",
    "# Get the name of the file without the extension\n",
    "print(\"File name without extension : \", path.stem)  # Prints the file name without extension (e.g., 'File1')\n",
    "\n",
    "# Get the file extension\n",
    "print(\"File extension : \", path.suffix)  # Prints the file extension (e.g., '.py')\n",
    "\n",
    "# Get the parent directory of the file\n",
    "print(\"Parent directory : \", path.parent)  # Prints the directory path where the file is located\n",
    "\n",
    "# Change the name of the file (keeping the same parent directory)\n",
    "path_1 = path.with_name(\"file.txt\")\n",
    "print(\"Path with new name : \", path_1)  # Changes the file name to 'file.txt' while keeping the same directory (Doesn't create a new file)\n",
    "\n",
    "# Get the absolute path of the file\n",
    "print(\"Absolute path of the file : \", path_1.absolute())  # Prints the absolute path of the file\n",
    "\n",
    "# Change the file extension\n",
    "path_2 = path.with_suffix(\".java\")\n",
    "print(\"Path with new suffix : \", path_2)  # Changes the file extension to '.txt'\n",
    "\n"
   ]
  }
 ],
 "metadata": {
  "kernelspec": {
   "display_name": "Python 3",
   "language": "python",
   "name": "python3"
  },
  "language_info": {
   "codemirror_mode": {
    "name": "ipython",
    "version": 3
   },
   "file_extension": ".py",
   "mimetype": "text/x-python",
   "name": "python",
   "nbconvert_exporter": "python",
   "pygments_lexer": "ipython3",
   "version": "3.13.3"
  }
 },
 "nbformat": 4,
 "nbformat_minor": 2
}

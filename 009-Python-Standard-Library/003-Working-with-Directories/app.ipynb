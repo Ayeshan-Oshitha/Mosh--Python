{
 "cells": [
  {
   "cell_type": "markdown",
   "metadata": {},
   "source": [
    "# Working with Directories"
   ]
  },
  {
   "cell_type": "code",
   "execution_count": 9,
   "metadata": {},
   "outputs": [
    {
     "name": "stdout",
     "output_type": "stream",
     "text": [
      "Does the path exist? :  True\n"
     ]
    }
   ],
   "source": [
    "from pathlib import Path\n",
    "\n",
    "# Create a Path object for the \"Files\" directory\n",
    "path = Path(\"Files3\")\n",
    "\n",
    "# Check if the path exists\n",
    "print(\"Does the path exist? : \",path.exists())\n",
    "\n",
    "# Create the directory \"Files\" if it doesn't already exist\n",
    "# path.mkdir()\n",
    "\n",
    "# Remove the directory \"Files\" (it must be empty)\n",
    "#  path.rmdir()\n",
    "\n",
    "# Rename the directory from \"Files\" to \"Properties\"\n",
    "# path.rename(\"Properties\")\n"
   ]
  },
  {
   "cell_type": "code",
   "execution_count": 1,
   "metadata": {},
   "outputs": [
    {
     "name": "stdout",
     "output_type": "stream",
     "text": [
      "<map object at 0x0000013C716B8CD0>\n"
     ]
    }
   ],
   "source": [
    "from pathlib import Path\n",
    "\n",
    "path = Path(\"Files3\")\n",
    "\n",
    "print(path.iterdir())"
   ]
  },
  {
   "cell_type": "markdown",
   "metadata": {},
   "source": [
    "We should get a generator object here, not a map object. \n",
    "\n",
    "because generator objects return a new value every time we iterate over them. When working with a large list of items, instead of storing all those items in memory, we use a generator object. We iterate over it, and it gives a new value each time. This is more efficient."
   ]
  },
  {
   "cell_type": "code",
   "execution_count": null,
   "metadata": {},
   "outputs": [
    {
     "name": "stdout",
     "output_type": "stream",
     "text": [
      "Files3\\File1.py\n",
      "Files3\\File2.py\n",
      "Files3\\File3.txt\n",
      "Files3\\Folder1\n"
     ]
    }
   ],
   "source": [
    "# Getting all the files in the directory will return both files and folders, but it will not include the files inside the subfolders.\"\n",
    "\n",
    "from pathlib import Path\n",
    "\n",
    "path = Path(\"Files3\")\n",
    "\n",
    "for p in path.iterdir():\n",
    "    print(p)"
   ]
  },
  {
   "cell_type": "code",
   "execution_count": 11,
   "metadata": {},
   "outputs": [
    {
     "name": "stdout",
     "output_type": "stream",
     "text": [
      "[WindowsPath('Files3/File1.py'), WindowsPath('Files3/File2.py'), WindowsPath('Files3/File3.txt'), WindowsPath('Files3/Folder1')]\n"
     ]
    }
   ],
   "source": [
    "# Convert above to a list using a List Comprehension \n",
    "\n",
    "from pathlib import Path\n",
    "\n",
    "path = Path(\"Files3\")\n",
    "\n",
    "paths = [p for p in path.iterdir()]\n",
    "print(paths)\n"
   ]
  },
  {
   "cell_type": "markdown",
   "metadata": {},
   "source": [
    "Extra knowledge -: There are two types of paths: Windows paths and POSIX paths. POSIX paths are used in Unix-like systems (such as Linux and macOS), while Windows paths are used in Windows systems."
   ]
  },
  {
   "cell_type": "code",
   "execution_count": null,
   "metadata": {},
   "outputs": [
    {
     "name": "stdout",
     "output_type": "stream",
     "text": [
      "[WindowsPath('Files3/Folder1')]\n"
     ]
    }
   ],
   "source": [
    "# Gets only the directories from the specified path\n",
    "\n",
    "from pathlib import Path\n",
    "\n",
    "path = Path(\"Files3\")\n",
    "\n",
    "paths = [p for p in path.iterdir() if p.is_dir()]\n",
    "print(paths)"
   ]
  },
  {
   "cell_type": "markdown",
   "metadata": {},
   "source": [
    "In the above case, we can't search by pattern or search recursively, so we need to use path.glob()."
   ]
  },
  {
   "cell_type": "code",
   "execution_count": null,
   "metadata": {},
   "outputs": [
    {
     "name": "stdout",
     "output_type": "stream",
     "text": [
      "[WindowsPath('Files3/File1.py'), WindowsPath('Files3/File2.py')]\n"
     ]
    }
   ],
   "source": [
    "# Search by Pattern\n",
    "\n",
    "from pathlib import Path\n",
    "\n",
    "path = Path(\"Files3\")\n",
    "\n",
    "py_files = [p for p in path.glob(\"*.py\")]\n",
    "print(py_files)"
   ]
  },
  {
   "cell_type": "code",
   "execution_count": null,
   "metadata": {},
   "outputs": [
    {
     "name": "stdout",
     "output_type": "stream",
     "text": [
      "[WindowsPath('Files3/File1.py'), WindowsPath('Files3/File2.py'), WindowsPath('Files3/Folder1/TempFile1.py')]\n"
     ]
    }
   ],
   "source": [
    "# Search Recursively\n",
    "\n",
    "from pathlib import Path\n",
    "\n",
    "path = Path(\"Files3\")\n",
    "\n",
    "py_files = [p for p in path.glob(\"**/*.py\")]\n",
    "print(py_files)"
   ]
  },
  {
   "cell_type": "code",
   "execution_count": 12,
   "metadata": {},
   "outputs": [
    {
     "name": "stdout",
     "output_type": "stream",
     "text": [
      "[WindowsPath('Files3/File1.py'), WindowsPath('Files3/File2.py'), WindowsPath('Files3/Folder1/TempFile1.py')]\n"
     ]
    }
   ],
   "source": [
    "# Search Recursively using rglob method\n",
    "\n",
    "from pathlib import Path\n",
    "\n",
    "path = Path(\"Files3\")\n",
    "\n",
    "py_files = [p for p in path.rglob(\"*.py\")]\n",
    "print(py_files)"
   ]
  }
 ],
 "metadata": {
  "kernelspec": {
   "display_name": "Python 3",
   "language": "python",
   "name": "python3"
  },
  "language_info": {
   "codemirror_mode": {
    "name": "ipython",
    "version": 3
   },
   "file_extension": ".py",
   "mimetype": "text/x-python",
   "name": "python",
   "nbconvert_exporter": "python",
   "pygments_lexer": "ipython3",
   "version": "3.13.3"
  }
 },
 "nbformat": 4,
 "nbformat_minor": 2
}

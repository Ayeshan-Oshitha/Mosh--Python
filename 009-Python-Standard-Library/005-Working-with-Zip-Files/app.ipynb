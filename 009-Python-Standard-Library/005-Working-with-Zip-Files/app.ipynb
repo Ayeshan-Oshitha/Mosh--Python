{
 "cells": [
  {
   "cell_type": "markdown",
   "metadata": {},
   "source": [
    "# Working with Zip Files"
   ]
  },
  {
   "cell_type": "code",
   "execution_count": null,
   "metadata": {},
   "outputs": [
    {
     "name": "stdout",
     "output_type": "stream",
     "text": [
      "['Files5/StaticFiles/File1.txt', 'Files5/StaticFiles/File2.txt']\n"
     ]
    }
   ],
   "source": [
    "from pathlib import Path\n",
    "from zipfile import ZipFile\n",
    "\n",
    "# Create a new zip file and write all files from StaticFiles directory into it\n",
    "with ZipFile(\"Files5/files.zip\", \"w\") as zip:\n",
    "    for path in Path(\"Files5/StaticFiles\").rglob(\"*.*\"): # Recursively find all files in the directory\n",
    "        zip.write(path)\n",
    "\n",
    "# Open the created zip file and print the names of all files inside it\n",
    "with ZipFile(\"Files5/files.zip\") as zip:\n",
    "    print(zip.namelist())\n",
    "    # Extract all contents of the zip archive to the specified directory\n",
    "    zip.extractall(\"Files5/extract\")\n",
    "\n"
   ]
  }
 ],
 "metadata": {
  "kernelspec": {
   "display_name": "Python 3",
   "language": "python",
   "name": "python3"
  },
  "language_info": {
   "codemirror_mode": {
    "name": "ipython",
    "version": 3
   },
   "file_extension": ".py",
   "mimetype": "text/x-python",
   "name": "python",
   "nbconvert_exporter": "python",
   "pygments_lexer": "ipython3",
   "version": "3.13.3"
  }
 },
 "nbformat": 4,
 "nbformat_minor": 2
}

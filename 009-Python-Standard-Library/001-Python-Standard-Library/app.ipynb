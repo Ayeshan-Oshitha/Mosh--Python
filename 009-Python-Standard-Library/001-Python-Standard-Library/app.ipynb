{
 "cells": [
  {
   "cell_type": "markdown",
   "metadata": {},
   "source": [
    "# Python Standard Library\n",
    "\n",
    "The Python standard library is a collection of built-in modules that provide ready-to-use tools for tasks like file handling, math, and working with data."
   ]
  }
 ],
 "metadata": {
  "language_info": {
   "name": "python"
  }
 },
 "nbformat": 4,
 "nbformat_minor": 2
}

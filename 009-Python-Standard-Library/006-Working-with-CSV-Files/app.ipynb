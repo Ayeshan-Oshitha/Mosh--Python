{
 "cells": [
  {
   "cell_type": "markdown",
   "metadata": {},
   "source": [
    "# Working with CSV Files"
   ]
  },
  {
   "cell_type": "code",
   "execution_count": null,
   "metadata": {},
   "outputs": [
    {
     "name": "stdout",
     "output_type": "stream",
     "text": [
      "['transaction_id', 'product_id', 'price_id']\n",
      "[]\n",
      "['1000', '1', '5']\n",
      "[]\n",
      "['1001', '2', '10']\n",
      "[]\n"
     ]
    }
   ],
   "source": [
    "import csv\n",
    "\n",
    "# Open a CSV file in write mode and create it if it doesn't exist\n",
    "with open(\"data.csv\", \"w\") as file:\n",
    "    writer = csv.writer(file)\n",
    "    writer.writerow([\"transaction_id\", \"product_id\", \"price_id\"])\n",
    "    writer.writerow([1000,1,5])\n",
    "    writer.writerow([1001,2,10])\n",
    "\n",
    "# Open the CSV file in read mode\n",
    "with open(\"data.csv\") as file:\n",
    "    reader = csv.reader(file)\n",
    "    # print(list(reader)) #  print the entire content as a list of rows\n",
    "\n",
    "    # Loop through each row in the file\n",
    "    for row in reader:\n",
    "        print(row)\n",
    "\n",
    "\n",
    "\n"
   ]
  }
 ],
 "metadata": {
  "kernelspec": {
   "display_name": "Python 3",
   "language": "python",
   "name": "python3"
  },
  "language_info": {
   "codemirror_mode": {
    "name": "ipython",
    "version": 3
   },
   "file_extension": ".py",
   "mimetype": "text/x-python",
   "name": "python",
   "nbconvert_exporter": "python",
   "pygments_lexer": "ipython3",
   "version": "3.13.3"
  }
 },
 "nbformat": 4,
 "nbformat_minor": 2
}

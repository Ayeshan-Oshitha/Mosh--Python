{
 "cells": [
  {
   "cell_type": "markdown",
   "metadata": {},
   "source": [
    "# Working with a SQLlite-Database"
   ]
  },
  {
   "cell_type": "code",
   "execution_count": null,
   "metadata": {},
   "outputs": [
    {
     "name": "stdout",
     "output_type": "stream",
     "text": [
      "(1, 'Terminator', 1989)\n",
      "(2, 'Kindergarten Cop', 1993)\n",
      "(3, 'Predator', 1987)\n",
      "(4, 'Total Recall', 1990)\n",
      "(5, 'True Lies', 1994)\n",
      "[]\n"
     ]
    }
   ],
   "source": [
    "import sqlite3\n",
    "import json\n",
    "from pathlib import Path\n",
    "\n",
    "# Read data from JSON file\n",
    "movies = json.loads(Path(\"movies.json\").read_text())\n",
    "\n",
    "\n",
    "# Write data to database\n",
    "with sqlite3.connect(\"moviesdb.sqlite3\") as connection:\n",
    "    command = \"INSERT INTO Movies VALUES(?, ?, ?)\"\n",
    "    for movie in movies:\n",
    "        connection.execute(command, tuple(movie.values()) )\n",
    "    connection.commit()\n",
    "\n",
    "\n",
    "# Read data from database\n",
    "with sqlite3.connect(\"moviesdb.sqlite3\") as connection:\n",
    "    command = \"SELECT * FROM Movies \"\n",
    "    cursor = connection.execute(command)\n",
    "    for row in cursor:\n",
    "        print(row)   \n",
    "    # --> Another Method to Fetch all data\n",
    "    # moviesdata = cursor.fetchall()\n",
    "    # print(moviesdata)\n"
   ]
  }
 ],
 "metadata": {
  "kernelspec": {
   "display_name": "Python 3",
   "language": "python",
   "name": "python3"
  },
  "language_info": {
   "codemirror_mode": {
    "name": "ipython",
    "version": 3
   },
   "file_extension": ".py",
   "mimetype": "text/x-python",
   "name": "python",
   "nbconvert_exporter": "python",
   "pygments_lexer": "ipython3",
   "version": "3.13.3"
  }
 },
 "nbformat": 4,
 "nbformat_minor": 2
}

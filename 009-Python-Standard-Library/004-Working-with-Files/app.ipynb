{
 "cells": [
  {
   "cell_type": "markdown",
   "metadata": {},
   "source": [
    "# Working with Files\n",
    "\n",
    "#### Basic Python File Operations"
   ]
  },
  {
   "cell_type": "code",
   "execution_count": 8,
   "metadata": {},
   "outputs": [
    {
     "name": "stdout",
     "output_type": "stream",
     "text": [
      "Does the file exist? :  True\n",
      "File Details? :  os.stat_result(st_mode=33206, st_ino=562949954632578, st_dev=12270890564302781663, st_nlink=1, st_uid=0, st_gid=0, st_size=47, st_atime=1747195296, st_mtime=1747195264, st_ctime=1747195256)\n",
      "File Creation time? :  Wed May 14 09:30:56 2025\n"
     ]
    }
   ],
   "source": [
    "from pathlib import Path\n",
    "from time import ctime\n",
    "\n",
    "path = Path(\"Files4/File1.py\")\n",
    "\n",
    "# Checking if the file exists and printing the result (True/False)\n",
    "print(\"Does the file exist? : \", path.exists())\n",
    "\n",
    "# Rename the file\n",
    "# path.rename(\"Filexyz.py\")\n",
    "\n",
    "# Delete (unlink) the file\n",
    "# path.unlink()\n",
    "\n",
    "# Getting metadata/statistics about the file\n",
    "print(\"File Details? : \", path.stat())\n",
    "\n",
    "# Printing the creation time of the file in human-readable format\n",
    "print(\"File Creation time? : \", ctime(path.stat().st_ctime))"
   ]
  },
  {
   "cell_type": "markdown",
   "metadata": {},
   "source": [
    "#### Basic File Reading & Writing Operations"
   ]
  },
  {
   "cell_type": "code",
   "execution_count": 14,
   "metadata": {},
   "outputs": [
    {
     "name": "stdout",
     "output_type": "stream",
     "text": [
      "File content using Path.read_text() : \n",
      " print(\"hello world\")\n",
      "\n",
      "File content using open() : \n",
      " print(\"hello world\")\n",
      "\n"
     ]
    },
    {
     "data": {
      "text/plain": [
       "26"
      ]
     },
     "execution_count": 14,
     "metadata": {},
     "output_type": "execute_result"
    }
   ],
   "source": [
    "from pathlib import Path\n",
    "\n",
    "path = Path(\"Files4/File1.py\")\n",
    "\n",
    "# Read and print the contents of the file using Path.read_text()\n",
    "print(\"File content using Path.read_text() : \\n\", path.read_text())\n",
    "\n",
    "# Equivalent method using traditional open() function (less clean than Path.read_text())\n",
    "with open(\"Files4/File1.py\", \"r\") as file:\n",
    "    print(\"File content using open() : \\n\", file.read())\n",
    "\n",
    "# Write text to the file using Path.write_text()\n",
    "# This will overwrite the file contents with the provided string\n",
    "# path.write_text(\" # Text written by Python \")\n",
    "\n",
    "# Equivalent to write_text() but for appending instead of overwriting\n",
    "path.open(mode=\"a\").write(\"\\n# Appended text by Python\")"
   ]
  },
  {
   "cell_type": "markdown",
   "metadata": {},
   "source": [
    "#### Copying File Data to Another Location"
   ]
  },
  {
   "cell_type": "code",
   "execution_count": null,
   "metadata": {},
   "outputs": [
    {
     "data": {
      "text/plain": [
       "WindowsPath('Files4/CopiedFile.py')"
      ]
     },
     "execution_count": 17,
     "metadata": {},
     "output_type": "execute_result"
    }
   ],
   "source": [
    "from pathlib import Path\n",
    "import shutil\n",
    "\n",
    "source = Path(\"Files4/File2.py\")\n",
    "target = Path(\"Files4/CopiedFile.py\")\n",
    "\n",
    "# Old method: Reading content from source and writing it to the target file\n",
    "# This method reads the entire content of the source file and writes it to the target file (overwrites target if it exists)\n",
    "target.write_text(source.read_text())\n",
    "\n",
    "# New method: Using shutil to copy the entire file from source to target\n",
    "# This method copies the source file (including its metadata) to the target location\n",
    "shutil.copy(source, target)"
   ]
  }
 ],
 "metadata": {
  "kernelspec": {
   "display_name": "Python 3",
   "language": "python",
   "name": "python3"
  },
  "language_info": {
   "codemirror_mode": {
    "name": "ipython",
    "version": 3
   },
   "file_extension": ".py",
   "mimetype": "text/x-python",
   "name": "python",
   "nbconvert_exporter": "python",
   "pygments_lexer": "ipython3",
   "version": "3.13.3"
  }
 },
 "nbformat": 4,
 "nbformat_minor": 2
}

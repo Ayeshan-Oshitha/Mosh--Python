{
 "cells": [
  {
   "cell_type": "markdown",
   "metadata": {},
   "source": [
    "# Working with JSON File"
   ]
  },
  {
   "cell_type": "code",
   "execution_count": 6,
   "metadata": {},
   "outputs": [
    {
     "name": "stdout",
     "output_type": "stream",
     "text": [
      "{'id': 1, 'title': 'Terminator', 'year': 1989}\n",
      "Kindergarten Cop\n"
     ]
    }
   ],
   "source": [
    "import json\n",
    "from pathlib import Path\n",
    "\n",
    "# Write the data\n",
    "movies = [\n",
    "    {\"id\" :1 , \"title\" :\"Terminator\",\"year\" : 1989 },\n",
    "    {\"id\" :2 , \"title\" :\"Kindergarten Cop\",\"year\" : 1993 }\n",
    "]\n",
    "\n",
    "data = json.dumps(movies)\n",
    "Path(\"movies.json\").write_text(data)\n",
    "\n",
    "# Read the data\n",
    "JsonData = Path(\"movies.json\").read_text()\n",
    "JsonMovies = json.loads(JsonData)\n",
    "print(JsonMovies[0])\n",
    "print(JsonMovies[1][\"title\"])"
   ]
  }
 ],
 "metadata": {
  "kernelspec": {
   "display_name": "Python 3",
   "language": "python",
   "name": "python3"
  },
  "language_info": {
   "codemirror_mode": {
    "name": "ipython",
    "version": 3
   },
   "file_extension": ".py",
   "mimetype": "text/x-python",
   "name": "python",
   "nbconvert_exporter": "python",
   "pygments_lexer": "ipython3",
   "version": "3.13.3"
  }
 },
 "nbformat": 4,
 "nbformat_minor": 2
}

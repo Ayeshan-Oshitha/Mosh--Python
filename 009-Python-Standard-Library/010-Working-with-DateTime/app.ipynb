{
 "cells": [
  {
   "cell_type": "markdown",
   "metadata": {},
   "source": [
    "# Working with DateTime"
   ]
  },
  {
   "cell_type": "code",
   "execution_count": 3,
   "metadata": {},
   "outputs": [
    {
     "name": "stdout",
     "output_type": "stream",
     "text": [
      "1. Specific datetime (2018, 1, 1) :  2018-01-01 00:00:00\n",
      "2. Current datetime (now) :  2025-05-14 17:55:38.826041\n",
      "3. Parsed datetime from string '2018/01/01' :  2018-01-01 00:00:00\n",
      "4. Datetime from current timestamp :  2025-05-14 17:55:38.826290\n",
      "5. Year and month from current datetime :  2025/5\n",
      "6. Formatted current datetime (YYYY/MM) :  2025/05\n",
      "7. Is current datetime after 2018/01/01? :  True\n"
     ]
    }
   ],
   "source": [
    "from datetime import datetime\n",
    "import time\n",
    "\n",
    "\n",
    "# Create a specific datetime object\n",
    "print(\"1. Specific datetime (2018, 1, 1) : \",datetime(2018, 1, 1))\n",
    "\n",
    "# Get the current datetime\n",
    "print(\"2. Current datetime (now) : \",datetime.now())\n",
    "\n",
    "# Convert string to datetime using strptime\n",
    "parsed_date = datetime.strptime(\"2018/01/01\", \"%Y/%m/%d\")\n",
    "print(\"3. Parsed datetime from string '2018/01/01' : \", parsed_date)\n",
    "\n",
    "# Get the current timestamp and convert to datetime\n",
    "dt = datetime.fromtimestamp(time.time())\n",
    "print(\"4. Datetime from current timestamp : \", dt)\n",
    "\n",
    "# Print year and month of current datetime\n",
    "print(\"5. Year and month from current datetime : \", f\"{dt.year}/{dt.month}\")\n",
    "\n",
    "# Format datetime to string (corrected method name: strftime, not strf)\n",
    "formatted_dt = dt.strftime(\"%Y/%m\")\n",
    "print(\"6. Formatted current datetime (YYYY/MM) : \", formatted_dt)\n",
    "\n",
    "# Compare two datetime objects\n",
    "dt_1 = datetime(2018, 1, 1)\n",
    "dt_2 = datetime.now()\n",
    "print(\"7. Is current datetime after 2018/01/01? : \", dt_2 > dt_1)\n"
   ]
  }
 ],
 "metadata": {
  "kernelspec": {
   "display_name": "Python 3",
   "language": "python",
   "name": "python3"
  },
  "language_info": {
   "codemirror_mode": {
    "name": "ipython",
    "version": 3
   },
   "file_extension": ".py",
   "mimetype": "text/x-python",
   "name": "python",
   "nbconvert_exporter": "python",
   "pygments_lexer": "ipython3",
   "version": "3.13.3"
  }
 },
 "nbformat": 4,
 "nbformat_minor": 2
}

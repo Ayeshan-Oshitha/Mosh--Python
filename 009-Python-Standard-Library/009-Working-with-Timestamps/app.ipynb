{
 "cells": [
  {
   "cell_type": "markdown",
   "metadata": {},
   "source": [
    "# Working with Timestamps\n",
    "\n",
    "There are two main modules to work with date and time in Python: `time` and `datetime`."
   ]
  },
  {
   "cell_type": "code",
   "execution_count": 1,
   "metadata": {},
   "outputs": [
    {
     "name": "stdout",
     "output_type": "stream",
     "text": [
      "Current timestamp :  1747204157.6575263\n",
      "-----\n",
      "Execution time for send_emails(): 0.00029587745666503906 seconds\n"
     ]
    }
   ],
   "source": [
    "import time\n",
    "\n",
    "# Returns the current time in seconds since the epoch (Jan 1, 1970)\n",
    "print(\"Current timestamp : \",time.time())\n",
    "\n",
    "print(\"-----\")\n",
    "\n",
    "# Simple use case to measure execution time\n",
    "def send_emails():\n",
    "    for i in range(10000):\n",
    "        pass\n",
    "\n",
    "start = time.time()\n",
    "send_emails()\n",
    "end = time.time()\n",
    "duration = end - start\n",
    "\n",
    "# Print how long the function took to run\n",
    "print(\"Execution time for send_emails():\", duration, \"seconds\")"
   ]
  }
 ],
 "metadata": {
  "kernelspec": {
   "display_name": "Python 3",
   "language": "python",
   "name": "python3"
  },
  "language_info": {
   "codemirror_mode": {
    "name": "ipython",
    "version": 3
   },
   "file_extension": ".py",
   "mimetype": "text/x-python",
   "name": "python",
   "nbconvert_exporter": "python",
   "pygments_lexer": "ipython3",
   "version": "3.13.3"
  }
 },
 "nbformat": 4,
 "nbformat_minor": 2
}

{
 "cells": [
  {
   "cell_type": "markdown",
   "metadata": {},
   "source": [
    "# Command Query Seperation Principle\n",
    "\n",
    "\n",
    "Command Query Separation (CQS) is a design principle proposed by Bertrand Meyer. It states:\n",
    "\n",
    "> Every method should either be a _command_ that performs an action, or a _query_ that returns data to the caller, but not both.\n",
    "\n",
    "##### 🔹 In other words:\n",
    "\n",
    "- A command changes the state of the system but returns nothing (e.g., `save()`, `delete()`).\n",
    "- A query returns data but does not change the system's state (e.g., `getName()`, `isEmpty()`).\n",
    "\n",
    "---\n",
    "\n",
    "#####  Violation Example Using `sheet.cell()` in openpyxl\n",
    "\n",
    "In `openpyxl`, the `sheet.cell(row, column)` method *returns a cell object* — that’s a query.  \n",
    "But *it also creates the cell if it doesn’t exist*, which is a command.\n",
    "\n",
    "So it *does both*: changes state _and_ returns data → ❌ *CQS violation*\n",
    "\n",
    "---\n",
    "\n",
    "#####  Example of Violation:\n",
    "\n",
    "```python\n",
    "import openpyxl\n",
    "\n",
    "wb = openpyxl.Workbook()\n",
    "sheet = wb.active\n",
    "\n",
    "# This seems like a query (just getting a cell), but actually creates a cell if it doesn't exist\n",
    "cell = sheet.cell(row=5, column=3)\n",
    "cell.value = \"Hello\"\n",
    "```\n",
    "\n",
    "👆 Problem:\n",
    "\n",
    "You might expect sheet.cell(5, 3) to just return a reference to an existing cell.\n",
    "But if cell C5 doesn't exist, it gets created — which is a side effect. That breaks the CQS principle.\n",
    "\n",
    "✅ Better (CQS-compliant) design:\n",
    "Have a separate method like create_cell() for cell creation (command).\n",
    "\n",
    "Keep get_cell() for only retrieving existing cells (query)."
   ]
  }
 ],
 "metadata": {
  "language_info": {
   "name": "python"
  }
 },
 "nbformat": 4,
 "nbformat_minor": 2
}

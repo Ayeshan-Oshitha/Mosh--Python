{
 "cells": [
  {
   "cell_type": "markdown",
   "metadata": {},
   "source": [
    "# Numpy\n",
    "\n",
    "NumPy is a powerful Python library used for numerical computing, providing support for large, multi-dimensional arrays and high-performance mathematical operations."
   ]
  },
  {
   "cell_type": "code",
   "execution_count": 2,
   "metadata": {},
   "outputs": [
    {
     "name": "stdout",
     "output_type": "stream",
     "text": [
      "[1 2 3]\n",
      "<class 'numpy.ndarray'>\n"
     ]
    }
   ],
   "source": [
    "import numpy as np\n",
    "\n",
    "array = np.array([1, 2, 3])\n",
    "print(array)\n",
    "print(type(array))\n"
   ]
  },
  {
   "cell_type": "code",
   "execution_count": 5,
   "metadata": {},
   "outputs": [
    {
     "name": "stdout",
     "output_type": "stream",
     "text": [
      "[[1 2 3]\n",
      " [4 5 6]]\n",
      "array shape [rows, columns] :  (2, 3)\n"
     ]
    }
   ],
   "source": [
    "import numpy as np\n",
    "\n",
    "array = np.array([[1, 2, 3],[4,5,6]])\n",
    "print(array)\n",
    "print(\"array shape [rows, columns] : \",array.shape)"
   ]
  },
  {
   "cell_type": "code",
   "execution_count": null,
   "metadata": {},
   "outputs": [
    {
     "name": "stdout",
     "output_type": "stream",
     "text": [
      "Array of zeros (3x4):\n",
      "[[0 0 0 0]\n",
      " [0 0 0 0]\n",
      " [0 0 0 0]]\n",
      "\n",
      "Array of ones (3x4):\n",
      "[[1 1 1 1]\n",
      " [1 1 1 1]\n",
      " [1 1 1 1]]\n",
      "\n",
      "Array filled with 5s (3x4):\n",
      "[[5 5 5 5]\n",
      " [5 5 5 5]\n",
      " [5 5 5 5]]\n",
      "\n",
      "Array with random floats (3x4):\n",
      "[[0.9704488  0.96974433 0.90116318 0.98094648]\n",
      " [0.72156216 0.35456447 0.61304306 0.78150714]\n",
      " [0.11065941 0.2564855  0.71234378 0.11654124]]\n",
      "0.9704487976484134\n"
     ]
    }
   ],
   "source": [
    "import numpy as np\n",
    "\n",
    "# Create a 3x4 array filled with zeros\n",
    "array_1 = np.zeros((3, 4), dtype=int)\n",
    "print(\"Array of zeros (3x4):\")\n",
    "print(array_1)\n",
    "print()\n",
    "\n",
    "# Create a 3x4 array filled with ones\n",
    "array_2 = np.ones((3, 4), dtype=int)\n",
    "print(\"Array of ones (3x4):\")\n",
    "print(array_2)\n",
    "print()\n",
    "\n",
    "# Create a 3x4 array filled with the number 5\n",
    "array_3 = np.full((3, 4), 5, dtype=int)\n",
    "print(\"Array filled with 5s (3x4):\")\n",
    "print(array_3)\n",
    "print()\n",
    "\n",
    "\n",
    "\n"
   ]
  },
  {
   "cell_type": "code",
   "execution_count": null,
   "metadata": {},
   "outputs": [
    {
     "name": "stdout",
     "output_type": "stream",
     "text": [
      "Array with random floats (3x4):\n",
      "[[0.70475196 0.4130349  0.21287807 0.72529744]\n",
      " [0.92895143 0.01907522 0.85665854 0.51678634]\n",
      " [0.7231543  0.85042132 0.3881637  0.69150075]]\n",
      "\n",
      "Element at index [0][0]:\n",
      "0.7047519637666565\n",
      "\n",
      "Boolean mask (array_4 > 0.2):\n",
      "[[ True  True  True  True]\n",
      " [ True False  True  True]\n",
      " [ True  True  True  True]]\n",
      "\n",
      "Elements in array_4 greater than 0.2:\n",
      "[0.70475196 0.4130349  0.21287807 0.72529744 0.92895143 0.85665854\n",
      " 0.51678634 0.7231543  0.85042132 0.3881637  0.69150075]\n",
      "\n",
      "Sum of all elements in array_4:\n",
      "7.030673978787138\n",
      "\n",
      "Rounded array_4 (values rounded to nearest whole number):\n",
      "[[1. 0. 0. 1.]\n",
      " [1. 0. 1. 1.]\n",
      " [1. 1. 0. 1.]]\n"
     ]
    }
   ],
   "source": [
    "import numpy as np\n",
    "\n",
    "# Create a 3x4 array with random float numbers between 0 and 1\n",
    "array_4 = np.random.random((3, 4))\n",
    "print(\"Array with random floats (3x4):\")\n",
    "print(array_4)\n",
    "print()\n",
    "\n",
    "# Access and print the element at row 0, column 0\n",
    "print(\"Element at index [0][0]:\")\n",
    "print(array_4[0, 0])\n",
    "print()\n",
    "\n",
    "# Boolean mask: check which elements are greater than 0.2\n",
    "print(\"Boolean mask (array_4 > 0.2):\")\n",
    "print(array_4 > 0.2)\n",
    "print()\n",
    "\n",
    "# Print only the elements greater than 0.2\n",
    "print(\"Elements in array_4 greater than 0.2:\")\n",
    "print(array_4[array_4 > 0.2])\n",
    "print()\n",
    "\n",
    "# Sum of all elements in the array\n",
    "print(\"Sum of all elements in array_4:\")\n",
    "print(np.sum(array_4))\n",
    "print()\n",
    "\n",
    "# Rounded version of the array (each element rounded to nearest integer: 0 or 1)\n",
    "print(\"Rounded array_4 (values rounded to nearest whole number):\")\n",
    "print(np.round(array_4))\n"
   ]
  },
  {
   "cell_type": "code",
   "execution_count": 18,
   "metadata": {},
   "outputs": [
    {
     "name": "stdout",
     "output_type": "stream",
     "text": [
      "[[3 4 5]\n",
      " [6 7 8]]\n"
     ]
    }
   ],
   "source": [
    "import numpy as np\n",
    "\n",
    "first = np.array([[1, 2, 3], [4, 5, 6]])\n",
    "print(first + 2)"
   ]
  },
  {
   "cell_type": "code",
   "execution_count": 20,
   "metadata": {},
   "outputs": [
    {
     "name": "stdout",
     "output_type": "stream",
     "text": [
      "[2.54 5.08 7.62]\n",
      "[2.54, 5.08, 7.62]\n"
     ]
    }
   ],
   "source": [
    "import numpy as np\n",
    "\n",
    "# Using NumPy array to convert dimensions from inches to centimeters\n",
    "dimensions_inch_1 = np.array([1, 2, 3])\n",
    "dimensions_cm_1 = dimensions_inch_1 * 2.54\n",
    "print(dimensions_cm_1)\n",
    "\n",
    "# Using a regular Python list and list comprehension to do the same conversion\n",
    "dimensions_inch_2 = [1, 2, 3]\n",
    "dimensions_cm_2 = [x * 2.54 for x in dimensions_inch_2]\n",
    "print(dimensions_cm_2)"
   ]
  }
 ],
 "metadata": {
  "kernelspec": {
   "display_name": "Python 3",
   "language": "python",
   "name": "python3"
  },
  "language_info": {
   "codemirror_mode": {
    "name": "ipython",
    "version": 3
   },
   "file_extension": ".py",
   "mimetype": "text/x-python",
   "name": "python",
   "nbconvert_exporter": "python",
   "pygments_lexer": "ipython3",
   "version": "3.13.3"
  }
 },
 "nbformat": 4,
 "nbformat_minor": 2
}

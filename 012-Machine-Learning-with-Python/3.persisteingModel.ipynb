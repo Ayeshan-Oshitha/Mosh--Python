{
 "cells": [
  {
   "cell_type": "code",
   "execution_count": null,
   "id": "0d812752-2160-488a-9b39-13bc8377e1e3",
   "metadata": {},
   "outputs": [
    {
     "data": {
      "text/plain": [
       "['music-recommender.joblib']"
      ]
     },
     "execution_count": 3,
     "metadata": {},
     "output_type": "execute_result"
    }
   ],
   "source": [
    "import pandas as pd\n",
    "from sklearn.tree import DecisionTreeClassifier\n",
    "import joblib\n",
    "\n",
    "music_data = pd.read_csv('music.csv')\n",
    "\n",
    "X = music_data.drop(columns=['genre'])  # Create the input features by dropping the 'genre' column from the dataset\n",
    "y = music_data['genre']  # Set the target variable (labels) as the 'genre' column\n",
    "\n",
    "model = DecisionTreeClassifier() \n",
    "model.fit(X, y) # Train the model using the entire dataset\n",
    "\n",
    "joblib.dump(model, 'music-recommender.joblib') # Save the trained model to a file for later use\n"
   ]
  },
  {
   "cell_type": "code",
   "execution_count": null,
   "id": "cb2a9176-6853-4fa8-a9c8-ba23dafb9168",
   "metadata": {},
   "outputs": [],
   "source": []
  }
 ],
 "metadata": {
  "kernelspec": {
   "display_name": "Python 3 (ipykernel)",
   "language": "python",
   "name": "python3"
  },
  "language_info": {
   "codemirror_mode": {
    "name": "ipython",
    "version": 3
   },
   "file_extension": ".py",
   "mimetype": "text/x-python",
   "name": "python",
   "nbconvert_exporter": "python",
   "pygments_lexer": "ipython3",
   "version": "3.12.7"
  }
 },
 "nbformat": 4,
 "nbformat_minor": 5
}

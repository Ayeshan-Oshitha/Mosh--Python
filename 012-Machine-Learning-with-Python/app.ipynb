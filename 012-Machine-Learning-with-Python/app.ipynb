{
 "cells": [
  {
   "cell_type": "markdown",
   "metadata": {},
   "source": [
    "# What is machine Learning ?\n",
    "\n",
    "Machine learning is a branch of artificial intelligence that enables computers to learn from data and make decisions or predictions without being explicitly programmed.\n",
    "\n",
    "- Self-driving Cars\n",
    "- Robotics\n",
    "- Language Processing\n",
    "- Vision Processing\n",
    "- Forecasting Stock Market Trends"
   ]
  },
  {
   "cell_type": "markdown",
   "metadata": {},
   "source": [
    "# Machine Learning in Action\n",
    "\n",
    "1. `Import the Data` - This step involves loading the dataset you'll use to train and test your model, often from CSV, Excel, or a database. It's the foundation for building any machine learning solution.\n",
    "\n",
    "2. `Clean the Data` - Real-world data is often messy—this step involves handling missing values, removing duplicates, correcting errors, and converting data into a usable format (e.g., numbers instead of text).\n",
    "\n",
    "3. `Split the Data into Training / Test Sets` - The data is divided into a training set (used to build the model) and a test set (used to evaluate its performance). This ensures the model is tested on unseen data to check its generalization ability.\n",
    "\n",
    "4. `Create a Model` - You choose a suitable algorithm (e.g., linear regression, decision tree, or neural network) to solve your specific problem, like predicting prices or classifying images.\n",
    "\n",
    "5. `Train the Model` - The model learns patterns in the training data by adjusting its internal parameters to minimize errors. This is where the actual learning happens.\n",
    "\n",
    "6. `Make Predictions` - After training, you use the model to make predictions on new, unseen data (typically the test set).\n",
    "\n",
    "7. `Evaluate and Improve` - You assess the model's performance using metrics like accuracy, precision, or mean squared error. Based on the results, you might tune parameters, use a different algorithm, or improve the data quality to get better results."
   ]
  },
  {
   "cell_type": "markdown",
   "metadata": {},
   "source": [
    "# Libraries and Tools\n",
    "\n",
    "### Libraries\n",
    "\n",
    "Numpy - A library for fast and efficient numerical computing with support for arrays and matrices.\n",
    "\n",
    "Pandas - A library for data manipulation and analysis, providing easy-to-use data structures like DataFrames.\n",
    "\n",
    "MatPlotLib - A library for creating static, animated, and interactive visualizations in Python (charts, plots, graphs).\n",
    "\n",
    "Scikit-Learn - A library for machine learning that provides tools for classification, regression, clustering, and more.\n",
    "\n",
    "### Jupyter Shortcuts\n",
    "\n",
    "`Ctrl + Enter` - Run the current cell\n",
    "\n",
    "`Shift + Enter` - Run cell, go to next\n",
    "\n",
    "`Tab` - Autocomplete\n",
    "\n",
    "`Shift + Tab` - Show tooltip/help\n"
   ]
  }
 ],
 "metadata": {
  "language_info": {
   "name": "python"
  }
 },
 "nbformat": 4,
 "nbformat_minor": 2
}

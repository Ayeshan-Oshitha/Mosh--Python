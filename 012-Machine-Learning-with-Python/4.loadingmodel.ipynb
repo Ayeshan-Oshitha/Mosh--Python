{
 "cells": [
  {
   "cell_type": "code",
   "execution_count": null,
   "id": "cf1a149a-2e5f-4c49-bb6b-0afba37da3da",
   "metadata": {},
   "outputs": [
    {
     "name": "stdout",
     "output_type": "stream",
     "text": [
      "['HipHop']\n"
     ]
    }
   ],
   "source": [
    "import pandas as pd\n",
    "import joblib\n",
    "\n",
    "# Load the pre-trained model from the file\n",
    "model = joblib.load('music-recommender.joblib') \n",
    "\n",
    "# Create input data for prediction with the same column names used during training\n",
    "input_data = pd.DataFrame([[21, 1]], columns=['age', 'gender']) \n",
    "\n",
    "# Create input data for prediction with the same column names used during training\n",
    "predictions = model.predict(input_data)\n",
    "print(predictions)"
   ]
  },
  {
   "cell_type": "code",
   "execution_count": null,
   "id": "f7d61076-a5d5-411b-b555-eb5439df8a7e",
   "metadata": {},
   "outputs": [],
   "source": []
  }
 ],
 "metadata": {
  "kernelspec": {
   "display_name": "Python 3 (ipykernel)",
   "language": "python",
   "name": "python3"
  },
  "language_info": {
   "codemirror_mode": {
    "name": "ipython",
    "version": 3
   },
   "file_extension": ".py",
   "mimetype": "text/x-python",
   "name": "python",
   "nbconvert_exporter": "python",
   "pygments_lexer": "ipython3",
   "version": "3.12.7"
  }
 },
 "nbformat": 4,
 "nbformat_minor": 5
}

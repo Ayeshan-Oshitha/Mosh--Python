{
 "cells": [
  {
   "cell_type": "code",
   "execution_count": null,
   "id": "89ab8e94-1d6e-475c-8280-c4e78a486a65",
   "metadata": {
    "panel-layout": {
     "height": 512.4000244140625,
     "visible": true,
     "width": 100
    }
   },
   "outputs": [
    {
     "data": {
      "text/plain": [
       "1.0"
      ]
     },
     "execution_count": 190,
     "metadata": {},
     "output_type": "execute_result"
    }
   ],
   "source": [
    "import pandas as pd\n",
    "from sklearn.tree import DecisionTreeClassifier\n",
    "from sklearn.model_selection import train_test_split\n",
    "from sklearn.metrics import accuracy_score\n",
    "\n",
    "music_data = pd.read_csv('music.csv')\n",
    "music_data\n",
    "\n",
    "X = music_data.drop(columns=['genre'])  # Create the input features by dropping the 'genre' column from the dataset\n",
    "y = music_data['genre']  # Set the target variable (labels) as the 'genre' column\n",
    "X_train, X_test, y_train, y_test =  train_test_split(X, y, test_size=0.2) # Split data into training and testing sets (80% train, 20% test)\n",
    "\n",
    "model = DecisionTreeClassifier()\n",
    "model.fit(X_train, y_train) # Train the model on the training data\n",
    "\n",
    "predictions = model.predict(X_test) # Predict the genres for the test data\n",
    "predictions\n",
    "\n",
    "score = accuracy_score(y_test, predictions) # Calculate the accuracy of the model on the test data\n",
    "score"
   ]
  },
  {
   "cell_type": "code",
   "execution_count": null,
   "id": "52c2f280-ae93-4079-84d4-a698c72b39ca",
   "metadata": {},
   "outputs": [],
   "source": []
  }
 ],
 "metadata": {
  "kernelspec": {
   "display_name": "Python 3 (ipykernel)",
   "language": "python",
   "name": "python3"
  },
  "language_info": {
   "codemirror_mode": {
    "name": "ipython",
    "version": 3
   },
   "file_extension": ".py",
   "mimetype": "text/x-python",
   "name": "python",
   "nbconvert_exporter": "python",
   "pygments_lexer": "ipython3",
   "version": "3.12.7"
  },
  "panel-cell-order": [
   "2441992c-8f9a-42d0-9b79-104552014bbc",
   "89ab8e94-1d6e-475c-8280-c4e78a486a65",
   "d7f85fc6-1c56-4c12-8a7c-7cb511a08172",
   "ef082274-02d1-4281-ae9e-8ac51f3c6b21",
   "915b4ff4-74b4-41f1-9c37-3625d87acbde"
  ]
 },
 "nbformat": 4,
 "nbformat_minor": 5
}

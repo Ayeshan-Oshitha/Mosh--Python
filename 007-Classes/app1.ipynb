{
 "cells": [
  {
   "cell_type": "markdown",
   "metadata": {},
   "source": [
    "# Classes\n",
    "\n",
    "- Class: A class is a blueprint for creating objects with similar properties and behaviors.\n",
    "- Object: An object is a specific instance created from a class.\n",
    "\n",
    "ex-:\n",
    "\n",
    "- Class – Car\n",
    "- Objects – Toyota, Honda, BMW"
   ]
  },
  {
   "cell_type": "markdown",
   "metadata": {},
   "source": [
    "# Creating Classes"
   ]
  },
  {
   "cell_type": "code",
   "execution_count": null,
   "metadata": {},
   "outputs": [
    {
     "name": "stdout",
     "output_type": "stream",
     "text": [
      "draw\n",
      "<class '__main__.Point'>\n",
      "True\n"
     ]
    }
   ],
   "source": [
    "# Define a class named 'Point'\n",
    "class Point:\n",
    "    def draw(self):\n",
    "        print(\"draw\")\n",
    "\n",
    "# Create an object\n",
    "point = Point()\n",
    "point.draw()\n",
    "\n",
    "print(type(point))\n",
    "\n",
    "print(isinstance(point, Point))"
   ]
  },
  {
   "cell_type": "markdown",
   "metadata": {},
   "source": [
    "# Constructors"
   ]
  },
  {
   "cell_type": "code",
   "execution_count": null,
   "metadata": {},
   "outputs": [
    {
     "name": "stdout",
     "output_type": "stream",
     "text": [
      "1\n",
      "Point : (1, 2)\n"
     ]
    }
   ],
   "source": [
    "class Point:\n",
    "    # The __init__ method is the constructor that gets called when a new object is created.\n",
    "    # 'self' refers to the current instance of the class.\n",
    "    def __init__(self,x,y):\n",
    "        self.x = x # Set the x attribute of the current object\n",
    "        self.y = y # Set the y attribute of the current object\n",
    "\n",
    "    def draw(self):\n",
    "        print(f\"Point : ({self.x}, {self.y})\")\n",
    "\n",
    "point = Point(1,2)\n",
    "print(point.x)\n",
    "point.draw()"
   ]
  },
  {
   "cell_type": "markdown",
   "metadata": {},
   "source": [
    "- In Python, the first parameter of any instance method (including __init__) must be `self`, which refers to the current object.\n",
    "\n",
    "- self is how an object keeps track of its own data (attributes) and behavior (methods).\n",
    "\n",
    "- When you create or use an object, Python automatically passes it as the first argument (self) to instance methods."
   ]
  },
  {
   "cell_type": "markdown",
   "metadata": {},
   "source": [
    "`Note : Important` - In Python, you can add new attributes to an object even after it’s created, thanks to its `dynamic and flexible nature` **( because, objects of python are dynamic )**  . This behavior is not typically allowed in statically-typed languages like Java or C#."
   ]
  },
  {
   "cell_type": "code",
   "execution_count": 29,
   "metadata": {},
   "outputs": [
    {
     "name": "stdout",
     "output_type": "stream",
     "text": [
      "z :  10\n"
     ]
    }
   ],
   "source": [
    "class Point:\n",
    "    def __init__(self,x,y):\n",
    "        self.x = x \n",
    "        self.y = y \n",
    "\n",
    "    def draw(self):\n",
    "        print(f\"Point : ({self.x}, {self.y})\")\n",
    "\n",
    "point = Point(1,2)\n",
    "point.z = 10\n",
    "print(\"z : \",point.z)\n"
   ]
  },
  {
   "cell_type": "markdown",
   "metadata": {},
   "source": [
    "# Class vs Instance Attributes\n",
    "\n",
    "- Class Attribute : \n",
    "    - Shared by all instances of the class.\n",
    "    - Defined directly inside the class (not inside any method).\n",
    "    - Can be accessed using both the class and its objects.\n",
    "\n",
    "- Instance Attribute :\n",
    "    - Unique to each object.\n",
    "    - Defined inside methods using `self` (usually in `__init__`).\n",
    "    - Can only be accessed through the object, not the class itself."
   ]
  },
  {
   "cell_type": "code",
   "execution_count": 15,
   "metadata": {},
   "outputs": [
    {
     "name": "stdout",
     "output_type": "stream",
     "text": [
      "Brownie\n",
      "Canine\n",
      "Canine\n"
     ]
    }
   ],
   "source": [
    "class Dog:\n",
    "    species = \"Canine\"  # Class attribute\n",
    "\n",
    "    def __init__(self, name):\n",
    "        self.name = name  # Instance attribute\n",
    "\n",
    "dog = Dog(\"Brownie\")\n",
    "print(dog.name)\n",
    "print(Dog.species)\n",
    "print(dog.species)"
   ]
  },
  {
   "cell_type": "markdown",
   "metadata": {},
   "source": [
    " In Python, because of its dynamic nature, `class attributes` can also be `overridden`\n",
    "\n",
    " **Example 1** -: When we change the class-level attribute, it updates the value for all instances and objects of the class."
   ]
  },
  {
   "cell_type": "code",
   "execution_count": 27,
   "metadata": {},
   "outputs": [
    {
     "name": "stdout",
     "output_type": "stream",
     "text": [
      "Dog.species -:  Canine\n",
      "dog_1.species -:  Canine\n",
      "dog_2.species -:  Canine\n",
      "-------\n",
      "Dog.species -:  Labrador\n",
      "dog_1.species -:  Labrador\n",
      "dog_2.species -:  Labrador\n"
     ]
    }
   ],
   "source": [
    "class Dog:\n",
    "    species = \"Canine\"  \n",
    "\n",
    "    def __init__(self, name):\n",
    "        self.name = name  \n",
    "\n",
    "dog_1 = Dog(\"Brownie\")\n",
    "dog_2 = Dog(\"Jimmy\")\n",
    "\n",
    "\n",
    "print(\"Dog.species -: \" , Dog.species)\n",
    "print(\"dog_1.species -: \", dog_1.species)\n",
    "print(\"dog_2.species -: \" ,dog_2.species)\n",
    "\n",
    "print(\"-------\")\n",
    "\n",
    "# Override in class level \n",
    "Dog.species = \"Labrador\"\n",
    "print(\"Dog.species -: \" , Dog.species)\n",
    "print(\"dog_1.species -: \" , dog_1.species)\n",
    "print(\"dog_2.species -: \" , dog_2.species) \n",
    "\n"
   ]
  },
  {
   "cell_type": "markdown",
   "metadata": {},
   "source": [
    " **Example 2** -: When we change the attribute at the object level, it only updates the value for that specific object, not the entire class or other instances."
   ]
  },
  {
   "cell_type": "code",
   "execution_count": 28,
   "metadata": {},
   "outputs": [
    {
     "name": "stdout",
     "output_type": "stream",
     "text": [
      "Dog.species -:  Canine\n",
      "dog_1.species -:  Canine\n",
      "dog_2.species -:  Canine\n",
      "-------\n",
      "Dog.species -:  Canine\n",
      "dog_1.species -:  Labrador\n",
      "dog_2.species -:  Canine\n"
     ]
    }
   ],
   "source": [
    "class Dog:\n",
    "    species = \"Canine\"  \n",
    "\n",
    "    def __init__(self, name):\n",
    "        self.name = name  \n",
    "\n",
    "dog_1 = Dog(\"Brownie\")\n",
    "dog_2 = Dog(\"Jimmy\")\n",
    "\n",
    "\n",
    "print(\"Dog.species -: \" , Dog.species)\n",
    "print(\"dog_1.species -: \", dog_1.species)\n",
    "print(\"dog_2.species -: \" ,dog_2.species)\n",
    "\n",
    "print(\"-------\")\n",
    "\n",
    "# Override in object level \n",
    "dog_1.species = \"Labrador\"\n",
    "print(\"Dog.species -: \" , Dog.species)\n",
    "print(\"dog_1.species -: \" , dog_1.species)\n",
    "print(\"dog_2.species -: \" , dog_2.species) "
   ]
  },
  {
   "cell_type": "markdown",
   "metadata": {},
   "source": [
    "# Class vs Instance Methods\n",
    "\n",
    "- Instance Method: Operates on individual objects (instances). Takes `self` as the first parameter(by convention, but any name can be used).\n",
    "\n",
    "- Class Method: Operates on the class itself, not on instances. Takes `cls` as the first parameter (by convention, but any name can be used). Must be marked with `@classmethod`."
   ]
  },
  {
   "cell_type": "code",
   "execution_count": 36,
   "metadata": {},
   "outputs": [
    {
     "name": "stdout",
     "output_type": "stream",
     "text": [
      "Canine\n",
      "-------\n",
      "Labrador\n"
     ]
    }
   ],
   "source": [
    "class Dog:\n",
    "    species = \"Canine\"  # Class attribute\n",
    "\n",
    "    def __init__(self, name):\n",
    "        self.name = name  # Instance attribute\n",
    "\n",
    "    def speak(self):  # Instance method\n",
    "        print(f\"{self.name} says woof!\")\n",
    "\n",
    "    @classmethod\n",
    "    def change_species(cls, new_species):  # Class method\n",
    "        cls.species = new_species\n",
    "\n",
    "dog1 = Dog(\"Brownie\")\n",
    "\n",
    "\n",
    "print(dog1.species)\n",
    "\n",
    "print(\"-------\")\n",
    "\n",
    "# Call class method to change species for all dogs\n",
    "Dog.change_species(\"Labrador\")\n",
    "\n",
    "print(dog1.species)  # Output: Labrador\n"
   ]
  },
  {
   "cell_type": "markdown",
   "metadata": {},
   "source": [
    "# Magic Methods\n",
    "\n",
    "Magic methods are special methods in Python that have double underscores (__) at the beginning and end of their names. They are automatically invoked by the Python interpreter based on how objects and classes are used.\n",
    "\n",
    "\n",
    "ex 1 -: `__str__` – This method is used to convert an object to a string representation when you use str() or print the object."
   ]
  },
  {
   "cell_type": "code",
   "execution_count": 15,
   "metadata": {},
   "outputs": [
    {
     "name": "stdout",
     "output_type": "stream",
     "text": [
      "<__main__.Point object at 0x000002C221503CB0>\n"
     ]
    }
   ],
   "source": [
    "# Without _str_ method\n",
    "\n",
    "class Point:\n",
    "    def __init__(self,x,y):\n",
    "        self.x = x \n",
    "        self.y = y \n",
    "\n",
    "point = Point(1,2)\n",
    "print(point)"
   ]
  },
  {
   "cell_type": "code",
   "execution_count": 16,
   "metadata": {},
   "outputs": [
    {
     "name": "stdout",
     "output_type": "stream",
     "text": [
      "(1 2)\n"
     ]
    }
   ],
   "source": [
    "# With _str_ method\n",
    "\n",
    "class Point:\n",
    "    def __init__(self,x,y):\n",
    "        self.x = x \n",
    "        self.y = y \n",
    "\n",
    "    def __str__(self):\n",
    "        return f\"({self.x} {self.y})\"\n",
    "\n",
    "point = Point(1,2)\n",
    "print(point)"
   ]
  },
  {
   "cell_type": "markdown",
   "metadata": {},
   "source": [
    "# Comparing objects\n",
    "\n",
    "By default, the `==` operator compares the `memory addresses of objects`, not their contents."
   ]
  },
  {
   "cell_type": "code",
   "execution_count": 17,
   "metadata": {},
   "outputs": [
    {
     "name": "stdout",
     "output_type": "stream",
     "text": [
      "False\n"
     ]
    }
   ],
   "source": [
    "class Point:\n",
    "    def __init__(self,x,y):\n",
    "        self.x = x \n",
    "        self.y = y \n",
    "\n",
    "point_1 = Point(1,2)\n",
    "point_2 = Point(1,2)\n",
    "\n",
    "print(point_1 == point_2)"
   ]
  },
  {
   "cell_type": "markdown",
   "metadata": {},
   "source": [
    "If we define the `__eq__ `magic method in a class, we can override the default behavior of == and make it compare the values (attributes) of objects instead of their memory addresses."
   ]
  },
  {
   "cell_type": "code",
   "execution_count": 24,
   "metadata": {},
   "outputs": [
    {
     "name": "stdout",
     "output_type": "stream",
     "text": [
      "True\n",
      "-----\n",
      "True\n"
     ]
    }
   ],
   "source": [
    "class Point:\n",
    "    def __init__(self,x,y):\n",
    "        self.x = x \n",
    "        self.y = y \n",
    "\n",
    "    def __eq__(self, other):\n",
    "        return self.x == other.x and self.y == other.y\n",
    "\n",
    "point_1 = Point(1,2)\n",
    "point_2 = Point(1,2)\n",
    "\n",
    "print(point_1 == point_2) \n",
    "\n",
    "# Above statement is simlar to below statement\n",
    "\n",
    "print(\"-----\")\n",
    "\n",
    "print(point_1.__eq__(point_2)) # point_1 refers to self and point_2 refers to the other in _eq_ method"
   ]
  },
  {
   "cell_type": "markdown",
   "metadata": {},
   "source": [
    "#### Comparing using Greater than magic method"
   ]
  },
  {
   "cell_type": "code",
   "execution_count": null,
   "metadata": {},
   "outputs": [
    {
     "name": "stdout",
     "output_type": "stream",
     "text": [
      "True\n",
      "True\n",
      "-----\n",
      "False\n",
      "False\n"
     ]
    }
   ],
   "source": [
    "class Point:\n",
    "    def __init__(self,x,y):\n",
    "        self.x = x \n",
    "        self.y = y \n",
    "\n",
    "    def __gt__(self, other):\n",
    "        return self.x > other.x and self.y > other.y\n",
    "\n",
    "point_1 = Point(1,2)\n",
    "point_2 = Point(2,3)\n",
    "\n",
    "print(point_2 > point_1)\n",
    "print(point_2.__gt__(point_1))\n",
    "\n",
    "print(\"-----\")\n",
    "\n",
    "# If we implement the greater-than operator, Python will automatically implement the less-than operator and so on. \n",
    "# We don't need to implement them all explicitly.\n",
    "\n",
    "print(point_2 < point_1)\n",
    "print(point_2 == point_1)\n"
   ]
  },
  {
   "cell_type": "markdown",
   "metadata": {},
   "source": [
    "# Performing Arithmetic Operator"
   ]
  },
  {
   "cell_type": "code",
   "execution_count": 35,
   "metadata": {},
   "outputs": [
    {
     "name": "stdout",
     "output_type": "stream",
     "text": [
      "<__main__.Point object at 0x000002C221748CD0>\n",
      "6\n"
     ]
    }
   ],
   "source": [
    "class Point:\n",
    "    def __init__(self,x,y):\n",
    "        self.x = x \n",
    "        self.y = y \n",
    "    \n",
    "    def __add__(self, other):\n",
    "        return Point(self.x + other.x , self.y + other.y)\n",
    "    \n",
    "    \n",
    "point_1 = Point(1,4)\n",
    "point_2 = Point(5,7)\n",
    "\n",
    "print( point_1 + point_2 )\n",
    "\n",
    "combined = point_1 + point_2\n",
    "\n",
    "print(combined.x)"
   ]
  },
  {
   "cell_type": "markdown",
   "metadata": {},
   "source": [
    "# Making Custom Containers\n",
    "\n",
    "In Python, containers are objects that can hold multiple items, like lists, tuples, sets, and dictionaries. However, you can also create your own `custom container` classes to store and manage data in unique ways. A custom container class allows you to define how the data is organized and how various operations (like adding, removing, or iterating over items) are performed."
   ]
  },
  {
   "cell_type": "code",
   "execution_count": 53,
   "metadata": {},
   "outputs": [
    {
     "name": "stdout",
     "output_type": "stream",
     "text": [
      "{'python': 3, 'java': 2}\n",
      "-----\n",
      "Python :  3\n",
      "-----\n",
      "C# :  5\n",
      "-----\n",
      "3\n",
      "-----\n",
      "python : 3\n",
      "java : 2\n",
      "c# : 5\n"
     ]
    }
   ],
   "source": [
    "class TagCloud:\n",
    "\n",
    "    def __init__(self):\n",
    "        # Dictionary to store tags and their counts\n",
    "        self.tags = {}\n",
    "\n",
    "    def add(self,tag):\n",
    "        # Convert tag to lowercase and increment its count\n",
    "        self.tags[tag.lower()] = self.tags.get(tag.lower(), 0) + 1\n",
    "\n",
    "    def __getitem__(self , tag):\n",
    "        # Allow accessing a tag's count using square brackets (e.g., cloud[\"python\"])\n",
    "        return self.tags.get(tag.lower(), 0)\n",
    "\n",
    "    def __setitem__(self, tag, count):\n",
    "        # Allow setting a tag's count directly (e.g., cloud[\"python\"] = 3)\n",
    "        self.tags[tag.lower()] = count\n",
    "\n",
    "    def __len__(self):\n",
    "        # Return the number of unique tags\n",
    "        return len(self.tags)\n",
    "    \n",
    "    def __iter__(self):\n",
    "        # Allow iteration over the tag names\n",
    "        return iter(self.tags)\n",
    "\n",
    "\n",
    "# Create a TagCloud object\n",
    "cloud = TagCloud()\n",
    "\n",
    "# Add tags\n",
    "cloud.add(\"python\")\n",
    "cloud.add(\"Python\")\n",
    "cloud.add(\"python\")\n",
    "cloud.add(\"java\")\n",
    "cloud.add(\"JAVA\")\n",
    "\n",
    "# Print the internal tag dictionary\n",
    "print(cloud.tags)\n",
    "\n",
    "print(\"-----\")\n",
    "\n",
    "# Access tag count using __getitem__\n",
    "print(\"Python : \" ,cloud[\"python\"])\n",
    "\n",
    "print(\"-----\")\n",
    "\n",
    "# Set a count manually using __setitem__\n",
    "cloud[\"c#\"] = 5\n",
    "print(\"C# : \" ,cloud[\"c#\"])\n",
    "\n",
    "print(\"-----\")\n",
    "\n",
    "# Get the number of unique tags using __len__\n",
    "print(len(cloud))\n",
    "\n",
    "print(\"-----\")\n",
    "\n",
    "# Use iteration (__iter__) to list all tags\n",
    "for tag in cloud:\n",
    "    print(f\"{tag} : {cloud[tag]}\")\n"
   ]
  },
  {
   "cell_type": "markdown",
   "metadata": {},
   "source": [
    "# Private Members\n",
    "\n",
    "In Python, private members can't be completely hidden like in Java or C#. Instead, Python uses a naming convention (like prefixing with double underscores) to discourage access, not prevent it. This means private members are still accessible, just not easily—they’re intended to avoid accidental access, not enforce strict privacy."
   ]
  },
  {
   "cell_type": "code",
   "execution_count": 77,
   "metadata": {},
   "outputs": [],
   "source": [
    "class TagCloud:\n",
    "\n",
    "    def __init__(self):\n",
    "        self.tags = {}\n",
    "\n",
    "    def add(self,tag):\n",
    "        self.tags[tag.lower()] = self.tags.get(tag.lower(), 0) + 1\n",
    "\n",
    "    def __getitem__(self , tag):\n",
    "        return self.tags.get(tag.lower(), 0)\n",
    "    \n",
    "\n",
    "cloud = TagCloud()\n",
    "\n",
    "cloud.add(\"python\")\n",
    "cloud.add(\"Python\")\n",
    "cloud.add(\"JAVA\")"
   ]
  },
  {
   "cell_type": "markdown",
   "metadata": {},
   "source": [
    "Here, we can access the `tags` dictionary directly because it's a public variable."
   ]
  },
  {
   "cell_type": "code",
   "execution_count": 78,
   "metadata": {},
   "outputs": [
    {
     "name": "stdout",
     "output_type": "stream",
     "text": [
      "2\n"
     ]
    }
   ],
   "source": [
    "print(cloud.tags[\"python\"])"
   ]
  },
  {
   "cell_type": "markdown",
   "metadata": {},
   "source": [
    "Now, let's make the attribute private (using double underscores) to hide it from access outside the class."
   ]
  },
  {
   "cell_type": "code",
   "execution_count": 79,
   "metadata": {},
   "outputs": [
    {
     "ename": "AttributeError",
     "evalue": "'TagCloud' object has no attribute 'tags'",
     "output_type": "error",
     "traceback": [
      "\u001b[31m---------------------------------------------------------------------------\u001b[39m",
      "\u001b[31mAttributeError\u001b[39m                            Traceback (most recent call last)",
      "\u001b[36mCell\u001b[39m\u001b[36m \u001b[39m\u001b[32mIn[79]\u001b[39m\u001b[32m, line 20\u001b[39m\n\u001b[32m     17\u001b[39m cloud.add(\u001b[33m\"\u001b[39m\u001b[33mJAVA\u001b[39m\u001b[33m\"\u001b[39m)\n\u001b[32m     19\u001b[39m \u001b[38;5;66;03m# Cannot access easily\u001b[39;00m\n\u001b[32m---> \u001b[39m\u001b[32m20\u001b[39m \u001b[38;5;28mprint\u001b[39m(\u001b[43mcloud\u001b[49m\u001b[43m.\u001b[49m\u001b[43mtags\u001b[49m[\u001b[33m\"\u001b[39m\u001b[33mpython\u001b[39m\u001b[33m\"\u001b[39m])\n",
      "\u001b[31mAttributeError\u001b[39m: 'TagCloud' object has no attribute 'tags'"
     ]
    }
   ],
   "source": [
    "class TagCloud:\n",
    "\n",
    "    def __init__(self):\n",
    "        self.__tags = {}\n",
    "\n",
    "    def add(self,tag):\n",
    "        self.__tags[tag.lower()] = self.__tags.get(tag.lower(), 0) + 1\n",
    "\n",
    "    def __getitem__(self , tag):\n",
    "        return self.__tags.get(tag.lower(), 0)\n",
    "    \n",
    "\n",
    "cloud = TagCloud()\n",
    "\n",
    "cloud.add(\"python\")\n",
    "cloud.add(\"Python\")\n",
    "cloud.add(\"JAVA\")\n",
    "\n",
    "# Cannot access easily\n",
    "print(cloud.tags[\"python\"])"
   ]
  },
  {
   "cell_type": "markdown",
   "metadata": {},
   "source": [
    "So, now we can't access the private attribute easily from outside the class.\n",
    "\n",
    "However, it’s still accessible using the `__dict__` attribute or name mangling."
   ]
  },
  {
   "cell_type": "code",
   "execution_count": 80,
   "metadata": {},
   "outputs": [
    {
     "name": "stdout",
     "output_type": "stream",
     "text": [
      "{'_TagCloud__tags': {'python': 2, 'java': 1}}\n",
      "----\n",
      "{'python': 2, 'java': 1}\n",
      "----\n",
      "2\n"
     ]
    }
   ],
   "source": [
    "class TagCloud:\n",
    "\n",
    "    def __init__(self):\n",
    "        self.__tags = {}\n",
    "\n",
    "    def add(self,tag):\n",
    "        self.__tags[tag.lower()] = self.__tags.get(tag.lower(), 0) + 1\n",
    "\n",
    "    def __getitem__(self , tag):\n",
    "        return self.__tags.get(tag.lower(), 0)\n",
    "    \n",
    "\n",
    "cloud = TagCloud()\n",
    "\n",
    "cloud.add(\"python\")\n",
    "cloud.add(\"Python\")\n",
    "cloud.add(\"JAVA\")\n",
    "\n",
    "\n",
    "print(cloud.__dict__)\n",
    "print(\"----\")\n",
    "print(cloud._TagCloud__tags)\n",
    "print(\"----\")\n",
    "print(cloud._TagCloud__tags[\"python\"])"
   ]
  }
 ],
 "metadata": {
  "kernelspec": {
   "display_name": "Python 3",
   "language": "python",
   "name": "python3"
  },
  "language_info": {
   "codemirror_mode": {
    "name": "ipython",
    "version": 3
   },
   "file_extension": ".py",
   "mimetype": "text/x-python",
   "name": "python",
   "nbconvert_exporter": "python",
   "pygments_lexer": "ipython3",
   "version": "3.13.3"
  }
 },
 "nbformat": 4,
 "nbformat_minor": 2
}

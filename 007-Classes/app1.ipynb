{
 "cells": [
  {
   "cell_type": "markdown",
   "metadata": {},
   "source": [
    "# Classes\n",
    "\n",
    "- Class: A class is a blueprint for creating objects with similar properties and behaviors.\n",
    "- Object: An object is a specific instance created from a class.\n",
    "\n",
    "ex-:\n",
    "\n",
    "- Class – Car\n",
    "- Objects – Toyota, Honda, BMW"
   ]
  },
  {
   "cell_type": "markdown",
   "metadata": {},
   "source": [
    "# Creating Classes"
   ]
  },
  {
   "cell_type": "code",
   "execution_count": null,
   "metadata": {},
   "outputs": [
    {
     "name": "stdout",
     "output_type": "stream",
     "text": [
      "draw\n",
      "<class '__main__.Point'>\n",
      "True\n"
     ]
    }
   ],
   "source": [
    "# Define a class named 'Point'\n",
    "class Point:\n",
    "    def draw(self):\n",
    "        print(\"draw\")\n",
    "\n",
    "# Create an object\n",
    "point = Point()\n",
    "point.draw()\n",
    "\n",
    "print(type(point))\n",
    "\n",
    "print(isinstance(point, Point))"
   ]
  },
  {
   "cell_type": "markdown",
   "metadata": {},
   "source": [
    "# Constructors"
   ]
  },
  {
   "cell_type": "code",
   "execution_count": null,
   "metadata": {},
   "outputs": [
    {
     "name": "stdout",
     "output_type": "stream",
     "text": [
      "1\n",
      "Point : (1, 2)\n"
     ]
    }
   ],
   "source": [
    "class Point:\n",
    "     # The __init__ method is the constructor that gets called when a new object is created.\n",
    "    # 'self' refers to the current instance of the class.\n",
    "    def __init__(self,x,y):\n",
    "        self.x = x # Set the x attribute of the current object\n",
    "        self.y = y # Set the y attribute of the current object\n",
    "\n",
    "    def draw(self):\n",
    "        print(f\"Point : ({self.x}, {self.y})\")\n",
    "\n",
    "point = Point(1,2)\n",
    "print(point.x)\n",
    "point.draw()"
   ]
  },
  {
   "cell_type": "markdown",
   "metadata": {},
   "source": [
    "- In Python, the first parameter of any instance method (including __init__) must be `self`, which refers to the current object.\n",
    "\n",
    "- self is how an object keeps track of its own data (attributes) and behavior (methods).\n",
    "\n",
    "- When you create or use an object, Python automatically passes it as the first argument (self) to instance methods."
   ]
  },
  {
   "cell_type": "markdown",
   "metadata": {},
   "source": [
    "`Note : Important` - In Python, you can add new attributes to an object even after it’s created, thanks to its `dynamic and flexible nature` **( because, objects of python are dynamic )**  . This behavior is not typically allowed in statically-typed languages like Java or C#."
   ]
  },
  {
   "cell_type": "code",
   "execution_count": 29,
   "metadata": {},
   "outputs": [
    {
     "name": "stdout",
     "output_type": "stream",
     "text": [
      "z :  10\n"
     ]
    }
   ],
   "source": [
    "class Point:\n",
    "    def __init__(self,x,y):\n",
    "        self.x = x \n",
    "        self.y = y \n",
    "\n",
    "    def draw(self):\n",
    "        print(f\"Point : ({self.x}, {self.y})\")\n",
    "\n",
    "point = Point(1,2)\n",
    "point.z = 10\n",
    "print(\"z : \",point.z)\n"
   ]
  },
  {
   "cell_type": "markdown",
   "metadata": {},
   "source": [
    "# Class vs Instance Attributes\n",
    "\n",
    "- Class Attribute : \n",
    "    - Shared by all instances of the class.\n",
    "    - Defined directly inside the class (not inside any method).\n",
    "    - Can be accessed using both the class and its objects.\n",
    "\n",
    "- Instance Attribute :\n",
    "    - Unique to each object.\n",
    "    - Defined inside methods using `self` (usually in `__init__`).\n",
    "    - Can only be accessed through the object, not the class itself."
   ]
  },
  {
   "cell_type": "code",
   "execution_count": 15,
   "metadata": {},
   "outputs": [
    {
     "name": "stdout",
     "output_type": "stream",
     "text": [
      "Brownie\n",
      "Canine\n",
      "Canine\n"
     ]
    }
   ],
   "source": [
    "class Dog:\n",
    "    species = \"Canine\"  # Class attribute\n",
    "\n",
    "    def __init__(self, name):\n",
    "        self.name = name  # Instance attribute\n",
    "\n",
    "dog = Dog(\"Brownie\")\n",
    "print(dog.name)\n",
    "print(Dog.species)\n",
    "print(dog.species)"
   ]
  },
  {
   "cell_type": "markdown",
   "metadata": {},
   "source": [
    " In Python, because of its dynamic nature, `class attributes` can also be `overridden`\n",
    "\n",
    " **Example 1** -: When we change the class-level attribute, it updates the value for all instances and objects of the class."
   ]
  },
  {
   "cell_type": "code",
   "execution_count": 27,
   "metadata": {},
   "outputs": [
    {
     "name": "stdout",
     "output_type": "stream",
     "text": [
      "Dog.species -:  Canine\n",
      "dog_1.species -:  Canine\n",
      "dog_2.species -:  Canine\n",
      "-------\n",
      "Dog.species -:  Labrador\n",
      "dog_1.species -:  Labrador\n",
      "dog_2.species -:  Labrador\n"
     ]
    }
   ],
   "source": [
    "class Dog:\n",
    "    species = \"Canine\"  \n",
    "\n",
    "    def __init__(self, name):\n",
    "        self.name = name  \n",
    "\n",
    "dog_1 = Dog(\"Brownie\")\n",
    "dog_2 = Dog(\"Jimmy\")\n",
    "\n",
    "\n",
    "print(\"Dog.species -: \" , Dog.species)\n",
    "print(\"dog_1.species -: \", dog_1.species)\n",
    "print(\"dog_2.species -: \" ,dog_2.species)\n",
    "\n",
    "print(\"-------\")\n",
    "\n",
    "# Override in class level \n",
    "Dog.species = \"Labrador\"\n",
    "print(\"Dog.species -: \" , Dog.species)\n",
    "print(\"dog_1.species -: \" , dog_1.species)\n",
    "print(\"dog_2.species -: \" , dog_2.species) \n",
    "\n"
   ]
  },
  {
   "cell_type": "markdown",
   "metadata": {},
   "source": [
    " **Example 2** -: When we change the attribute at the object level, it only updates the value for that specific object, not the entire class or other instances."
   ]
  },
  {
   "cell_type": "code",
   "execution_count": 28,
   "metadata": {},
   "outputs": [
    {
     "name": "stdout",
     "output_type": "stream",
     "text": [
      "Dog.species -:  Canine\n",
      "dog_1.species -:  Canine\n",
      "dog_2.species -:  Canine\n",
      "-------\n",
      "Dog.species -:  Canine\n",
      "dog_1.species -:  Labrador\n",
      "dog_2.species -:  Canine\n"
     ]
    }
   ],
   "source": [
    "class Dog:\n",
    "    species = \"Canine\"  \n",
    "\n",
    "    def __init__(self, name):\n",
    "        self.name = name  \n",
    "\n",
    "dog_1 = Dog(\"Brownie\")\n",
    "dog_2 = Dog(\"Jimmy\")\n",
    "\n",
    "\n",
    "print(\"Dog.species -: \" , Dog.species)\n",
    "print(\"dog_1.species -: \", dog_1.species)\n",
    "print(\"dog_2.species -: \" ,dog_2.species)\n",
    "\n",
    "print(\"-------\")\n",
    "\n",
    "# Override in object level \n",
    "dog_1.species = \"Labrador\"\n",
    "print(\"Dog.species -: \" , Dog.species)\n",
    "print(\"dog_1.species -: \" , dog_1.species)\n",
    "print(\"dog_2.species -: \" , dog_2.species) "
   ]
  },
  {
   "cell_type": "markdown",
   "metadata": {},
   "source": [
    "# Class vs Instance Methods\n",
    "\n",
    "- Instance Method: Operates on individual objects (instances). Takes `self` as the first parameter(by convention, but any name can be used).\n",
    "\n",
    "- Class Method: Operates on the class itself, not on instances. Takes `cls` as the first parameter (by convention, but any name can be used). Must be marked with `@classmethod`."
   ]
  },
  {
   "cell_type": "code",
   "execution_count": 36,
   "metadata": {},
   "outputs": [
    {
     "name": "stdout",
     "output_type": "stream",
     "text": [
      "Canine\n",
      "-------\n",
      "Labrador\n"
     ]
    }
   ],
   "source": [
    "class Dog:\n",
    "    species = \"Canine\"  # Class attribute\n",
    "\n",
    "    def __init__(self, name):\n",
    "        self.name = name  # Instance attribute\n",
    "\n",
    "    def speak(self):  # Instance method\n",
    "        print(f\"{self.name} says woof!\")\n",
    "\n",
    "    @classmethod\n",
    "    def change_species(cls, new_species):  # Class method\n",
    "        cls.species = new_species\n",
    "\n",
    "dog1 = Dog(\"Brownie\")\n",
    "\n",
    "\n",
    "print(dog1.species)\n",
    "\n",
    "print(\"-------\")\n",
    "\n",
    "# Call class method to change species for all dogs\n",
    "Dog.change_species(\"Labrador\")\n",
    "\n",
    "print(dog1.species)  # Output: Labrador\n"
   ]
  }
 ],
 "metadata": {
  "kernelspec": {
   "display_name": "Python 3",
   "language": "python",
   "name": "python3"
  },
  "language_info": {
   "codemirror_mode": {
    "name": "ipython",
    "version": 3
   },
   "file_extension": ".py",
   "mimetype": "text/x-python",
   "name": "python",
   "nbconvert_exporter": "python",
   "pygments_lexer": "ipython3",
   "version": "3.13.3"
  }
 },
 "nbformat": 4,
 "nbformat_minor": 2
}

{
 "cells": [
  {
   "cell_type": "markdown",
   "metadata": {},
   "source": [
    "# Inheritance\n",
    "\n",
    "Inheritance allows a class to acquire properties and methods from another class, promoting code reuse and logical hierarchy."
   ]
  },
  {
   "cell_type": "code",
   "execution_count": 4,
   "metadata": {},
   "outputs": [
    {
     "name": "stdout",
     "output_type": "stream",
     "text": [
      "eat\n",
      "walk\n",
      "1\n"
     ]
    }
   ],
   "source": [
    "class Animal:\n",
    "    def __init__(self):\n",
    "        self.age = 1\n",
    "\n",
    "    def eat(self):\n",
    "        print(\"eat\")\n",
    "\n",
    "\n",
    "# Animal : Parent, Base Class\n",
    "# Mammal : Child, Sub Class\n",
    "class Mammal(Animal):\n",
    "    def walk(self):\n",
    "        print(\"walk\")\n",
    "\n",
    "\n",
    "m = Mammal()\n",
    "m.eat()\n",
    "m.walk()\n",
    "print(m.age)"
   ]
  },
  {
   "cell_type": "code",
   "execution_count": 6,
   "metadata": {},
   "outputs": [
    {
     "name": "stdout",
     "output_type": "stream",
     "text": [
      "Is m instance of Mammal :  True\n",
      "Is m instance of Animal :  True\n"
     ]
    }
   ],
   "source": [
    "class Animal:\n",
    "    def __init__(self):\n",
    "        self.age = 1\n",
    "\n",
    "    def eat(self):\n",
    "        print(\"eat\")\n",
    "\n",
    "class Mammal(Animal):\n",
    "    def walk(self):\n",
    "        print(\"walk\")\n",
    "\n",
    "\n",
    "m = Mammal()\n",
    "print( \"Is m instance of Mammal : \", isinstance(m, Mammal))\n",
    "print(\"Is m instance of Animal : \",isinstance(m, Animal))"
   ]
  },
  {
   "cell_type": "markdown",
   "metadata": {},
   "source": [
    "# The Object Class\n",
    "\n",
    "The `object class` is the base class in Python. Every class in Python, either directly or indirectly, inherits from the object class. It serves as the parent class for all other classe"
   ]
  },
  {
   "cell_type": "code",
   "execution_count": 7,
   "metadata": {},
   "outputs": [
    {
     "name": "stdout",
     "output_type": "stream",
     "text": [
      "Is m instance of Object  :  True\n"
     ]
    }
   ],
   "source": [
    "class Animal:\n",
    "    def __init__(self):\n",
    "        self.age = 1\n",
    "\n",
    "    def eat(self):\n",
    "        print(\"eat\")\n",
    "\n",
    "class Mammal(Animal):\n",
    "    def walk(self):\n",
    "        print(\"walk\")\n",
    "\n",
    "\n",
    "m = Mammal()\n",
    "print(\"Is m instance of Object  : \",isinstance(m, object))"
   ]
  },
  {
   "cell_type": "markdown",
   "metadata": {},
   "source": [
    "Another useful method in Python is **issubclass()**."
   ]
  },
  {
   "cell_type": "code",
   "execution_count": 11,
   "metadata": {},
   "outputs": [
    {
     "name": "stdout",
     "output_type": "stream",
     "text": [
      "Is Mammal subclass of Object  :  True\n",
      "Is Mammal subclass of Animal  :  True\n",
      "Is Animal subclass of Object  :  True\n"
     ]
    }
   ],
   "source": [
    "print(\"Is Mammal subclass of Object  : \",issubclass(Mammal, object))\n",
    "print(\"Is Mammal subclass of Animal  : \",issubclass(Mammal, Animal))\n",
    "print(\"Is Animal subclass of Object  : \",issubclass(Animal, object))"
   ]
  },
  {
   "cell_type": "markdown",
   "metadata": {},
   "source": [
    "# Method Overriding"
   ]
  },
  {
   "cell_type": "code",
   "execution_count": 13,
   "metadata": {},
   "outputs": [
    {
     "name": "stdout",
     "output_type": "stream",
     "text": [
      "Dog is eating\n"
     ]
    }
   ],
   "source": [
    "class Animal:\n",
    "    def __init__(self):\n",
    "        self.age = 1\n",
    "\n",
    "    def eat(self):\n",
    "        print(\"Animal is eating\")\n",
    "\n",
    "class Dog(Animal):\n",
    "    def eat(self):\n",
    "        print(\"Dog is eating\")\n",
    "\n",
    "\n",
    "dog = Dog()\n",
    "dog.eat()"
   ]
  },
  {
   "cell_type": "markdown",
   "metadata": {},
   "source": [
    "#### Super() keyword"
   ]
  },
  {
   "cell_type": "code",
   "execution_count": 17,
   "metadata": {},
   "outputs": [
    {
     "ename": "AttributeError",
     "evalue": "'Dog' object has no attribute 'age'",
     "output_type": "error",
     "traceback": [
      "\u001b[31m---------------------------------------------------------------------------\u001b[39m",
      "\u001b[31mAttributeError\u001b[39m                            Traceback (most recent call last)",
      "\u001b[36mCell\u001b[39m\u001b[36m \u001b[39m\u001b[32mIn[17]\u001b[39m\u001b[32m, line 18\u001b[39m\n\u001b[32m     14\u001b[39m         \u001b[38;5;28mprint\u001b[39m(\u001b[33m\"\u001b[39m\u001b[33mDog is eating\u001b[39m\u001b[33m\"\u001b[39m)\n\u001b[32m     17\u001b[39m dog = Dog()\n\u001b[32m---> \u001b[39m\u001b[32m18\u001b[39m \u001b[38;5;28mprint\u001b[39m(\u001b[43mdog\u001b[49m\u001b[43m.\u001b[49m\u001b[43mage\u001b[49m)\n",
      "\u001b[31mAttributeError\u001b[39m: 'Dog' object has no attribute 'age'"
     ]
    }
   ],
   "source": [
    "class Animal:\n",
    "    def __init__(self):\n",
    "        self.age = 1\n",
    "\n",
    "    def eat(self):\n",
    "        print(\"Animal is eating\")\n",
    "\n",
    "class Dog(Animal):\n",
    "\n",
    "    def __init__(self):\n",
    "        self.color = \"red\"\n",
    "\n",
    "    def eat(self):\n",
    "        print(\"Dog is eating\")\n",
    "\n",
    "\n",
    "dog = Dog()\n",
    "print(dog.age)"
   ]
  },
  {
   "cell_type": "markdown",
   "metadata": {},
   "source": [
    "In this example, we cannot access the *age* attribute because the constructor of the *Animal* class is overridden by the constructor in the *Dog* class. If we want to initialize the parent class attributes as well, we need to call the parent constructor using the `super()` keyword."
   ]
  },
  {
   "cell_type": "code",
   "execution_count": 18,
   "metadata": {},
   "outputs": [
    {
     "name": "stdout",
     "output_type": "stream",
     "text": [
      "Animal Constructor\n",
      "Dog Constructor\n",
      "1\n",
      "red\n"
     ]
    }
   ],
   "source": [
    "class Animal:\n",
    "    def __init__(self):\n",
    "        print(\"Animal Constructor\")\n",
    "        self.age = 1\n",
    "\n",
    "    def eat(self):\n",
    "        print(\"Animal is eating\")\n",
    "\n",
    "class Dog(Animal):\n",
    "\n",
    "    def __init__(self):\n",
    "        super().__init__()\n",
    "        print(\"Dog Constructor\")\n",
    "        self.color = \"red\"\n",
    "\n",
    "    def eat(self):\n",
    "        print(\"Dog is eating\")\n",
    "\n",
    "\n",
    "dog = Dog()\n",
    "print(dog.age)\n",
    "print(dog.color)"
   ]
  },
  {
   "cell_type": "markdown",
   "metadata": {},
   "source": [
    "In Python, the `super()` keyword can be called anywhere within the class, whereas in Java, `super()` must be called at the top of the constructor."
   ]
  },
  {
   "cell_type": "code",
   "execution_count": 19,
   "metadata": {},
   "outputs": [
    {
     "name": "stdout",
     "output_type": "stream",
     "text": [
      "Dog Constructor\n",
      "Animal Constructor\n",
      "1\n",
      "red\n"
     ]
    }
   ],
   "source": [
    "class Animal:\n",
    "    def __init__(self):\n",
    "        print(\"Animal Constructor\")\n",
    "        self.age = 1\n",
    "\n",
    "    def eat(self):\n",
    "        print(\"Animal is eating\")\n",
    "\n",
    "class Dog(Animal):\n",
    "\n",
    "    def __init__(self):\n",
    "        print(\"Dog Constructor\")\n",
    "        self.color = \"red\"\n",
    "        super().__init__()\n",
    "\n",
    "    def eat(self):\n",
    "        print(\"Dog is eating\")\n",
    "\n",
    "\n",
    "dog = Dog()\n",
    "print(dog.age)\n",
    "print(dog.color)"
   ]
  },
  {
   "cell_type": "markdown",
   "metadata": {},
   "source": [
    "| **Scenario**                          | **Python**                                    | **Java**                                      |\n",
    "|---------------------------------------|-----------------------------------------------|----------------------------------------------|\n",
    "| **Child class without constructor**   | Inherits the parent constructor automatically. | Parent constructor is called automatically if the parent has a default constructor. |\n",
    "| **Child class with constructor**      | Parent constructor is **not** called automatically. `super().__init__()` must be used to call it. | Parent constructor is **not** called automatically. `super()` must be used to explicitly call it. |\n"
   ]
  },
  {
   "cell_type": "markdown",
   "metadata": {},
   "source": [
    "# Multi-level Inheritance\n",
    "\n",
    "Multilevel inheritance means a class inherits from another class, which itself inherits from a third class. It can be useful but should not be used too often. "
   ]
  },
  {
   "cell_type": "code",
   "execution_count": 21,
   "metadata": {},
   "outputs": [
    {
     "name": "stdout",
     "output_type": "stream",
     "text": [
      "Animal speaks\n",
      "Dog barks\n",
      "Puppy plays\n"
     ]
    }
   ],
   "source": [
    "class Animal:\n",
    "    def speak(self):\n",
    "        print(\"Animal speaks\")\n",
    "\n",
    "class Dog(Animal):\n",
    "    def bark(self):\n",
    "        print(\"Dog barks\")\n",
    "\n",
    "class Puppy(Dog):\n",
    "    def play(self):\n",
    "        print(\"Puppy plays\")\n",
    "\n",
    "puppy = Puppy()\n",
    "puppy.speak()  # Inherited from Animal\n",
    "puppy.bark()   # Inherited from Dog\n",
    "puppy.play()   # Defined in Puppy"
   ]
  },
  {
   "cell_type": "markdown",
   "metadata": {},
   "source": [
    "#### Why We Should Avoid Multilevel Inheritance (All the Time)\n",
    "\n",
    "- Increased Complexity: Multilevel inheritance can lead to complex and hard-to-maintain code, especially as the inheritance chain grows longer.\n",
    "\n",
    "- Tight Coupling: Classes become tightly coupled to each other, making it harder to change one class without affecting the others.\n",
    "\n",
    "- Diamond Problem: If multiple inheritance is involved, Python can encounter the \"diamond problem,\" where the inheritance chain can become ambiguous when classes share common ancestors.\n",
    "\n",
    "- Less Flexibility: It reduces flexibility in design since changes in a base class could inadvertently affect all classes in the inheritance chain."
   ]
  },
  {
   "cell_type": "markdown",
   "metadata": {},
   "source": [
    "# Multiple Inheritance\n",
    "\n",
    "Multiple inheritance means a class can inherit from more than one parent class. It allows a class to get features from multiple sources, but it can sometimes cause confusion if the parents have methods with the same name.\n",
    "\n",
    "#### Correct Usage of Multiple Inheritance\n",
    "\n",
    "Use it when both parent classes have unique methods, or when the parent classes are closely related."
   ]
  },
  {
   "cell_type": "code",
   "execution_count": 22,
   "metadata": {},
   "outputs": [
    {
     "name": "stdout",
     "output_type": "stream",
     "text": [
      "fly\n",
      "swim\n"
     ]
    }
   ],
   "source": [
    "class Flyer:\n",
    "    def fly(self):\n",
    "        print(\"fly\")\n",
    "\n",
    "class Swimmer:\n",
    "    def swim(self):\n",
    "        print(\"swim\")\n",
    "\n",
    "class FlyingFish(Flyer, Swimmer):\n",
    "    pass\n",
    "\n",
    "flyingFish = FlyingFish()\n",
    "flyingFish.fly()\n",
    "flyingFish.swim()"
   ]
  },
  {
   "cell_type": "markdown",
   "metadata": {},
   "source": [
    "#### InCorrect Usage of Multiple Inheritance"
   ]
  },
  {
   "cell_type": "code",
   "execution_count": 24,
   "metadata": {},
   "outputs": [
    {
     "name": "stdout",
     "output_type": "stream",
     "text": [
      "greet person\n"
     ]
    }
   ],
   "source": [
    "class Person:\n",
    "    def greet(self):\n",
    "        print(\"greet person\")\n",
    "\n",
    "class Employee:\n",
    "    def greet(self):\n",
    "        print(\"greet employee\")\n",
    "\n",
    "class Manager(Person, Employee):\n",
    "    pass\n",
    "\n",
    "m = Manager()\n",
    "m.greet()"
   ]
  },
  {
   "cell_type": "markdown",
   "metadata": {},
   "source": [
    "This is incorrect because both parent classes have the same method name, so when *Manager* calls *greet()*, it checks if it has its own *greet()* method—if not, it looks at the parent classes in the order they are inherited and uses the method from the first one."
   ]
  },
  {
   "cell_type": "markdown",
   "metadata": {},
   "source": [
    "# Good Example of Inheritance"
   ]
  },
  {
   "cell_type": "code",
   "execution_count": null,
   "metadata": {},
   "outputs": [],
   "source": [
    "class InvalidOperationError(Exception):\n",
    "    pass\n",
    "\n",
    "class Stream:\n",
    "    def __init__(self):\n",
    "        self.opened = False\n",
    "\n",
    "    def open(self):\n",
    "        if self.opened:\n",
    "            raise InvalidOperationError(\"Stream is already open.\")\n",
    "        self.opened = True\n",
    "\n",
    "    def close(self):\n",
    "        if not self.opened:\n",
    "            raise InvalidOperationError(\"Stream is already closed.\")\n",
    "        self.opened = False\n",
    "\n",
    "\n",
    "class FileStram(Stream):\n",
    "    def read(self):\n",
    "        print(\"reading data from file\")\n",
    "\n",
    "\n",
    "class NetworkStream(Stream):\n",
    "    def read(self):\n",
    "        print(\"reading data from network\")\n"
   ]
  },
  {
   "cell_type": "markdown",
   "metadata": {},
   "source": [
    "# Abstact Base classes\n",
    "\n",
    "The above code has a problem: we can create a *Stream* object and open it, but we don’t know what kind of stream it is (file, network, etc.). Also, when creating a new type of stream, we must remember to manually add the *read()* method, which can lead to mistakes. This happens because there is no common rule or structure enforcing the *read()* method.\n",
    "\n",
    "To solve this, we can use `Abstract Base Classes (ABCs)`.\n",
    "\n",
    "Abstract Base Classes are templates that define a set of methods that **must** be implemented by any subclass. They help ensure consistency and prevent errors by enforcing a common interface."
   ]
  },
  {
   "cell_type": "code",
   "execution_count": 28,
   "metadata": {},
   "outputs": [],
   "source": [
    "from abc import ABC, abstractmethod\n",
    "\n",
    "class InvalidOperationError(Exception):\n",
    "    pass\n",
    "\n",
    "class Stream(ABC):\n",
    "    def __init__(self):\n",
    "        self.opened = False\n",
    "\n",
    "    def open(self):\n",
    "        if self.opened:\n",
    "            raise InvalidOperationError(\"Stream is already open.\")\n",
    "        self.opened = True\n",
    "\n",
    "    def close(self):\n",
    "        if not self.opened:\n",
    "            raise InvalidOperationError(\"Stream is already closed.\")\n",
    "        self.opened = False\n",
    "\n",
    "    @abstractmethod\n",
    "    def read(self):\n",
    "        pass\n",
    "\n",
    "\n",
    "class FileStram(Stream):\n",
    "    def read(self):\n",
    "        print(\"reading data from file\")\n",
    "\n",
    "\n",
    "class NetworkStream(Stream):\n",
    "    def read(self):\n",
    "        print(\"reading data from network\")\n",
    "\n",
    "class MemoryStream(Stream):\n",
    "    def read(self):\n",
    "        print(\"reading data from memory\")\n",
    "\n"
   ]
  },
  {
   "cell_type": "markdown",
   "metadata": {},
   "source": [
    "By using abstract base classes, we solved both problems in the design:\n",
    "\n",
    "1. The Stream class can no longer be instantiated, because it is now an abstract class (it inherits from ABC). Abstract classes are meant to be extended and cannot be used to create objects directly.\n",
    "\n",
    "2. All subclasses are now forced to implement the read() method. If a subclass like MemoryStream does not define the read() method, it will also be treated as abstract and cannot be instantiated. This ensures consistency and prevents errors."
   ]
  },
  {
   "cell_type": "markdown",
   "metadata": {},
   "source": [
    "# Polymorphism"
   ]
  },
  {
   "cell_type": "code",
   "execution_count": 30,
   "metadata": {},
   "outputs": [
    {
     "name": "stdout",
     "output_type": "stream",
     "text": [
      "Dropdownlist draw\n",
      "TextBox draw\n"
     ]
    }
   ],
   "source": [
    "from abc import ABC, abstractmethod\n",
    "\n",
    "class UIControl(ABC):\n",
    "\n",
    "    @abstractmethod\n",
    "    def draw(self):\n",
    "        pass\n",
    "\n",
    "class TextBox(UIControl):\n",
    "     def draw(self):\n",
    "        print(\"TextBox draw\")\n",
    "\n",
    "class DropDownList(UIControl):\n",
    "     def draw(self):\n",
    "        print(\"Dropdownlist draw\")\n",
    "\n",
    "\n",
    "def drawing(control):  # Passes UIControl as an argument\n",
    "    control.draw()\n",
    "\n",
    "\n",
    "ddl = DropDownList()\n",
    "drawing(ddl)\n",
    "tb = TextBox()\n",
    "drawing(tb)"
   ]
  },
  {
   "cell_type": "markdown",
   "metadata": {},
   "source": [
    "Now, let's modify the above code slightly so that we can pass a list of UI controls."
   ]
  },
  {
   "cell_type": "code",
   "execution_count": null,
   "metadata": {},
   "outputs": [
    {
     "name": "stdout",
     "output_type": "stream",
     "text": [
      "Dropdownlist draw\n",
      "TextBox draw\n"
     ]
    }
   ],
   "source": [
    "from abc import ABC, abstractmethod\n",
    "\n",
    "class UIControl(ABC):\n",
    "\n",
    "    @abstractmethod\n",
    "    def draw(self):\n",
    "        pass\n",
    "\n",
    "class TextBox(UIControl):\n",
    "     def draw(self):\n",
    "        print(\"TextBox draw\")\n",
    "\n",
    "class DropDownList(UIControl):\n",
    "     def draw(self):\n",
    "        print(\"Dropdownlist draw\")\n",
    "\n",
    "\n",
    "def drawing(controls):  # Implement Passes list of UIControls as an argument\n",
    "    for control in controls:\n",
    "        control.draw()\n",
    "\n",
    "ddl = DropDownList()\n",
    "textbox = TextBox()\n",
    "drawing([ddl, textbox])"
   ]
  },
  {
   "cell_type": "markdown",
   "metadata": {},
   "source": [
    "The example above demonstrates `polymorphism`. The *draw()* method takes many different forms depending on the object it is called on, and this is decided at `runtime`. We can call the same draw() method on different UI controls like *TextBox*, *DropDownList*, *RadioButton*, or *CheckBox*, and each will behave differently based on its own implementation."
   ]
  },
  {
   "cell_type": "markdown",
   "metadata": {},
   "source": [
    "# Duck Typing\n",
    "\n",
    "The first example shows how most classes use `polymorphism` through an abstract base class. Each UI control inherits from *UIControl* and implements the *draw()* method. The *drawing()* function takes a list of UI controls and calls draw() on each one.\n",
    "\n",
    "However, because Python is a **dynamic language**, we can achieve the same result without using inheritance."
   ]
  },
  {
   "cell_type": "code",
   "execution_count": 32,
   "metadata": {},
   "outputs": [
    {
     "name": "stdout",
     "output_type": "stream",
     "text": [
      "Dropdownlist draw\n",
      "TextBox draw\n"
     ]
    }
   ],
   "source": [
    "class TextBox:\n",
    "     def draw(self):\n",
    "        print(\"TextBox draw\")\n",
    "\n",
    "class DropDownList:\n",
    "     def draw(self):\n",
    "        print(\"Dropdownlist draw\")\n",
    "\n",
    "\n",
    "def drawing(controls):  # Implement Passes list of UIControls as an argument\n",
    "    for control in controls:\n",
    "        control.draw()\n",
    "\n",
    "ddl = DropDownList()\n",
    "textbox = TextBox()\n",
    "drawing([ddl, textbox])"
   ]
  },
  {
   "cell_type": "markdown",
   "metadata": {},
   "source": [
    "In the above code, we define *TextBox* and *DropDownList* without inheriting from any base class. The *drawing()* function still works as long as the objects passed to it have a *draw()* method.\n",
    "\n",
    "This is called **`duck typing`** in Python—`\"If it walks like a duck and quacks like a duck, it’s a duck.\"`\n",
    "In other words, the function doesn't care about the type of the object; it just expects the object to have a *draw()* method.\n",
    "\n",
    "Even though duck typing works fine, it's still good practice to define a common base class like *UIControl*, especially in larger projects, to make your code more organized, consistent, and easier to understand."
   ]
  },
  {
   "cell_type": "markdown",
   "metadata": {},
   "source": [
    "# Extending Built-in Types\n",
    "\n",
    "Extending built-in types means creating a new class that inherits from a built-in Python type (like *str*, *list*, or *dict*) and adding new methods or overriding existing methods to customize its behavior."
   ]
  },
  {
   "cell_type": "code",
   "execution_count": 37,
   "metadata": {},
   "outputs": [
    {
     "name": "stdout",
     "output_type": "stream",
     "text": [
      "PYTHON\n",
      "Python Python\n"
     ]
    }
   ],
   "source": [
    "# Example 01 -: Extending str Type\n",
    "\n",
    "class Text(str):   # Inheriting from the built-in str class\n",
    "    def duplicate(self):\n",
    "        return self + \" \" + self\n",
    "    \n",
    "text = Text(\"Python\")\n",
    "print(text.upper()) # Using original method from str class\n",
    "print(text.duplicate()) # Using our custom method "
   ]
  },
  {
   "cell_type": "code",
   "execution_count": null,
   "metadata": {},
   "outputs": [
    {
     "name": "stdout",
     "output_type": "stream",
     "text": [
      "Append called\n"
     ]
    }
   ],
   "source": [
    "# Example 02 -: Extending list with Custom Behavior\n",
    "\n",
    "class TrackableList(list):  # Inheriting from the built-in list class\n",
    "    def append(self, object): # Overriding the append method\n",
    "        print(\"Append called\")  # Custom behavior before appending\n",
    "        return super().append(object) # Call the original append method\n",
    "    \n",
    "list_1 = TrackableList()\n",
    "list_1.append(\"1\")  # Output: Append called, then adds \"1\" to the list"
   ]
  },
  {
   "cell_type": "markdown",
   "metadata": {},
   "source": [
    "# Data Classes"
   ]
  },
  {
   "cell_type": "code",
   "execution_count": null,
   "metadata": {},
   "outputs": [
    {
     "name": "stdout",
     "output_type": "stream",
     "text": [
      "True\n"
     ]
    }
   ],
   "source": [
    "class Point:\n",
    "    def __init__(self, x, y):\n",
    "        self.x = x\n",
    "        self.y = y\n",
    "\n",
    "    def __eq__(self, other):\n",
    "        return self.x == other.x and self.y == other.y\n",
    "    \n",
    "p1 = Point(1, 2)\n",
    "p2 = Point(1,2)\n",
    "\n",
    "print(id(p1)) # get the address of p1\n",
    "print(id(p2)) # get the address of p2\n",
    "\n",
    "print(p1 == p2)"
   ]
  },
  {
   "cell_type": "markdown",
   "metadata": {},
   "source": [
    "In the above example, the *Point* class only holds data and has no real behavior. To compare two Point objects by value, we had to manually implement the `__eq__` method.\n",
    "\n",
    "But when a class is only used to store data, we can simplify our code using `namedtuple`, which automatically gives us useful features like value comparison, readable representation, and less boilerplate.\n",
    "\n",
    "Also, keep in mind that **namedtuples are immutable**, meaning you can't change their values after creation."
   ]
  },
  {
   "cell_type": "code",
   "execution_count": 40,
   "metadata": {},
   "outputs": [
    {
     "name": "stdout",
     "output_type": "stream",
     "text": [
      "True\n",
      "1\n"
     ]
    }
   ],
   "source": [
    "from collections import namedtuple\n",
    "\n",
    "Point = namedtuple(\"Point\", [\"x\", \"y\"])\n",
    "\n",
    "p1 = Point(x=1, y=2)\n",
    "p2 = Point(x=1, y=2)\n",
    "\n",
    "print(p1 == p2)\n",
    "print(p1.x)"
   ]
  }
 ],
 "metadata": {
  "kernelspec": {
   "display_name": "Python 3",
   "language": "python",
   "name": "python3"
  },
  "language_info": {
   "codemirror_mode": {
    "name": "ipython",
    "version": 3
   },
   "file_extension": ".py",
   "mimetype": "text/x-python",
   "name": "python",
   "nbconvert_exporter": "python",
   "pygments_lexer": "ipython3",
   "version": "3.13.3"
  }
 },
 "nbformat": 4,
 "nbformat_minor": 2
}
